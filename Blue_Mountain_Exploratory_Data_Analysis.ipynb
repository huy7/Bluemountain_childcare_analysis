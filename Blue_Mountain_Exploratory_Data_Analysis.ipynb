{
  "cells": [
    {
      "cell_type": "markdown",
      "metadata": {
        "id": "view-in-github",
        "colab_type": "text"
      },
      "source": [
        "<a href=\"https://colab.research.google.com/github/huy7/Bluemountain_childcare_analysis/blob/main/Blue_Mountain_Exploratory_Data_Analysis.ipynb\" target=\"_parent\"><img src=\"https://colab.research.google.com/assets/colab-badge.svg\" alt=\"Open In Colab\"/></a>"
      ]
    },
    {
      "cell_type": "markdown",
      "metadata": {
        "id": "YFXWT13q4Zr3"
      },
      "source": [
        "## Project Goal\n",
        "1.   Top 3 insights that our customer’s team can take away to make decisions/improvements to their business\n",
        "2.   Outline a particular key trend you have uncovered in the data which would be helpful for them focus on over the next 6 months.  Why should they focus on this, and what in the data/report supports it \n",
        "\n",
        "\n",
        "\n"
      ]
    },
    {
      "cell_type": "markdown",
      "metadata": {
        "id": "zZYxahF_5bWZ"
      },
      "source": [
        "This is a customer survey and NPS data, look at a customer, we know exactly how likely they want to recommend Blue_Mountain childcare to other, if they are very likely, there might be some exemplary service that standing out to them; and also in reverse, there can be service which hit all time low.\n",
        "\n",
        "A very worth-to-mention point is the level in which we can really trust the feedback data that they give. So first most important thing, profiling the data and see if there's data integrity issue. "
      ]
    },
    {
      "cell_type": "code",
      "execution_count": 3,
      "metadata": {
        "id": "ZqdOKfube8Io"
      },
      "outputs": [],
      "source": [
        "import pandas as pd\n",
        "import numpy as np\n",
        "import matplotlib.pyplot as plt\n",
        "import seaborn as sns"
      ]
    },
    {
      "cell_type": "code",
      "execution_count": 4,
      "metadata": {
        "id": "mZtqIJNThyTV"
      },
      "outputs": [],
      "source": [
        "data_src = \"https://github.com/huy7/Bluemountain_childcare_analysis/blob/main/blue_mountain_dataset.xlsx?raw=true\"\n",
        "raw_df = pd.read_excel(data_src, sheet_name = \"Data\")"
      ]
    },
    {
      "cell_type": "markdown",
      "metadata": {
        "id": "8s1UAeVpPtRE"
      },
      "source": []
    },
    {
      "cell_type": "code",
      "execution_count": 5,
      "metadata": {
        "colab": {
          "base_uri": "https://localhost:8080/",
          "height": 0
        },
        "id": "uEp9u1eV20yA",
        "outputId": "a62125a3-945f-4f39-ec25-b98f0cfe51a6"
      },
      "outputs": [
        {
          "output_type": "execute_result",
          "data": {
            "text/plain": [
              "   Area       City  NPS NPS Label Ambience And Atmosphere  \\\n",
              "0     7     Sydney   10  Promoter       5. Strongly Agree   \n",
              "1     4  Melbourne   10  Promoter       5. Strongly Agree   \n",
              "2    13   Brisbane   10  Promoter       5. Strongly Agree   \n",
              "3    16      Perth    9  Promoter       5. Strongly Agree   \n",
              "4    20   Adelaide   10  Promoter       5. Strongly Agree   \n",
              "\n",
              "  Curriculum and Activities Visit Booking Process Environment And Facilities  \\\n",
              "0         5. Strongly Agree     5. Strongly Agree          5. Strongly Agree   \n",
              "1         5. Strongly Agree     5. Strongly Agree          5. Strongly Agree   \n",
              "2         5. Strongly Agree     5. Strongly Agree          5. Strongly Agree   \n",
              "3         5. Strongly Agree     5. Strongly Agree          5. Strongly Agree   \n",
              "4         5. Strongly Agree     5. Strongly Agree          5. Strongly Agree   \n",
              "\n",
              "  Information and Experience          Questions  ... Survey Sent Date [GMT]  \\\n",
              "0          5. Strongly Agree  5. Strongly Agree  ...             2022-05-13   \n",
              "1          5. Strongly Agree  5. Strongly Agree  ...             2022-05-11   \n",
              "2          5. Strongly Agree  5. Strongly Agree  ...             2022-04-29   \n",
              "3          5. Strongly Agree  5. Strongly Agree  ...             2022-05-13   \n",
              "4          5. Strongly Agree  5. Strongly Agree  ...             2022-05-13   \n",
              "\n",
              "  Start Date                            NPS Feedback Categories  \\\n",
              "0 2022-05-11  \"Campus Directors & Educators\",\"Curriculum & P...   \n",
              "1 2022-05-06                                    \"Communication\"   \n",
              "2 2022-04-27  \"Campus Directors & Educators\",\"Cleanliness & ...   \n",
              "3 2022-05-10  \"App & Child Updates\",\"Campus Directors & Educ...   \n",
              "4 2022-05-11     \"Campus Directors & Educators\",\"Communication\"   \n",
              "\n",
              "  Improvement Feedback Categories Response Month (YYYY-MM)  \\\n",
              "0                             NaN                  2022-05   \n",
              "1                             NaN                  2022-05   \n",
              "2                             NaN                  2022-05   \n",
              "3                             NaN                  2022-05   \n",
              "4                             NaN                  2022-05   \n",
              "\n",
              "  Response Year (YYYY) Response Quarter (YYYY-Q#) Workflow Status  \\\n",
              "0                 2022                    2022-Q2          Closed   \n",
              "1                 2022                    2022-Q2          Closed   \n",
              "2                 2022                    2022-Q2          Closed   \n",
              "3                 2022                    2022-Q2     In Progress   \n",
              "4                 2022                    2022-Q2         Pending   \n",
              "\n",
              "       Last Modified Date  Division  \n",
              "0 2022-05-25 16:47:45.627      Blue  \n",
              "1 2022-05-25 17:41:09.508       Red  \n",
              "2 2022-05-24 10:40:36.112     Green  \n",
              "3 2022-05-24 13:04:49.949      Blue  \n",
              "4 2022-05-23 20:48:56.323    Purple  \n",
              "\n",
              "[5 rows x 24 columns]"
            ],
            "text/html": [
              "\n",
              "  <div id=\"df-c9ff7950-1c24-4bd3-a69b-2d21f4019236\">\n",
              "    <div class=\"colab-df-container\">\n",
              "      <div>\n",
              "<style scoped>\n",
              "    .dataframe tbody tr th:only-of-type {\n",
              "        vertical-align: middle;\n",
              "    }\n",
              "\n",
              "    .dataframe tbody tr th {\n",
              "        vertical-align: top;\n",
              "    }\n",
              "\n",
              "    .dataframe thead th {\n",
              "        text-align: right;\n",
              "    }\n",
              "</style>\n",
              "<table border=\"1\" class=\"dataframe\">\n",
              "  <thead>\n",
              "    <tr style=\"text-align: right;\">\n",
              "      <th></th>\n",
              "      <th>Area</th>\n",
              "      <th>City</th>\n",
              "      <th>NPS</th>\n",
              "      <th>NPS Label</th>\n",
              "      <th>Ambience And Atmosphere</th>\n",
              "      <th>Curriculum and Activities</th>\n",
              "      <th>Visit Booking Process</th>\n",
              "      <th>Environment And Facilities</th>\n",
              "      <th>Information and Experience</th>\n",
              "      <th>Questions</th>\n",
              "      <th>...</th>\n",
              "      <th>Survey Sent Date [GMT]</th>\n",
              "      <th>Start Date</th>\n",
              "      <th>NPS Feedback Categories</th>\n",
              "      <th>Improvement Feedback Categories</th>\n",
              "      <th>Response Month (YYYY-MM)</th>\n",
              "      <th>Response Year (YYYY)</th>\n",
              "      <th>Response Quarter (YYYY-Q#)</th>\n",
              "      <th>Workflow Status</th>\n",
              "      <th>Last Modified Date</th>\n",
              "      <th>Division</th>\n",
              "    </tr>\n",
              "  </thead>\n",
              "  <tbody>\n",
              "    <tr>\n",
              "      <th>0</th>\n",
              "      <td>7</td>\n",
              "      <td>Sydney</td>\n",
              "      <td>10</td>\n",
              "      <td>Promoter</td>\n",
              "      <td>5. Strongly Agree</td>\n",
              "      <td>5. Strongly Agree</td>\n",
              "      <td>5. Strongly Agree</td>\n",
              "      <td>5. Strongly Agree</td>\n",
              "      <td>5. Strongly Agree</td>\n",
              "      <td>5. Strongly Agree</td>\n",
              "      <td>...</td>\n",
              "      <td>2022-05-13</td>\n",
              "      <td>2022-05-11</td>\n",
              "      <td>\"Campus Directors &amp; Educators\",\"Curriculum &amp; P...</td>\n",
              "      <td>NaN</td>\n",
              "      <td>2022-05</td>\n",
              "      <td>2022</td>\n",
              "      <td>2022-Q2</td>\n",
              "      <td>Closed</td>\n",
              "      <td>2022-05-25 16:47:45.627</td>\n",
              "      <td>Blue</td>\n",
              "    </tr>\n",
              "    <tr>\n",
              "      <th>1</th>\n",
              "      <td>4</td>\n",
              "      <td>Melbourne</td>\n",
              "      <td>10</td>\n",
              "      <td>Promoter</td>\n",
              "      <td>5. Strongly Agree</td>\n",
              "      <td>5. Strongly Agree</td>\n",
              "      <td>5. Strongly Agree</td>\n",
              "      <td>5. Strongly Agree</td>\n",
              "      <td>5. Strongly Agree</td>\n",
              "      <td>5. Strongly Agree</td>\n",
              "      <td>...</td>\n",
              "      <td>2022-05-11</td>\n",
              "      <td>2022-05-06</td>\n",
              "      <td>\"Communication\"</td>\n",
              "      <td>NaN</td>\n",
              "      <td>2022-05</td>\n",
              "      <td>2022</td>\n",
              "      <td>2022-Q2</td>\n",
              "      <td>Closed</td>\n",
              "      <td>2022-05-25 17:41:09.508</td>\n",
              "      <td>Red</td>\n",
              "    </tr>\n",
              "    <tr>\n",
              "      <th>2</th>\n",
              "      <td>13</td>\n",
              "      <td>Brisbane</td>\n",
              "      <td>10</td>\n",
              "      <td>Promoter</td>\n",
              "      <td>5. Strongly Agree</td>\n",
              "      <td>5. Strongly Agree</td>\n",
              "      <td>5. Strongly Agree</td>\n",
              "      <td>5. Strongly Agree</td>\n",
              "      <td>5. Strongly Agree</td>\n",
              "      <td>5. Strongly Agree</td>\n",
              "      <td>...</td>\n",
              "      <td>2022-04-29</td>\n",
              "      <td>2022-04-27</td>\n",
              "      <td>\"Campus Directors &amp; Educators\",\"Cleanliness &amp; ...</td>\n",
              "      <td>NaN</td>\n",
              "      <td>2022-05</td>\n",
              "      <td>2022</td>\n",
              "      <td>2022-Q2</td>\n",
              "      <td>Closed</td>\n",
              "      <td>2022-05-24 10:40:36.112</td>\n",
              "      <td>Green</td>\n",
              "    </tr>\n",
              "    <tr>\n",
              "      <th>3</th>\n",
              "      <td>16</td>\n",
              "      <td>Perth</td>\n",
              "      <td>9</td>\n",
              "      <td>Promoter</td>\n",
              "      <td>5. Strongly Agree</td>\n",
              "      <td>5. Strongly Agree</td>\n",
              "      <td>5. Strongly Agree</td>\n",
              "      <td>5. Strongly Agree</td>\n",
              "      <td>5. Strongly Agree</td>\n",
              "      <td>5. Strongly Agree</td>\n",
              "      <td>...</td>\n",
              "      <td>2022-05-13</td>\n",
              "      <td>2022-05-10</td>\n",
              "      <td>\"App &amp; Child Updates\",\"Campus Directors &amp; Educ...</td>\n",
              "      <td>NaN</td>\n",
              "      <td>2022-05</td>\n",
              "      <td>2022</td>\n",
              "      <td>2022-Q2</td>\n",
              "      <td>In Progress</td>\n",
              "      <td>2022-05-24 13:04:49.949</td>\n",
              "      <td>Blue</td>\n",
              "    </tr>\n",
              "    <tr>\n",
              "      <th>4</th>\n",
              "      <td>20</td>\n",
              "      <td>Adelaide</td>\n",
              "      <td>10</td>\n",
              "      <td>Promoter</td>\n",
              "      <td>5. Strongly Agree</td>\n",
              "      <td>5. Strongly Agree</td>\n",
              "      <td>5. Strongly Agree</td>\n",
              "      <td>5. Strongly Agree</td>\n",
              "      <td>5. Strongly Agree</td>\n",
              "      <td>5. Strongly Agree</td>\n",
              "      <td>...</td>\n",
              "      <td>2022-05-13</td>\n",
              "      <td>2022-05-11</td>\n",
              "      <td>\"Campus Directors &amp; Educators\",\"Communication\"</td>\n",
              "      <td>NaN</td>\n",
              "      <td>2022-05</td>\n",
              "      <td>2022</td>\n",
              "      <td>2022-Q2</td>\n",
              "      <td>Pending</td>\n",
              "      <td>2022-05-23 20:48:56.323</td>\n",
              "      <td>Purple</td>\n",
              "    </tr>\n",
              "  </tbody>\n",
              "</table>\n",
              "<p>5 rows × 24 columns</p>\n",
              "</div>\n",
              "      <button class=\"colab-df-convert\" onclick=\"convertToInteractive('df-c9ff7950-1c24-4bd3-a69b-2d21f4019236')\"\n",
              "              title=\"Convert this dataframe to an interactive table.\"\n",
              "              style=\"display:none;\">\n",
              "        \n",
              "  <svg xmlns=\"http://www.w3.org/2000/svg\" height=\"24px\"viewBox=\"0 0 24 24\"\n",
              "       width=\"24px\">\n",
              "    <path d=\"M0 0h24v24H0V0z\" fill=\"none\"/>\n",
              "    <path d=\"M18.56 5.44l.94 2.06.94-2.06 2.06-.94-2.06-.94-.94-2.06-.94 2.06-2.06.94zm-11 1L8.5 8.5l.94-2.06 2.06-.94-2.06-.94L8.5 2.5l-.94 2.06-2.06.94zm10 10l.94 2.06.94-2.06 2.06-.94-2.06-.94-.94-2.06-.94 2.06-2.06.94z\"/><path d=\"M17.41 7.96l-1.37-1.37c-.4-.4-.92-.59-1.43-.59-.52 0-1.04.2-1.43.59L10.3 9.45l-7.72 7.72c-.78.78-.78 2.05 0 2.83L4 21.41c.39.39.9.59 1.41.59.51 0 1.02-.2 1.41-.59l7.78-7.78 2.81-2.81c.8-.78.8-2.07 0-2.86zM5.41 20L4 18.59l7.72-7.72 1.47 1.35L5.41 20z\"/>\n",
              "  </svg>\n",
              "      </button>\n",
              "      \n",
              "  <style>\n",
              "    .colab-df-container {\n",
              "      display:flex;\n",
              "      flex-wrap:wrap;\n",
              "      gap: 12px;\n",
              "    }\n",
              "\n",
              "    .colab-df-convert {\n",
              "      background-color: #E8F0FE;\n",
              "      border: none;\n",
              "      border-radius: 50%;\n",
              "      cursor: pointer;\n",
              "      display: none;\n",
              "      fill: #1967D2;\n",
              "      height: 32px;\n",
              "      padding: 0 0 0 0;\n",
              "      width: 32px;\n",
              "    }\n",
              "\n",
              "    .colab-df-convert:hover {\n",
              "      background-color: #E2EBFA;\n",
              "      box-shadow: 0px 1px 2px rgba(60, 64, 67, 0.3), 0px 1px 3px 1px rgba(60, 64, 67, 0.15);\n",
              "      fill: #174EA6;\n",
              "    }\n",
              "\n",
              "    [theme=dark] .colab-df-convert {\n",
              "      background-color: #3B4455;\n",
              "      fill: #D2E3FC;\n",
              "    }\n",
              "\n",
              "    [theme=dark] .colab-df-convert:hover {\n",
              "      background-color: #434B5C;\n",
              "      box-shadow: 0px 1px 3px 1px rgba(0, 0, 0, 0.15);\n",
              "      filter: drop-shadow(0px 1px 2px rgba(0, 0, 0, 0.3));\n",
              "      fill: #FFFFFF;\n",
              "    }\n",
              "  </style>\n",
              "\n",
              "      <script>\n",
              "        const buttonEl =\n",
              "          document.querySelector('#df-c9ff7950-1c24-4bd3-a69b-2d21f4019236 button.colab-df-convert');\n",
              "        buttonEl.style.display =\n",
              "          google.colab.kernel.accessAllowed ? 'block' : 'none';\n",
              "\n",
              "        async function convertToInteractive(key) {\n",
              "          const element = document.querySelector('#df-c9ff7950-1c24-4bd3-a69b-2d21f4019236');\n",
              "          const dataTable =\n",
              "            await google.colab.kernel.invokeFunction('convertToInteractive',\n",
              "                                                     [key], {});\n",
              "          if (!dataTable) return;\n",
              "\n",
              "          const docLinkHtml = 'Like what you see? Visit the ' +\n",
              "            '<a target=\"_blank\" href=https://colab.research.google.com/notebooks/data_table.ipynb>data table notebook</a>'\n",
              "            + ' to learn more about interactive tables.';\n",
              "          element.innerHTML = '';\n",
              "          dataTable['output_type'] = 'display_data';\n",
              "          await google.colab.output.renderOutput(dataTable, element);\n",
              "          const docLink = document.createElement('div');\n",
              "          docLink.innerHTML = docLinkHtml;\n",
              "          element.appendChild(docLink);\n",
              "        }\n",
              "      </script>\n",
              "    </div>\n",
              "  </div>\n",
              "  "
            ]
          },
          "metadata": {},
          "execution_count": 5
        }
      ],
      "source": [
        "raw_df.head()"
      ]
    },
    {
      "cell_type": "markdown",
      "metadata": {
        "id": "6BT8pbkEhehc"
      },
      "source": [
        "# Data profiling\n",
        "\n",
        "Get to know how the data looks like:\n",
        "\n",
        "1. What type of data?\n",
        "2. what's the distribution?\n",
        "3. Is there any data quality issue\n"
      ]
    },
    {
      "cell_type": "code",
      "execution_count": 6,
      "metadata": {
        "colab": {
          "base_uri": "https://localhost:8080/"
        },
        "id": "gk_fXHyXhg7k",
        "outputId": "b3f9c002-29cd-46e0-cca6-70c07dd4b09b"
      },
      "outputs": [
        {
          "output_type": "execute_result",
          "data": {
            "text/plain": [
              "Index(['Area', 'City', 'NPS', 'NPS Label', 'Ambience And Atmosphere',\n",
              "       'Curriculum and Activities', 'Visit Booking Process',\n",
              "       'Environment And Facilities', 'Information and Experience', 'Questions',\n",
              "       'Nutritious Meals', 'Value For Money', 'Survey Response Date [GMT]',\n",
              "       'Responded Week Starting on [GMT]', 'Survey Sent Date [GMT]',\n",
              "       'Start Date', 'NPS Feedback Categories',\n",
              "       'Improvement Feedback Categories', 'Response Month (YYYY-MM)',\n",
              "       'Response Year (YYYY)', 'Response Quarter (YYYY-Q#)', 'Workflow Status',\n",
              "       'Last Modified Date', 'Division'],\n",
              "      dtype='object')"
            ]
          },
          "metadata": {},
          "execution_count": 6
        }
      ],
      "source": [
        "#Get to see all the column name\n",
        "raw_df.columns"
      ]
    },
    {
      "cell_type": "markdown",
      "metadata": {
        "id": "6W0EOFaFiAlr"
      },
      "source": [
        "We know are and city refer to the samething (but not exactly what exactly they referring to is actually pretty annoying for me). But anyway, here's how it looks like. We try to use visualisation to make this notebook as lively and as colorful as possible. Also a way for me to practice my visualisation skill tho :)"
      ]
    },
    {
      "cell_type": "markdown",
      "source": [
        "###0.Area"
      ],
      "metadata": {
        "id": "Sli0ZmaeeiML"
      }
    },
    {
      "cell_type": "code",
      "source": [
        "raw_df[\"Area\"].describe()"
      ],
      "metadata": {
        "colab": {
          "base_uri": "https://localhost:8080/"
        },
        "id": "0r3DihZoehHd",
        "outputId": "a2d8c523-0ade-48b2-8b9e-74e51e33dc4f"
      },
      "execution_count": 7,
      "outputs": [
        {
          "output_type": "execute_result",
          "data": {
            "text/plain": [
              "count    2035.000000\n",
              "mean       12.473710\n",
              "std         7.098525\n",
              "min         1.000000\n",
              "25%         7.000000\n",
              "50%        12.000000\n",
              "75%        19.000000\n",
              "max        25.000000\n",
              "Name: Area, dtype: float64"
            ]
          },
          "metadata": {},
          "execution_count": 7
        }
      ]
    },
    {
      "cell_type": "markdown",
      "metadata": {
        "id": "qAFFxbTnkpR_"
      },
      "source": [
        "## 1. City: Where is the healthcare located (in Australia)"
      ]
    },
    {
      "cell_type": "markdown",
      "source": [
        "###How many city?"
      ],
      "metadata": {
        "id": "LSxNytChIjlp"
      }
    },
    {
      "cell_type": "code",
      "execution_count": 8,
      "metadata": {
        "colab": {
          "base_uri": "https://localhost:8080/"
        },
        "id": "VOzenlXAichU",
        "outputId": "2ebb37ff-1fe7-4285-e384-5fdd2495a9e4"
      },
      "outputs": [
        {
          "output_type": "execute_result",
          "data": {
            "text/plain": [
              "count              2035\n",
              "unique              337\n",
              "top       21_Cranbourne\n",
              "freq                 18\n",
              "Name: City, dtype: object"
            ]
          },
          "metadata": {},
          "execution_count": 8
        }
      ],
      "source": [
        "df = raw_df.copy()\n",
        "(raw_df[\"City\"] + raw_df[\"Area\"].astype(str)).describe()\n",
        "df[\"City\"] = raw_df[\"Area\"].astype(str) + \"_\" + raw_df[\"City\"]\n",
        "df[\"City\"].describe()"
      ]
    },
    {
      "cell_type": "markdown",
      "metadata": {
        "id": "dyPGkrAj2TFo"
      },
      "source": [
        "Total of 337 City, have to be a big Pre-school org. The city with most survey response in the perior is Cranbourne, with 18 responses. "
      ]
    },
    {
      "cell_type": "markdown",
      "source": [
        "### How many response per each city?"
      ],
      "metadata": {
        "id": "2-0_eZmJIcLB"
      }
    },
    {
      "cell_type": "code",
      "source": [
        "city_response = df[\"City\"].value_counts()\n"
      ],
      "metadata": {
        "id": "drrsAKE5Igcx"
      },
      "execution_count": 9,
      "outputs": []
    },
    {
      "cell_type": "code",
      "source": [
        "city_response.describe()"
      ],
      "metadata": {
        "colab": {
          "base_uri": "https://localhost:8080/"
        },
        "id": "CQ8jrbJaJ60W",
        "outputId": "10b00c12-b699-4268-a789-6d1dcb086f1e"
      },
      "execution_count": 10,
      "outputs": [
        {
          "output_type": "execute_result",
          "data": {
            "text/plain": [
              "count    337.000000\n",
              "mean       6.038576\n",
              "std        3.266213\n",
              "min        1.000000\n",
              "25%        4.000000\n",
              "50%        5.000000\n",
              "75%        8.000000\n",
              "max       18.000000\n",
              "Name: City, dtype: float64"
            ]
          },
          "metadata": {},
          "execution_count": 10
        }
      ]
    },
    {
      "cell_type": "markdown",
      "source": [
        "- at least 1 response per each City\n",
        "- maximum is 18\n",
        "- In average a city receive 5 responses\n",
        "- About 50 percent of the city receive 4-8 response"
      ],
      "metadata": {
        "id": "P5Hbdop6KLw6"
      }
    },
    {
      "cell_type": "code",
      "execution_count": 11,
      "metadata": {
        "colab": {
          "base_uri": "https://localhost:8080/",
          "height": 0
        },
        "id": "30GhqDmR1U7E",
        "outputId": "9b2bac31-d9ad-466f-f195-05b79678cabf"
      },
      "outputs": [
        {
          "output_type": "stream",
          "name": "stderr",
          "text": [
            "/usr/local/lib/python3.7/dist-packages/seaborn/_decorators.py:43: FutureWarning: Pass the following variable as a keyword arg: x. From version 0.12, the only valid positional argument will be `data`, and passing other arguments without an explicit keyword will result in an error or misinterpretation.\n",
            "  FutureWarning\n"
          ]
        },
        {
          "output_type": "execute_result",
          "data": {
            "text/plain": [
              "<matplotlib.axes._subplots.AxesSubplot at 0x7ff69c90f850>"
            ]
          },
          "metadata": {},
          "execution_count": 11
        },
        {
          "output_type": "display_data",
          "data": {
            "text/plain": [
              "<Figure size 432x288 with 1 Axes>"
            ],
            "image/png": "[encoded data removed]"
          },
          "metadata": {
            "needs_background": "light"
          }
        }
      ],
      "source": [
        "sns.boxplot(city_response)"
      ]
    },
    {
      "cell_type": "markdown",
      "source": [
        "- Right skewed distribution. Some city have exceptionally high number of response\n",
        "- Outlier threshold: From the graphs, anything more than 13 is worth to look at\n"
      ],
      "metadata": {
        "id": "AyyrZ7nPK1Ba"
      }
    },
    {
      "cell_type": "markdown",
      "source": [
        "Why there's so many response in those city? (city with more than 13 response)"
      ],
      "metadata": {
        "id": "HmsAICQXLRKO"
      }
    },
    {
      "cell_type": "code",
      "execution_count": 12,
      "metadata": {
        "colab": {
          "base_uri": "https://localhost:8080/"
        },
        "id": "EFTd4AzM6wNY",
        "outputId": "b7c1c652-64f5-4aa4-f90c-121e2eb23610"
      },
      "outputs": [
        {
          "output_type": "stream",
          "name": "stdout",
          "text": [
            "21_Cranbourne      18\n",
            "9_Armidale         18\n",
            "5_Blaxland         17\n",
            "6_Southport        16\n",
            "23_Kyneton         15\n",
            "11_Mount Barker    14\n",
            "12_Griffith        14\n",
            "1_Bendigo          14\n",
            "5_Ballina          14\n",
            "Name: City, dtype: int64\n",
            "Total numer of city have >= 14 responses 9\n",
            "Total numer of city have >= 13 responses 14\n"
          ]
        }
      ],
      "source": [
        "#City with number of responses >= 14\n",
        "response_city = df[\"City\"].value_counts()\n",
        "print(response_city[response_city >= 14])\n",
        "print(\"Total numer of city have >= 14 responses\", response_city[response_city >= 14].count())\n",
        "print(\"Total numer of city have >= 13 responses\", response_city[response_city >= 13].count())"
      ]
    },
    {
      "cell_type": "code",
      "source": [
        "frequent_response_city_list = response_city[response_city >= 14].index.tolist()\n",
        "#frequent_response_city_list = [x[0] + \"_\" + str(x[1]) for x in frequent_response_city_list]\n",
        "frequent_response_city_list"
      ],
      "metadata": {
        "id": "i8_WuAy1PhPb",
        "colab": {
          "base_uri": "https://localhost:8080/"
        },
        "outputId": "bbbd51b4-9971-4ecf-d01a-9c38d653be55"
      },
      "execution_count": 13,
      "outputs": [
        {
          "output_type": "execute_result",
          "data": {
            "text/plain": [
              "['21_Cranbourne',\n",
              " '9_Armidale',\n",
              " '5_Blaxland',\n",
              " '6_Southport',\n",
              " '23_Kyneton',\n",
              " '11_Mount Barker',\n",
              " '12_Griffith',\n",
              " '1_Bendigo',\n",
              " '5_Ballina']"
            ]
          },
          "metadata": {},
          "execution_count": 13
        }
      ]
    },
    {
      "cell_type": "code",
      "source": [
        "#Look at the raw data to investigate further"
      ],
      "metadata": {
        "id": "8YQv75X_LsrY"
      },
      "execution_count": 14,
      "outputs": []
    },
    {
      "cell_type": "code",
      "source": [
        "#Get the list of these cities\n",
        "#Use this list to filter in the raw data\n",
        "popular_city_df = raw_df[(raw_df[\"Area\"].astype(str) + \"_\" + raw_df[\"City\"]).isin(frequent_response_city_list)]\n",
        "popular_city_df.sort_values(by = [\"City\",\"NPS\"], inplace = True)"
      ],
      "metadata": {
        "id": "eq8cG7AGL2PC",
        "colab": {
          "base_uri": "https://localhost:8080/"
        },
        "outputId": "2a0c2570-23af-4640-de5e-5ba24ab184ce"
      },
      "execution_count": 15,
      "outputs": [
        {
          "output_type": "stream",
          "name": "stderr",
          "text": [
            "/usr/local/lib/python3.7/dist-packages/pandas/util/_decorators.py:311: SettingWithCopyWarning: \n",
            "A value is trying to be set on a copy of a slice from a DataFrame\n",
            "\n",
            "See the caveats in the documentation: https://pandas.pydata.org/pandas-docs/stable/user_guide/indexing.html#returning-a-view-versus-a-copy\n",
            "  return func(*args, **kwargs)\n"
          ]
        }
      ]
    },
    {
      "cell_type": "code",
      "source": [
        "frequent_response_city_list"
      ],
      "metadata": {
        "colab": {
          "base_uri": "https://localhost:8080/"
        },
        "id": "-PETnLP5MVep",
        "outputId": "63e5816b-0f45-4752-bb85-1f04dc2af21c"
      },
      "execution_count": 16,
      "outputs": [
        {
          "output_type": "execute_result",
          "data": {
            "text/plain": [
              "['21_Cranbourne',\n",
              " '9_Armidale',\n",
              " '5_Blaxland',\n",
              " '6_Southport',\n",
              " '23_Kyneton',\n",
              " '11_Mount Barker',\n",
              " '12_Griffith',\n",
              " '1_Bendigo',\n",
              " '5_Ballina']"
            ]
          },
          "metadata": {},
          "execution_count": 16
        }
      ]
    },
    {
      "cell_type": "code",
      "source": [
        "popular_city_df"
      ],
      "metadata": {
        "colab": {
          "base_uri": "https://localhost:8080/",
          "height": 0
        },
        "id": "dso7u724QZZK",
        "outputId": "7c80cad8-f3e7-4fa7-dd48-74cdde2f2878"
      },
      "execution_count": 17,
      "outputs": [
        {
          "output_type": "execute_result",
          "data": {
            "text/plain": [
              "      Area       City  NPS NPS Label Ambience And Atmosphere  \\\n",
              "85       9   Armidale    8   Neutral       5. Strongly Agree   \n",
              "1355     9   Armidale    8   Neutral                4. Agree   \n",
              "1606     9   Armidale    8   Neutral       5. Strongly Agree   \n",
              "1718     9   Armidale    8   Neutral                4. Agree   \n",
              "538      9   Armidale    9  Promoter       5. Strongly Agree   \n",
              "...    ...        ...  ...       ...                     ...   \n",
              "418      6  Southport   10  Promoter       5. Strongly Agree   \n",
              "1142     6  Southport   10  Promoter       5. Strongly Agree   \n",
              "1421     6  Southport   10  Promoter       5. Strongly Agree   \n",
              "1559     6  Southport   10  Promoter       5. Strongly Agree   \n",
              "1605     6  Southport   10  Promoter       5. Strongly Agree   \n",
              "\n",
              "          Curriculum and Activities Visit Booking Process  \\\n",
              "85                         4. Agree     5. Strongly Agree   \n",
              "1355                       4. Agree              4. Agree   \n",
              "1606              5. Strongly Agree     5. Strongly Agree   \n",
              "1718  3. Neither Agree nor Disagree     5. Strongly Agree   \n",
              "538               5. Strongly Agree     5. Strongly Agree   \n",
              "...                             ...                   ...   \n",
              "418   3. Neither Agree nor Disagree     5. Strongly Agree   \n",
              "1142              5. Strongly Agree     5. Strongly Agree   \n",
              "1421              5. Strongly Agree     5. Strongly Agree   \n",
              "1559              5. Strongly Agree     5. Strongly Agree   \n",
              "1605              5. Strongly Agree     5. Strongly Agree   \n",
              "\n",
              "     Environment And Facilities Information and Experience          Questions  \\\n",
              "85            5. Strongly Agree          5. Strongly Agree  5. Strongly Agree   \n",
              "1355                   4. Agree          5. Strongly Agree  5. Strongly Agree   \n",
              "1606          5. Strongly Agree          5. Strongly Agree  5. Strongly Agree   \n",
              "1718                   4. Agree                   4. Agree           4. Agree   \n",
              "538           5. Strongly Agree          5. Strongly Agree  5. Strongly Agree   \n",
              "...                         ...                        ...                ...   \n",
              "418                    4. Agree          5. Strongly Agree           4. Agree   \n",
              "1142          5. Strongly Agree          5. Strongly Agree  5. Strongly Agree   \n",
              "1421          5. Strongly Agree          5. Strongly Agree  5. Strongly Agree   \n",
              "1559          5. Strongly Agree          5. Strongly Agree  5. Strongly Agree   \n",
              "1605          5. Strongly Agree          5. Strongly Agree  5. Strongly Agree   \n",
              "\n",
              "      ... Survey Sent Date [GMT] Start Date  \\\n",
              "85    ...             2022-05-13 2022-05-11   \n",
              "1355  ...             2022-01-05 2021-12-22   \n",
              "1606  ...             2021-11-24 2021-11-17   \n",
              "1718  ...             2021-11-10 2021-11-05   \n",
              "538   ...             2022-03-25 2022-03-22   \n",
              "...   ...                    ...        ...   \n",
              "418   ...             2022-04-06 2022-04-04   \n",
              "1142  ...                    NaT 2022-01-27   \n",
              "1421  ...             2021-12-10 2021-12-07   \n",
              "1559  ...             2021-12-01 2021-11-23   \n",
              "1605  ...             2021-11-24 2021-11-17   \n",
              "\n",
              "                                NPS Feedback Categories  \\\n",
              "85    \"Cleanliness & Hygiene\",\"Curriculum & Programs...   \n",
              "1355     \"Campus Directors & Educators\",\"Communication\"   \n",
              "1606                         \"Environment & Facilities\"   \n",
              "1718                     \"Campus Directors & Educators\"   \n",
              "538                                     \"Communication\"   \n",
              "...                                                 ...   \n",
              "418                                 \"Enrolment Process\"   \n",
              "1142  \"Campus Directors & Educators\",\"Environment & ...   \n",
              "1421  \"Campus Directors & Educators\",\"Environment & ...   \n",
              "1559                         \"Environment & Facilities\"   \n",
              "1605  \"Campus Directors & Educators\",\"Communication\"...   \n",
              "\n",
              "                        Improvement Feedback Categories  \\\n",
              "85                                                  NaN   \n",
              "1355                                                NaN   \n",
              "1606                                                NaN   \n",
              "1718                            \"Curriculum & Programs\"   \n",
              "538                                                 NaN   \n",
              "...                                                 ...   \n",
              "418                                                 NaN   \n",
              "1142                                                NaN   \n",
              "1421                                                NaN   \n",
              "1559  \"Campus Directors & Educators\",\"Environment & ...   \n",
              "1605                                                NaN   \n",
              "\n",
              "     Response Month (YYYY-MM) Response Year (YYYY) Response Quarter (YYYY-Q#)  \\\n",
              "85                    2022-05                 2022                    2022-Q2   \n",
              "1355                  2022-01                 2022                    2022-Q1   \n",
              "1606                  2021-11                 2021                    2021-Q4   \n",
              "1718                  2021-11                 2021                    2021-Q4   \n",
              "538                   2022-03                 2022                    2022-Q1   \n",
              "...                       ...                  ...                        ...   \n",
              "418                   2022-04                 2022                    2022-Q2   \n",
              "1142                  2022-02                 2022                    2022-Q1   \n",
              "1421                  2021-12                 2021                    2021-Q4   \n",
              "1559                  2021-12                 2021                    2021-Q4   \n",
              "1605                  2021-11                 2021                    2021-Q4   \n",
              "\n",
              "     Workflow Status      Last Modified Date  Division  \n",
              "85              None                     NaT      Blue  \n",
              "1355            None                     NaT      Blue  \n",
              "1606            None                     NaT      Blue  \n",
              "1718          Closed 2021-11-11 12:05:13.082      Blue  \n",
              "538             None                     NaT      Blue  \n",
              "...              ...                     ...       ...  \n",
              "418           Closed 2022-04-11 14:54:35.913       Red  \n",
              "1142          Closed 2022-03-10 11:23:21.484       Red  \n",
              "1421          Closed 2021-12-16 11:27:54.256       Red  \n",
              "1559          Closed 2021-12-10 12:49:55.907       Red  \n",
              "1605          Closed 2021-12-20 17:41:09.450       Red  \n",
              "\n",
              "[140 rows x 24 columns]"
            ],
            "text/html": [
              "\n",
              "  <div id=\"df-c3757700-8b7f-4c90-bed8-e0f8cf335f04\">\n",
              "    <div class=\"colab-df-container\">\n",
              "      <div>\n",
              "<style scoped>\n",
              "    .dataframe tbody tr th:only-of-type {\n",
              "        vertical-align: middle;\n",
              "    }\n",
              "\n",
              "    .dataframe tbody tr th {\n",
              "        vertical-align: top;\n",
              "    }\n",
              "\n",
              "    .dataframe thead th {\n",
              "        text-align: right;\n",
              "    }\n",
              "</style>\n",
              "<table border=\"1\" class=\"dataframe\">\n",
              "  <thead>\n",
              "    <tr style=\"text-align: right;\">\n",
              "      <th></th>\n",
              "      <th>Area</th>\n",
              "      <th>City</th>\n",
              "      <th>NPS</th>\n",
              "      <th>NPS Label</th>\n",
              "      <th>Ambience And Atmosphere</th>\n",
              "      <th>Curriculum and Activities</th>\n",
              "      <th>Visit Booking Process</th>\n",
              "      <th>Environment And Facilities</th>\n",
              "      <th>Information and Experience</th>\n",
              "      <th>Questions</th>\n",
              "      <th>...</th>\n",
              "      <th>Survey Sent Date [GMT]</th>\n",
              "      <th>Start Date</th>\n",
              "      <th>NPS Feedback Categories</th>\n",
              "      <th>Improvement Feedback Categories</th>\n",
              "      <th>Response Month (YYYY-MM)</th>\n",
              "      <th>Response Year (YYYY)</th>\n",
              "      <th>Response Quarter (YYYY-Q#)</th>\n",
              "      <th>Workflow Status</th>\n",
              "      <th>Last Modified Date</th>\n",
              "      <th>Division</th>\n",
              "    </tr>\n",
              "  </thead>\n",
              "  <tbody>\n",
              "    <tr>\n",
              "      <th>85</th>\n",
              "      <td>9</td>\n",
              "      <td>Armidale</td>\n",
              "      <td>8</td>\n",
              "      <td>Neutral</td>\n",
              "      <td>5. Strongly Agree</td>\n",
              "      <td>4. Agree</td>\n",
              "      <td>5. Strongly Agree</td>\n",
              "      <td>5. Strongly Agree</td>\n",
              "      <td>5. Strongly Agree</td>\n",
              "      <td>5. Strongly Agree</td>\n",
              "      <td>...</td>\n",
              "      <td>2022-05-13</td>\n",
              "      <td>2022-05-11</td>\n",
              "      <td>\"Cleanliness &amp; Hygiene\",\"Curriculum &amp; Programs...</td>\n",
              "      <td>NaN</td>\n",
              "      <td>2022-05</td>\n",
              "      <td>2022</td>\n",
              "      <td>2022-Q2</td>\n",
              "      <td>None</td>\n",
              "      <td>NaT</td>\n",
              "      <td>Blue</td>\n",
              "    </tr>\n",
              "    <tr>\n",
              "      <th>1355</th>\n",
              "      <td>9</td>\n",
              "      <td>Armidale</td>\n",
              "      <td>8</td>\n",
              "      <td>Neutral</td>\n",
              "      <td>4. Agree</td>\n",
              "      <td>4. Agree</td>\n",
              "      <td>4. Agree</td>\n",
              "      <td>4. Agree</td>\n",
              "      <td>5. Strongly Agree</td>\n",
              "      <td>5. Strongly Agree</td>\n",
              "      <td>...</td>\n",
              "      <td>2022-01-05</td>\n",
              "      <td>2021-12-22</td>\n",
              "      <td>\"Campus Directors &amp; Educators\",\"Communication\"</td>\n",
              "      <td>NaN</td>\n",
              "      <td>2022-01</td>\n",
              "      <td>2022</td>\n",
              "      <td>2022-Q1</td>\n",
              "      <td>None</td>\n",
              "      <td>NaT</td>\n",
              "      <td>Blue</td>\n",
              "    </tr>\n",
              "    <tr>\n",
              "      <th>1606</th>\n",
              "      <td>9</td>\n",
              "      <td>Armidale</td>\n",
              "      <td>8</td>\n",
              "      <td>Neutral</td>\n",
              "      <td>5. Strongly Agree</td>\n",
              "      <td>5. Strongly Agree</td>\n",
              "      <td>5. Strongly Agree</td>\n",
              "      <td>5. Strongly Agree</td>\n",
              "      <td>5. Strongly Agree</td>\n",
              "      <td>5. Strongly Agree</td>\n",
              "      <td>...</td>\n",
              "      <td>2021-11-24</td>\n",
              "      <td>2021-11-17</td>\n",
              "      <td>\"Environment &amp; Facilities\"</td>\n",
              "      <td>NaN</td>\n",
              "      <td>2021-11</td>\n",
              "      <td>2021</td>\n",
              "      <td>2021-Q4</td>\n",
              "      <td>None</td>\n",
              "      <td>NaT</td>\n",
              "      <td>Blue</td>\n",
              "    </tr>\n",
              "    <tr>\n",
              "      <th>1718</th>\n",
              "      <td>9</td>\n",
              "      <td>Armidale</td>\n",
              "      <td>8</td>\n",
              "      <td>Neutral</td>\n",
              "      <td>4. Agree</td>\n",
              "      <td>3. Neither Agree nor Disagree</td>\n",
              "      <td>5. Strongly Agree</td>\n",
              "      <td>4. Agree</td>\n",
              "      <td>4. Agree</td>\n",
              "      <td>4. Agree</td>\n",
              "      <td>...</td>\n",
              "      <td>2021-11-10</td>\n",
              "      <td>2021-11-05</td>\n",
              "      <td>\"Campus Directors &amp; Educators\"</td>\n",
              "      <td>\"Curriculum &amp; Programs\"</td>\n",
              "      <td>2021-11</td>\n",
              "      <td>2021</td>\n",
              "      <td>2021-Q4</td>\n",
              "      <td>Closed</td>\n",
              "      <td>2021-11-11 12:05:13.082</td>\n",
              "      <td>Blue</td>\n",
              "    </tr>\n",
              "    <tr>\n",
              "      <th>538</th>\n",
              "      <td>9</td>\n",
              "      <td>Armidale</td>\n",
              "      <td>9</td>\n",
              "      <td>Promoter</td>\n",
              "      <td>5. Strongly Agree</td>\n",
              "      <td>5. Strongly Agree</td>\n",
              "      <td>5. Strongly Agree</td>\n",
              "      <td>5. Strongly Agree</td>\n",
              "      <td>5. Strongly Agree</td>\n",
              "      <td>5. Strongly Agree</td>\n",
              "      <td>...</td>\n",
              "      <td>2022-03-25</td>\n",
              "      <td>2022-03-22</td>\n",
              "      <td>\"Communication\"</td>\n",
              "      <td>NaN</td>\n",
              "      <td>2022-03</td>\n",
              "      <td>2022</td>\n",
              "      <td>2022-Q1</td>\n",
              "      <td>None</td>\n",
              "      <td>NaT</td>\n",
              "      <td>Blue</td>\n",
              "    </tr>\n",
              "    <tr>\n",
              "      <th>...</th>\n",
              "      <td>...</td>\n",
              "      <td>...</td>\n",
              "      <td>...</td>\n",
              "      <td>...</td>\n",
              "      <td>...</td>\n",
              "      <td>...</td>\n",
              "      <td>...</td>\n",
              "      <td>...</td>\n",
              "      <td>...</td>\n",
              "      <td>...</td>\n",
              "      <td>...</td>\n",
              "      <td>...</td>\n",
              "      <td>...</td>\n",
              "      <td>...</td>\n",
              "      <td>...</td>\n",
              "      <td>...</td>\n",
              "      <td>...</td>\n",
              "      <td>...</td>\n",
              "      <td>...</td>\n",
              "      <td>...</td>\n",
              "      <td>...</td>\n",
              "    </tr>\n",
              "    <tr>\n",
              "      <th>418</th>\n",
              "      <td>6</td>\n",
              "      <td>Southport</td>\n",
              "      <td>10</td>\n",
              "      <td>Promoter</td>\n",
              "      <td>5. Strongly Agree</td>\n",
              "      <td>3. Neither Agree nor Disagree</td>\n",
              "      <td>5. Strongly Agree</td>\n",
              "      <td>4. Agree</td>\n",
              "      <td>5. Strongly Agree</td>\n",
              "      <td>4. Agree</td>\n",
              "      <td>...</td>\n",
              "      <td>2022-04-06</td>\n",
              "      <td>2022-04-04</td>\n",
              "      <td>\"Enrolment Process\"</td>\n",
              "      <td>NaN</td>\n",
              "      <td>2022-04</td>\n",
              "      <td>2022</td>\n",
              "      <td>2022-Q2</td>\n",
              "      <td>Closed</td>\n",
              "      <td>2022-04-11 14:54:35.913</td>\n",
              "      <td>Red</td>\n",
              "    </tr>\n",
              "    <tr>\n",
              "      <th>1142</th>\n",
              "      <td>6</td>\n",
              "      <td>Southport</td>\n",
              "      <td>10</td>\n",
              "      <td>Promoter</td>\n",
              "      <td>5. Strongly Agree</td>\n",
              "      <td>5. Strongly Agree</td>\n",
              "      <td>5. Strongly Agree</td>\n",
              "      <td>5. Strongly Agree</td>\n",
              "      <td>5. Strongly Agree</td>\n",
              "      <td>5. Strongly Agree</td>\n",
              "      <td>...</td>\n",
              "      <td>NaT</td>\n",
              "      <td>2022-01-27</td>\n",
              "      <td>\"Campus Directors &amp; Educators\",\"Environment &amp; ...</td>\n",
              "      <td>NaN</td>\n",
              "      <td>2022-02</td>\n",
              "      <td>2022</td>\n",
              "      <td>2022-Q1</td>\n",
              "      <td>Closed</td>\n",
              "      <td>2022-03-10 11:23:21.484</td>\n",
              "      <td>Red</td>\n",
              "    </tr>\n",
              "    <tr>\n",
              "      <th>1421</th>\n",
              "      <td>6</td>\n",
              "      <td>Southport</td>\n",
              "      <td>10</td>\n",
              "      <td>Promoter</td>\n",
              "      <td>5. Strongly Agree</td>\n",
              "      <td>5. Strongly Agree</td>\n",
              "      <td>5. Strongly Agree</td>\n",
              "      <td>5. Strongly Agree</td>\n",
              "      <td>5. Strongly Agree</td>\n",
              "      <td>5. Strongly Agree</td>\n",
              "      <td>...</td>\n",
              "      <td>2021-12-10</td>\n",
              "      <td>2021-12-07</td>\n",
              "      <td>\"Campus Directors &amp; Educators\",\"Environment &amp; ...</td>\n",
              "      <td>NaN</td>\n",
              "      <td>2021-12</td>\n",
              "      <td>2021</td>\n",
              "      <td>2021-Q4</td>\n",
              "      <td>Closed</td>\n",
              "      <td>2021-12-16 11:27:54.256</td>\n",
              "      <td>Red</td>\n",
              "    </tr>\n",
              "    <tr>\n",
              "      <th>1559</th>\n",
              "      <td>6</td>\n",
              "      <td>Southport</td>\n",
              "      <td>10</td>\n",
              "      <td>Promoter</td>\n",
              "      <td>5. Strongly Agree</td>\n",
              "      <td>5. Strongly Agree</td>\n",
              "      <td>5. Strongly Agree</td>\n",
              "      <td>5. Strongly Agree</td>\n",
              "      <td>5. Strongly Agree</td>\n",
              "      <td>5. Strongly Agree</td>\n",
              "      <td>...</td>\n",
              "      <td>2021-12-01</td>\n",
              "      <td>2021-11-23</td>\n",
              "      <td>\"Environment &amp; Facilities\"</td>\n",
              "      <td>\"Campus Directors &amp; Educators\",\"Environment &amp; ...</td>\n",
              "      <td>2021-12</td>\n",
              "      <td>2021</td>\n",
              "      <td>2021-Q4</td>\n",
              "      <td>Closed</td>\n",
              "      <td>2021-12-10 12:49:55.907</td>\n",
              "      <td>Red</td>\n",
              "    </tr>\n",
              "    <tr>\n",
              "      <th>1605</th>\n",
              "      <td>6</td>\n",
              "      <td>Southport</td>\n",
              "      <td>10</td>\n",
              "      <td>Promoter</td>\n",
              "      <td>5. Strongly Agree</td>\n",
              "      <td>5. Strongly Agree</td>\n",
              "      <td>5. Strongly Agree</td>\n",
              "      <td>5. Strongly Agree</td>\n",
              "      <td>5. Strongly Agree</td>\n",
              "      <td>5. Strongly Agree</td>\n",
              "      <td>...</td>\n",
              "      <td>2021-11-24</td>\n",
              "      <td>2021-11-17</td>\n",
              "      <td>\"Campus Directors &amp; Educators\",\"Communication\"...</td>\n",
              "      <td>NaN</td>\n",
              "      <td>2021-11</td>\n",
              "      <td>2021</td>\n",
              "      <td>2021-Q4</td>\n",
              "      <td>Closed</td>\n",
              "      <td>2021-12-20 17:41:09.450</td>\n",
              "      <td>Red</td>\n",
              "    </tr>\n",
              "  </tbody>\n",
              "</table>\n",
              "<p>140 rows × 24 columns</p>\n",
              "</div>\n",
              "      <button class=\"colab-df-convert\" onclick=\"convertToInteractive('df-c3757700-8b7f-4c90-bed8-e0f8cf335f04')\"\n",
              "              title=\"Convert this dataframe to an interactive table.\"\n",
              "              style=\"display:none;\">\n",
              "        \n",
              "  <svg xmlns=\"http://www.w3.org/2000/svg\" height=\"24px\"viewBox=\"0 0 24 24\"\n",
              "       width=\"24px\">\n",
              "    <path d=\"M0 0h24v24H0V0z\" fill=\"none\"/>\n",
              "    <path d=\"M18.56 5.44l.94 2.06.94-2.06 2.06-.94-2.06-.94-.94-2.06-.94 2.06-2.06.94zm-11 1L8.5 8.5l.94-2.06 2.06-.94-2.06-.94L8.5 2.5l-.94 2.06-2.06.94zm10 10l.94 2.06.94-2.06 2.06-.94-2.06-.94-.94-2.06-.94 2.06-2.06.94z\"/><path d=\"M17.41 7.96l-1.37-1.37c-.4-.4-.92-.59-1.43-.59-.52 0-1.04.2-1.43.59L10.3 9.45l-7.72 7.72c-.78.78-.78 2.05 0 2.83L4 21.41c.39.39.9.59 1.41.59.51 0 1.02-.2 1.41-.59l7.78-7.78 2.81-2.81c.8-.78.8-2.07 0-2.86zM5.41 20L4 18.59l7.72-7.72 1.47 1.35L5.41 20z\"/>\n",
              "  </svg>\n",
              "      </button>\n",
              "      \n",
              "  <style>\n",
              "    .colab-df-container {\n",
              "      display:flex;\n",
              "      flex-wrap:wrap;\n",
              "      gap: 12px;\n",
              "    }\n",
              "\n",
              "    .colab-df-convert {\n",
              "      background-color: #E8F0FE;\n",
              "      border: none;\n",
              "      border-radius: 50%;\n",
              "      cursor: pointer;\n",
              "      display: none;\n",
              "      fill: #1967D2;\n",
              "      height: 32px;\n",
              "      padding: 0 0 0 0;\n",
              "      width: 32px;\n",
              "    }\n",
              "\n",
              "    .colab-df-convert:hover {\n",
              "      background-color: #E2EBFA;\n",
              "      box-shadow: 0px 1px 2px rgba(60, 64, 67, 0.3), 0px 1px 3px 1px rgba(60, 64, 67, 0.15);\n",
              "      fill: #174EA6;\n",
              "    }\n",
              "\n",
              "    [theme=dark] .colab-df-convert {\n",
              "      background-color: #3B4455;\n",
              "      fill: #D2E3FC;\n",
              "    }\n",
              "\n",
              "    [theme=dark] .colab-df-convert:hover {\n",
              "      background-color: #434B5C;\n",
              "      box-shadow: 0px 1px 3px 1px rgba(0, 0, 0, 0.15);\n",
              "      filter: drop-shadow(0px 1px 2px rgba(0, 0, 0, 0.3));\n",
              "      fill: #FFFFFF;\n",
              "    }\n",
              "  </style>\n",
              "\n",
              "      <script>\n",
              "        const buttonEl =\n",
              "          document.querySelector('#df-c3757700-8b7f-4c90-bed8-e0f8cf335f04 button.colab-df-convert');\n",
              "        buttonEl.style.display =\n",
              "          google.colab.kernel.accessAllowed ? 'block' : 'none';\n",
              "\n",
              "        async function convertToInteractive(key) {\n",
              "          const element = document.querySelector('#df-c3757700-8b7f-4c90-bed8-e0f8cf335f04');\n",
              "          const dataTable =\n",
              "            await google.colab.kernel.invokeFunction('convertToInteractive',\n",
              "                                                     [key], {});\n",
              "          if (!dataTable) return;\n",
              "\n",
              "          const docLinkHtml = 'Like what you see? Visit the ' +\n",
              "            '<a target=\"_blank\" href=https://colab.research.google.com/notebooks/data_table.ipynb>data table notebook</a>'\n",
              "            + ' to learn more about interactive tables.';\n",
              "          element.innerHTML = '';\n",
              "          dataTable['output_type'] = 'display_data';\n",
              "          await google.colab.output.renderOutput(dataTable, element);\n",
              "          const docLink = document.createElement('div');\n",
              "          docLink.innerHTML = docLinkHtml;\n",
              "          element.appendChild(docLink);\n",
              "        }\n",
              "      </script>\n",
              "    </div>\n",
              "  </div>\n",
              "  "
            ]
          },
          "metadata": {},
          "execution_count": 17
        }
      ]
    },
    {
      "cell_type": "markdown",
      "metadata": {
        "id": "bkiDQv4X7RP_"
      },
      "source": [
        "Let's look through the data from these City to see if there's anything special"
      ]
    },
    {
      "cell_type": "code",
      "execution_count": 18,
      "metadata": {
        "colab": {
          "base_uri": "https://localhost:8080/"
        },
        "id": "RDBDccVOALuU",
        "outputId": "2d0bf19b-1031-4d10-83d2-c28a0abdf0e2"
      },
      "outputs": [
        {
          "output_type": "stream",
          "name": "stdout",
          "text": [
            "Total of number of responses 140\n",
            "Promoter rate 0.7928571428571428\n",
            "Detractor rate 0.05714285714285714\n",
            "Average NPS 9.035714285714286\n",
            "STD NPS 1.9468133500513947\n"
          ]
        }
      ],
      "source": [
        "n_responses = popular_city_df.shape[0]\n",
        "promoter_rate = popular_city_df[popular_city_df[\"NPS Label\"] == \"Promoter\"].shape[0]/n_responses\n",
        "detractor_rate = popular_city_df[popular_city_df[\"NPS Label\"] == \"Detractor\"].shape[0]/n_responses\n",
        "\n",
        "print(\"Total of number of responses\", n_responses)\n",
        "print(\"Promoter rate\", promoter_rate)\n",
        "print(\"Detractor rate\", detractor_rate)\n",
        "print(\"Average NPS\", popular_city_df[\"NPS\"].mean())\n",
        "print(\"STD NPS\", popular_city_df[\"NPS\"].std())\n"
      ]
    },
    {
      "cell_type": "code",
      "source": [
        "popular_city_df[\"NPS\"].describe()"
      ],
      "metadata": {
        "colab": {
          "base_uri": "https://localhost:8080/"
        },
        "id": "DHzs2Y8aTBW1",
        "outputId": "0089a83d-2be6-437a-fcb2-7aa2ea37d378"
      },
      "execution_count": 19,
      "outputs": [
        {
          "output_type": "execute_result",
          "data": {
            "text/plain": [
              "count    140.000000\n",
              "mean       9.035714\n",
              "std        1.946813\n",
              "min        0.000000\n",
              "25%        9.000000\n",
              "50%       10.000000\n",
              "75%       10.000000\n",
              "max       10.000000\n",
              "Name: NPS, dtype: float64"
            ]
          },
          "metadata": {},
          "execution_count": 19
        }
      ]
    },
    {
      "cell_type": "markdown",
      "source": [],
      "metadata": {
        "id": "5hUFwkv-TVqw"
      }
    },
    {
      "cell_type": "markdown",
      "metadata": {
        "id": "_UUMYmmIBxa5"
      },
      "source": [
        "What if we compare with nation-wide data?"
      ]
    },
    {
      "cell_type": "code",
      "execution_count": 20,
      "metadata": {
        "colab": {
          "base_uri": "https://localhost:8080/"
        },
        "id": "HYcgaCZxB2CR",
        "outputId": "65b086cd-e4a6-4ec5-d6e4-36ceb309a4a4"
      },
      "outputs": [
        {
          "output_type": "stream",
          "name": "stdout",
          "text": [
            "Total of number of responses 2035\n",
            "Promoter rate 0.7090909090909091\n",
            "Detractor rate 0.12039312039312039\n",
            "Average NPS 8.622113022113021\n",
            "STD NPS 2.3743140513332195\n"
          ]
        }
      ],
      "source": [
        "n_responses = raw_df.shape[0]\n",
        "promoter_rate = raw_df[raw_df[\"NPS Label\"] == \"Promoter\"].shape[0]/n_responses\n",
        "detractor_rate = raw_df[raw_df[\"NPS Label\"] == \"Detractor\"].shape[0]/n_responses\n",
        "\n",
        "print(\"Total of number of responses\", n_responses)\n",
        "print(\"Promoter rate\", promoter_rate)\n",
        "print(\"Detractor rate\", detractor_rate)\n",
        "print(\"Average NPS\", raw_df[\"NPS\"].mean())\n",
        "print(\"STD NPS\", raw_df[\"NPS\"].std())"
      ]
    },
    {
      "cell_type": "markdown",
      "source": [
        "While there seems to be not having enough statiscal evidence to say there's different in terms of NPS to this group comparing to nationwide data, the different is quite evident (Promoter rate and Detractor rate are quite significantly different with nation wide."
      ],
      "metadata": {
        "id": "UvShIUgyTlXP"
      }
    },
    {
      "cell_type": "markdown",
      "source": [
        "- Which city have lowest NPS?\n",
        "- Which city have highest NPS?\n",
        "- Why these city have such NPS?\n",
        "\n",
        "city with one or two point of data would not be putted into the analysis because of insufficient information to conclude any representative insight."
      ],
      "metadata": {
        "id": "20RmCAZxT69v"
      }
    },
    {
      "cell_type": "markdown",
      "metadata": {
        "id": "bwZKEhRMtiuj"
      },
      "source": [
        "Extract city NPS with responses number >= 3"
      ]
    },
    {
      "cell_type": "code",
      "execution_count": 21,
      "metadata": {
        "id": "kfhmBz3usxBw"
      },
      "outputs": [],
      "source": [
        "#set city responses threshold\n",
        "number_response = 3\n",
        "#create a city_count Series consist of how many responses per city\n",
        "city_count = raw_df[\"City\"].value_counts()\n",
        "#create a list of city which receive more 'City' count response\n",
        "frequent_response_city = city_count[city_count >= number_response].index.tolist()\n",
        "#select responses data from raw_df which only from the frequent_response_city list\n",
        "city_df = raw_df[raw_df[\"City\"].isin(frequent_response_city)]\n",
        "\n",
        "#Group response data by City and NPS, for each city count how many Promoter, Neutral and Detractor                 \n",
        "each_city_df = city_df.groupby([\"City\",\"NPS Label\"])[\"NPS Label\"].agg(count=('count')).reset_index()\n",
        "\n",
        "#Using pivot technique to seperate label Promoter, Detractor and Neutral, then calculate NPS base on net subtraction from number of Promoter to number of Detractor by total number of customer.\n",
        "each_city_pivot = each_city_df.pivot(index = [\"City\"], columns = [\"NPS Label\"], values = \"count\").fillna(0)\n",
        "each_city_pivot[\"NPS RATE\"] = (each_city_pivot[\"Promoter\"] - each_city_pivot[\"Detractor\"])/(each_city_pivot[\"Promoter\"] + each_city_pivot[\"Detractor\"] + each_city_pivot[\"Neutral\"])\n",
        "each_city_pivot[\"Total Response\"] = each_city_pivot[\"Promoter\"] + each_city_pivot[\"Detractor\"] + each_city_pivot[\"Neutral\"]\n",
        "each_city_pivot.sort_values(by = [\"NPS RATE\",\"Total Response\"], ascending = False, inplace = True)\n"
      ]
    },
    {
      "cell_type": "code",
      "execution_count": 22,
      "metadata": {
        "colab": {
          "base_uri": "https://localhost:8080/",
          "height": 0
        },
        "id": "wxst6TXh5-Ej",
        "outputId": "45292eef-2e71-4731-bb1c-5a02faf98eca"
      },
      "outputs": [
        {
          "output_type": "execute_result",
          "data": {
            "text/plain": [
              "NPS Label              Detractor  Neutral  Promoter  NPS RATE  Total Response\n",
              "City                                                                         \n",
              "Warwick                      0.0      0.0      13.0  1.000000            13.0\n",
              "Gunnedah                     0.0      0.0      10.0  1.000000            10.0\n",
              "Geraldton                    0.0      0.0       9.0  1.000000             9.0\n",
              "Mount Gambier                0.0      0.0       9.0  1.000000             9.0\n",
              "Cairns                       0.0      0.0       8.0  1.000000             8.0\n",
              "...                          ...      ...       ...       ...             ...\n",
              "Mount Cotton                 2.0      0.0       1.0 -0.333333             3.0\n",
              "Mudgee                       2.0      0.0       1.0 -0.333333             3.0\n",
              "Glass House Mountains        5.0      0.0       2.0 -0.428571             7.0\n",
              "Beaudesert                   3.0      0.0       1.0 -0.500000             4.0\n",
              "Bundaberg                    2.0      1.0       0.0 -0.666667             3.0\n",
              "\n",
              "[296 rows x 5 columns]"
            ],
            "text/html": [
              "\n",
              "  <div id=\"df-755b5da2-c476-4692-8ac0-baccfb483023\">\n",
              "    <div class=\"colab-df-container\">\n",
              "      <div>\n",
              "<style scoped>\n",
              "    .dataframe tbody tr th:only-of-type {\n",
              "        vertical-align: middle;\n",
              "    }\n",
              "\n",
              "    .dataframe tbody tr th {\n",
              "        vertical-align: top;\n",
              "    }\n",
              "\n",
              "    .dataframe thead th {\n",
              "        text-align: right;\n",
              "    }\n",
              "</style>\n",
              "<table border=\"1\" class=\"dataframe\">\n",
              "  <thead>\n",
              "    <tr style=\"text-align: right;\">\n",
              "      <th>NPS Label</th>\n",
              "      <th>Detractor</th>\n",
              "      <th>Neutral</th>\n",
              "      <th>Promoter</th>\n",
              "      <th>NPS RATE</th>\n",
              "      <th>Total Response</th>\n",
              "    </tr>\n",
              "    <tr>\n",
              "      <th>City</th>\n",
              "      <th></th>\n",
              "      <th></th>\n",
              "      <th></th>\n",
              "      <th></th>\n",
              "      <th></th>\n",
              "    </tr>\n",
              "  </thead>\n",
              "  <tbody>\n",
              "    <tr>\n",
              "      <th>Warwick</th>\n",
              "      <td>0.0</td>\n",
              "      <td>0.0</td>\n",
              "      <td>13.0</td>\n",
              "      <td>1.000000</td>\n",
              "      <td>13.0</td>\n",
              "    </tr>\n",
              "    <tr>\n",
              "      <th>Gunnedah</th>\n",
              "      <td>0.0</td>\n",
              "      <td>0.0</td>\n",
              "      <td>10.0</td>\n",
              "      <td>1.000000</td>\n",
              "      <td>10.0</td>\n",
              "    </tr>\n",
              "    <tr>\n",
              "      <th>Geraldton</th>\n",
              "      <td>0.0</td>\n",
              "      <td>0.0</td>\n",
              "      <td>9.0</td>\n",
              "      <td>1.000000</td>\n",
              "      <td>9.0</td>\n",
              "    </tr>\n",
              "    <tr>\n",
              "      <th>Mount Gambier</th>\n",
              "      <td>0.0</td>\n",
              "      <td>0.0</td>\n",
              "      <td>9.0</td>\n",
              "      <td>1.000000</td>\n",
              "      <td>9.0</td>\n",
              "    </tr>\n",
              "    <tr>\n",
              "      <th>Cairns</th>\n",
              "      <td>0.0</td>\n",
              "      <td>0.0</td>\n",
              "      <td>8.0</td>\n",
              "      <td>1.000000</td>\n",
              "      <td>8.0</td>\n",
              "    </tr>\n",
              "    <tr>\n",
              "      <th>...</th>\n",
              "      <td>...</td>\n",
              "      <td>...</td>\n",
              "      <td>...</td>\n",
              "      <td>...</td>\n",
              "      <td>...</td>\n",
              "    </tr>\n",
              "    <tr>\n",
              "      <th>Mount Cotton</th>\n",
              "      <td>2.0</td>\n",
              "      <td>0.0</td>\n",
              "      <td>1.0</td>\n",
              "      <td>-0.333333</td>\n",
              "      <td>3.0</td>\n",
              "    </tr>\n",
              "    <tr>\n",
              "      <th>Mudgee</th>\n",
              "      <td>2.0</td>\n",
              "      <td>0.0</td>\n",
              "      <td>1.0</td>\n",
              "      <td>-0.333333</td>\n",
              "      <td>3.0</td>\n",
              "    </tr>\n",
              "    <tr>\n",
              "      <th>Glass House Mountains</th>\n",
              "      <td>5.0</td>\n",
              "      <td>0.0</td>\n",
              "      <td>2.0</td>\n",
              "      <td>-0.428571</td>\n",
              "      <td>7.0</td>\n",
              "    </tr>\n",
              "    <tr>\n",
              "      <th>Beaudesert</th>\n",
              "      <td>3.0</td>\n",
              "      <td>0.0</td>\n",
              "      <td>1.0</td>\n",
              "      <td>-0.500000</td>\n",
              "      <td>4.0</td>\n",
              "    </tr>\n",
              "    <tr>\n",
              "      <th>Bundaberg</th>\n",
              "      <td>2.0</td>\n",
              "      <td>1.0</td>\n",
              "      <td>0.0</td>\n",
              "      <td>-0.666667</td>\n",
              "      <td>3.0</td>\n",
              "    </tr>\n",
              "  </tbody>\n",
              "</table>\n",
              "<p>296 rows × 5 columns</p>\n",
              "</div>\n",
              "      <button class=\"colab-df-convert\" onclick=\"convertToInteractive('df-755b5da2-c476-4692-8ac0-baccfb483023')\"\n",
              "              title=\"Convert this dataframe to an interactive table.\"\n",
              "              style=\"display:none;\">\n",
              "        \n",
              "  <svg xmlns=\"http://www.w3.org/2000/svg\" height=\"24px\"viewBox=\"0 0 24 24\"\n",
              "       width=\"24px\">\n",
              "    <path d=\"M0 0h24v24H0V0z\" fill=\"none\"/>\n",
              "    <path d=\"M18.56 5.44l.94 2.06.94-2.06 2.06-.94-2.06-.94-.94-2.06-.94 2.06-2.06.94zm-11 1L8.5 8.5l.94-2.06 2.06-.94-2.06-.94L8.5 2.5l-.94 2.06-2.06.94zm10 10l.94 2.06.94-2.06 2.06-.94-2.06-.94-.94-2.06-.94 2.06-2.06.94z\"/><path d=\"M17.41 7.96l-1.37-1.37c-.4-.4-.92-.59-1.43-.59-.52 0-1.04.2-1.43.59L10.3 9.45l-7.72 7.72c-.78.78-.78 2.05 0 2.83L4 21.41c.39.39.9.59 1.41.59.51 0 1.02-.2 1.41-.59l7.78-7.78 2.81-2.81c.8-.78.8-2.07 0-2.86zM5.41 20L4 18.59l7.72-7.72 1.47 1.35L5.41 20z\"/>\n",
              "  </svg>\n",
              "      </button>\n",
              "      \n",
              "  <style>\n",
              "    .colab-df-container {\n",
              "      display:flex;\n",
              "      flex-wrap:wrap;\n",
              "      gap: 12px;\n",
              "    }\n",
              "\n",
              "    .colab-df-convert {\n",
              "      background-color: #E8F0FE;\n",
              "      border: none;\n",
              "      border-radius: 50%;\n",
              "      cursor: pointer;\n",
              "      display: none;\n",
              "      fill: #1967D2;\n",
              "      height: 32px;\n",
              "      padding: 0 0 0 0;\n",
              "      width: 32px;\n",
              "    }\n",
              "\n",
              "    .colab-df-convert:hover {\n",
              "      background-color: #E2EBFA;\n",
              "      box-shadow: 0px 1px 2px rgba(60, 64, 67, 0.3), 0px 1px 3px 1px rgba(60, 64, 67, 0.15);\n",
              "      fill: #174EA6;\n",
              "    }\n",
              "\n",
              "    [theme=dark] .colab-df-convert {\n",
              "      background-color: #3B4455;\n",
              "      fill: #D2E3FC;\n",
              "    }\n",
              "\n",
              "    [theme=dark] .colab-df-convert:hover {\n",
              "      background-color: #434B5C;\n",
              "      box-shadow: 0px 1px 3px 1px rgba(0, 0, 0, 0.15);\n",
              "      filter: drop-shadow(0px 1px 2px rgba(0, 0, 0, 0.3));\n",
              "      fill: #FFFFFF;\n",
              "    }\n",
              "  </style>\n",
              "\n",
              "      <script>\n",
              "        const buttonEl =\n",
              "          document.querySelector('#df-755b5da2-c476-4692-8ac0-baccfb483023 button.colab-df-convert');\n",
              "        buttonEl.style.display =\n",
              "          google.colab.kernel.accessAllowed ? 'block' : 'none';\n",
              "\n",
              "        async function convertToInteractive(key) {\n",
              "          const element = document.querySelector('#df-755b5da2-c476-4692-8ac0-baccfb483023');\n",
              "          const dataTable =\n",
              "            await google.colab.kernel.invokeFunction('convertToInteractive',\n",
              "                                                     [key], {});\n",
              "          if (!dataTable) return;\n",
              "\n",
              "          const docLinkHtml = 'Like what you see? Visit the ' +\n",
              "            '<a target=\"_blank\" href=https://colab.research.google.com/notebooks/data_table.ipynb>data table notebook</a>'\n",
              "            + ' to learn more about interactive tables.';\n",
              "          element.innerHTML = '';\n",
              "          dataTable['output_type'] = 'display_data';\n",
              "          await google.colab.output.renderOutput(dataTable, element);\n",
              "          const docLink = document.createElement('div');\n",
              "          docLink.innerHTML = docLinkHtml;\n",
              "          element.appendChild(docLink);\n",
              "        }\n",
              "      </script>\n",
              "    </div>\n",
              "  </div>\n",
              "  "
            ]
          },
          "metadata": {},
          "execution_count": 22
        }
      ],
      "source": [
        "#Display NPS by City sorting from largest to smallest\n",
        "each_city_pivot"
      ]
    },
    {
      "cell_type": "code",
      "execution_count": 23,
      "metadata": {
        "colab": {
          "base_uri": "https://localhost:8080/",
          "height": 0
        },
        "id": "hQuyXSMmurXu",
        "outputId": "c1eece23-536d-44d9-f3c5-e4d7cc8090b5"
      },
      "outputs": [
        {
          "output_type": "stream",
          "name": "stdout",
          "text": [
            "number of city with NPS Rate = 1: 50\n"
          ]
        },
        {
          "output_type": "execute_result",
          "data": {
            "text/plain": [
              "NPS Label      Detractor  Neutral  Promoter  NPS RATE  Total Response\n",
              "City                                                                 \n",
              "Warwick              0.0      0.0      13.0       1.0            13.0\n",
              "Gunnedah             0.0      0.0      10.0       1.0            10.0\n",
              "Geraldton            0.0      0.0       9.0       1.0             9.0\n",
              "Mount Gambier        0.0      0.0       9.0       1.0             9.0\n",
              "Cairns               0.0      0.0       8.0       1.0             8.0"
            ],
            "text/html": [
              "\n",
              "  <div id=\"df-dbd36c8b-b46b-4b7f-bffe-9e5d9f8aa676\">\n",
              "    <div class=\"colab-df-container\">\n",
              "      <div>\n",
              "<style scoped>\n",
              "    .dataframe tbody tr th:only-of-type {\n",
              "        vertical-align: middle;\n",
              "    }\n",
              "\n",
              "    .dataframe tbody tr th {\n",
              "        vertical-align: top;\n",
              "    }\n",
              "\n",
              "    .dataframe thead th {\n",
              "        text-align: right;\n",
              "    }\n",
              "</style>\n",
              "<table border=\"1\" class=\"dataframe\">\n",
              "  <thead>\n",
              "    <tr style=\"text-align: right;\">\n",
              "      <th>NPS Label</th>\n",
              "      <th>Detractor</th>\n",
              "      <th>Neutral</th>\n",
              "      <th>Promoter</th>\n",
              "      <th>NPS RATE</th>\n",
              "      <th>Total Response</th>\n",
              "    </tr>\n",
              "    <tr>\n",
              "      <th>City</th>\n",
              "      <th></th>\n",
              "      <th></th>\n",
              "      <th></th>\n",
              "      <th></th>\n",
              "      <th></th>\n",
              "    </tr>\n",
              "  </thead>\n",
              "  <tbody>\n",
              "    <tr>\n",
              "      <th>Warwick</th>\n",
              "      <td>0.0</td>\n",
              "      <td>0.0</td>\n",
              "      <td>13.0</td>\n",
              "      <td>1.0</td>\n",
              "      <td>13.0</td>\n",
              "    </tr>\n",
              "    <tr>\n",
              "      <th>Gunnedah</th>\n",
              "      <td>0.0</td>\n",
              "      <td>0.0</td>\n",
              "      <td>10.0</td>\n",
              "      <td>1.0</td>\n",
              "      <td>10.0</td>\n",
              "    </tr>\n",
              "    <tr>\n",
              "      <th>Geraldton</th>\n",
              "      <td>0.0</td>\n",
              "      <td>0.0</td>\n",
              "      <td>9.0</td>\n",
              "      <td>1.0</td>\n",
              "      <td>9.0</td>\n",
              "    </tr>\n",
              "    <tr>\n",
              "      <th>Mount Gambier</th>\n",
              "      <td>0.0</td>\n",
              "      <td>0.0</td>\n",
              "      <td>9.0</td>\n",
              "      <td>1.0</td>\n",
              "      <td>9.0</td>\n",
              "    </tr>\n",
              "    <tr>\n",
              "      <th>Cairns</th>\n",
              "      <td>0.0</td>\n",
              "      <td>0.0</td>\n",
              "      <td>8.0</td>\n",
              "      <td>1.0</td>\n",
              "      <td>8.0</td>\n",
              "    </tr>\n",
              "  </tbody>\n",
              "</table>\n",
              "</div>\n",
              "      <button class=\"colab-df-convert\" onclick=\"convertToInteractive('df-dbd36c8b-b46b-4b7f-bffe-9e5d9f8aa676')\"\n",
              "              title=\"Convert this dataframe to an interactive table.\"\n",
              "              style=\"display:none;\">\n",
              "        \n",
              "  <svg xmlns=\"http://www.w3.org/2000/svg\" height=\"24px\"viewBox=\"0 0 24 24\"\n",
              "       width=\"24px\">\n",
              "    <path d=\"M0 0h24v24H0V0z\" fill=\"none\"/>\n",
              "    <path d=\"M18.56 5.44l.94 2.06.94-2.06 2.06-.94-2.06-.94-.94-2.06-.94 2.06-2.06.94zm-11 1L8.5 8.5l.94-2.06 2.06-.94-2.06-.94L8.5 2.5l-.94 2.06-2.06.94zm10 10l.94 2.06.94-2.06 2.06-.94-2.06-.94-.94-2.06-.94 2.06-2.06.94z\"/><path d=\"M17.41 7.96l-1.37-1.37c-.4-.4-.92-.59-1.43-.59-.52 0-1.04.2-1.43.59L10.3 9.45l-7.72 7.72c-.78.78-.78 2.05 0 2.83L4 21.41c.39.39.9.59 1.41.59.51 0 1.02-.2 1.41-.59l7.78-7.78 2.81-2.81c.8-.78.8-2.07 0-2.86zM5.41 20L4 18.59l7.72-7.72 1.47 1.35L5.41 20z\"/>\n",
              "  </svg>\n",
              "      </button>\n",
              "      \n",
              "  <style>\n",
              "    .colab-df-container {\n",
              "      display:flex;\n",
              "      flex-wrap:wrap;\n",
              "      gap: 12px;\n",
              "    }\n",
              "\n",
              "    .colab-df-convert {\n",
              "      background-color: #E8F0FE;\n",
              "      border: none;\n",
              "      border-radius: 50%;\n",
              "      cursor: pointer;\n",
              "      display: none;\n",
              "      fill: #1967D2;\n",
              "      height: 32px;\n",
              "      padding: 0 0 0 0;\n",
              "      width: 32px;\n",
              "    }\n",
              "\n",
              "    .colab-df-convert:hover {\n",
              "      background-color: #E2EBFA;\n",
              "      box-shadow: 0px 1px 2px rgba(60, 64, 67, 0.3), 0px 1px 3px 1px rgba(60, 64, 67, 0.15);\n",
              "      fill: #174EA6;\n",
              "    }\n",
              "\n",
              "    [theme=dark] .colab-df-convert {\n",
              "      background-color: #3B4455;\n",
              "      fill: #D2E3FC;\n",
              "    }\n",
              "\n",
              "    [theme=dark] .colab-df-convert:hover {\n",
              "      background-color: #434B5C;\n",
              "      box-shadow: 0px 1px 3px 1px rgba(0, 0, 0, 0.15);\n",
              "      filter: drop-shadow(0px 1px 2px rgba(0, 0, 0, 0.3));\n",
              "      fill: #FFFFFF;\n",
              "    }\n",
              "  </style>\n",
              "\n",
              "      <script>\n",
              "        const buttonEl =\n",
              "          document.querySelector('#df-dbd36c8b-b46b-4b7f-bffe-9e5d9f8aa676 button.colab-df-convert');\n",
              "        buttonEl.style.display =\n",
              "          google.colab.kernel.accessAllowed ? 'block' : 'none';\n",
              "\n",
              "        async function convertToInteractive(key) {\n",
              "          const element = document.querySelector('#df-dbd36c8b-b46b-4b7f-bffe-9e5d9f8aa676');\n",
              "          const dataTable =\n",
              "            await google.colab.kernel.invokeFunction('convertToInteractive',\n",
              "                                                     [key], {});\n",
              "          if (!dataTable) return;\n",
              "\n",
              "          const docLinkHtml = 'Like what you see? Visit the ' +\n",
              "            '<a target=\"_blank\" href=https://colab.research.google.com/notebooks/data_table.ipynb>data table notebook</a>'\n",
              "            + ' to learn more about interactive tables.';\n",
              "          element.innerHTML = '';\n",
              "          dataTable['output_type'] = 'display_data';\n",
              "          await google.colab.output.renderOutput(dataTable, element);\n",
              "          const docLink = document.createElement('div');\n",
              "          docLink.innerHTML = docLinkHtml;\n",
              "          element.appendChild(docLink);\n",
              "        }\n",
              "      </script>\n",
              "    </div>\n",
              "  </div>\n",
              "  "
            ]
          },
          "metadata": {},
          "execution_count": 23
        }
      ],
      "source": [
        "#Total of city with perfect NPS\n",
        "print(\"number of city with NPS Rate = 1:\", (each_city_pivot[each_city_pivot['NPS RATE'] >=1].shape[0]))\n",
        "each_city_pivot[each_city_pivot['NPS RATE'] >=1].head()"
      ]
    },
    {
      "cell_type": "code",
      "source": [
        "top_city = each_city_pivot[each_city_pivot['NPS RATE'] >=1].index.tolist()\n",
        "top_city_df = raw_df[raw_df[\"City\"].isin(top_city)]\n"
      ],
      "metadata": {
        "id": "6plLRJsqQO6j"
      },
      "execution_count": 24,
      "outputs": []
    },
    {
      "cell_type": "markdown",
      "source": [
        "There are total of 50 city which have perfect NPS RATE (100%)"
      ],
      "metadata": {
        "id": "iOZnVhbMZ3r_"
      }
    },
    {
      "cell_type": "code",
      "execution_count": 25,
      "metadata": {
        "colab": {
          "base_uri": "https://localhost:8080/"
        },
        "id": "rkMnUY5E6ln7",
        "outputId": "59e72af0-3cbb-400c-f69d-e26e53cf5e6d"
      },
      "outputs": [
        {
          "output_type": "stream",
          "name": "stdout",
          "text": [
            "number of city with NPS Rate <= 0.2:  36\n"
          ]
        }
      ],
      "source": [
        "print(\"number of city with NPS Rate <= 0.2: \", (each_city_pivot[each_city_pivot['NPS RATE'] <= 0.2].shape[0]))\n",
        "bot_city = each_city_pivot[each_city_pivot['NPS RATE'] <= 0.2].index.tolist()\n",
        "bot_city_df = raw_df[raw_df[\"City\"].isin(bot_city)]"
      ]
    },
    {
      "cell_type": "markdown",
      "source": [
        "36 city which have NPS RATE <= 20%"
      ],
      "metadata": {
        "id": "hAPZ0yGNagfP"
      }
    },
    {
      "cell_type": "markdown",
      "source": [
        "8 city have NPS RATE below 0, means they have more detractor than promoter. These can be the most troublesome healthcare at the moment and require serious attention from the management."
      ],
      "metadata": {
        "id": "tCu5BHFGat96"
      }
    },
    {
      "cell_type": "markdown",
      "source": [
        "Why these city have such NPS?\n",
        "Distribution of NPS in that city"
      ],
      "metadata": {
        "id": "WHacA4oJbIcN"
      }
    },
    {
      "cell_type": "code",
      "source": [
        "raw_df[\"Area\"].value_counts().plot.bar()"
      ],
      "metadata": {
        "colab": {
          "base_uri": "https://localhost:8080/",
          "height": 0
        },
        "id": "GmjPP-OrbS-f",
        "outputId": "b7e06203-7b56-4f86-d9cd-82c3d76df6ee"
      },
      "execution_count": 26,
      "outputs": [
        {
          "output_type": "execute_result",
          "data": {
            "text/plain": [
              "<matplotlib.axes._subplots.AxesSubplot at 0x7ff69c272850>"
            ]
          },
          "metadata": {},
          "execution_count": 26
        },
        {
          "output_type": "display_data",
          "data": {
            "text/plain": [
              "<Figure size 432x288 with 1 Axes>"
            ],
            "image/png": "[encoded data removed]"
          },
          "metadata": {
            "needs_background": "light"
          }
        }
      ]
    },
    {
      "cell_type": "code",
      "source": [
        "raw_df.groupby(\"Area\")[\"NPS\"].mean().plot.bar()"
      ],
      "metadata": {
        "colab": {
          "base_uri": "https://localhost:8080/",
          "height": 0
        },
        "id": "dPMEO4KhkcYW",
        "outputId": "e21ac2b2-d30a-4341-f644-42dd7e65f636"
      },
      "execution_count": 27,
      "outputs": [
        {
          "output_type": "execute_result",
          "data": {
            "text/plain": [
              "<matplotlib.axes._subplots.AxesSubplot at 0x7ff69c24a890>"
            ]
          },
          "metadata": {},
          "execution_count": 27
        },
        {
          "output_type": "display_data",
          "data": {
            "text/plain": [
              "<Figure size 432x288 with 1 Axes>"
            ],
            "image/png": "[encoded data removed]"
          },
          "metadata": {
            "needs_background": "light"
          }
        }
      ]
    },
    {
      "cell_type": "markdown",
      "metadata": {
        "id": "3-racUq_kmNM"
      },
      "source": [
        "## 2. NPS"
      ]
    },
    {
      "cell_type": "markdown",
      "source": [
        "- What is the distribution of NPS?\n",
        "- What's the most typical score?"
      ],
      "metadata": {
        "id": "jmOIYV-_nlnx"
      }
    },
    {
      "cell_type": "code",
      "execution_count": 28,
      "metadata": {
        "id": "Y9X9dhHpku1I",
        "colab": {
          "base_uri": "https://localhost:8080/"
        },
        "outputId": "c7e16e52-b6ed-4fbe-d7c0-3ee27623851d"
      },
      "outputs": [
        {
          "output_type": "execute_result",
          "data": {
            "text/plain": [
              "count    2035.000000\n",
              "mean        8.622113\n",
              "std         2.374314\n",
              "min         0.000000\n",
              "25%         8.000000\n",
              "50%        10.000000\n",
              "75%        10.000000\n",
              "max        10.000000\n",
              "Name: NPS, dtype: float64"
            ]
          },
          "metadata": {},
          "execution_count": 28
        }
      ],
      "source": [
        "raw_df[\"NPS\"].describe()"
      ]
    },
    {
      "cell_type": "code",
      "execution_count": 29,
      "metadata": {
        "id": "TqwVqfy0lAMD",
        "colab": {
          "base_uri": "https://localhost:8080/",
          "height": 334
        },
        "outputId": "d0a04d0c-26a7-4861-9692-512056721531"
      },
      "outputs": [
        {
          "output_type": "stream",
          "name": "stderr",
          "text": [
            "/usr/local/lib/python3.7/dist-packages/seaborn/_decorators.py:43: FutureWarning: Pass the following variable as a keyword arg: x. From version 0.12, the only valid positional argument will be `data`, and passing other arguments without an explicit keyword will result in an error or misinterpretation.\n",
            "  FutureWarning\n"
          ]
        },
        {
          "output_type": "display_data",
          "data": {
            "text/plain": [
              "<Figure size 432x288 with 1 Axes>"
            ],
            "image/png": "[encoded data removed]"
          },
          "metadata": {
            "needs_background": "light"
          }
        }
      ],
      "source": [
        "sns.boxplot(raw_df[\"NPS\"])\n",
        "plt.show()"
      ]
    },
    {
      "cell_type": "markdown",
      "source": [
        "The data is heavily skewed to the left. ~75 percent of the response have NPS >= 8 (Promoter, 8 Neutral). ALmost 100% percent of the data have value from 5 upwards, meaning NPS score < 5 can be classify as abnormal (outlier)."
      ],
      "metadata": {
        "id": "3HNMA5xZnzRV"
      }
    },
    {
      "cell_type": "code",
      "execution_count": 30,
      "metadata": {
        "id": "6ufTebDPmalb",
        "colab": {
          "base_uri": "https://localhost:8080/"
        },
        "outputId": "8f89f062-9af5-488e-e6fc-2f6dd1511376"
      },
      "outputs": [
        {
          "output_type": "execute_result",
          "data": {
            "text/plain": [
              "0"
            ]
          },
          "metadata": {},
          "execution_count": 30
        }
      ],
      "source": [
        "raw_df[\"NPS\"].isnull().sum()"
      ]
    },
    {
      "cell_type": "markdown",
      "source": [
        "There's no missing NPS data"
      ],
      "metadata": {
        "id": "km8YBD8XodcQ"
      }
    },
    {
      "cell_type": "markdown",
      "metadata": {
        "id": "p1pLJeqhmiB2"
      },
      "source": [
        "No missing value regarding NPS score"
      ]
    },
    {
      "cell_type": "code",
      "execution_count": 31,
      "metadata": {
        "id": "HsRExcHylINH",
        "colab": {
          "base_uri": "https://localhost:8080/",
          "height": 282
        },
        "outputId": "a38d8b5b-404c-4da5-c7d2-8d587e9ac047"
      },
      "outputs": [
        {
          "output_type": "execute_result",
          "data": {
            "text/plain": [
              "<matplotlib.axes._subplots.AxesSubplot at 0x7ff69c036350>"
            ]
          },
          "metadata": {},
          "execution_count": 31
        },
        {
          "output_type": "display_data",
          "data": {
            "text/plain": [
              "<Figure size 432x288 with 1 Axes>"
            ],
            "image/png": "[encoded data removed]"
          },
          "metadata": {
            "needs_background": "light"
          }
        }
      ],
      "source": [
        "raw_df[\"NPS\"].hist()"
      ]
    },
    {
      "cell_type": "markdown",
      "metadata": {
        "id": "ggtu7WlHk-NV"
      },
      "source": [
        "NPS data is highly skewed. More specifically, left-skewed, which indicates overwhelmingly survey response saying they are satisfying with Blue Mountain childcare. 75% percent of the customer having NPS >= 8.\n",
        "\n",
        "NPS is at the center of our analysis. One of the most important stats that business use to understand and make decision upon customer satisfaction and loyalty using the products/service\n",
        "\n",
        "We have another data that can help us label and have more meaningful understanding about this precious metrics: NPS Label"
      ]
    },
    {
      "cell_type": "markdown",
      "metadata": {
        "id": "RYDpixzkm82_"
      },
      "source": [
        "### NPS Label"
      ]
    },
    {
      "cell_type": "markdown",
      "source": [
        "What is the distribution of NPS Label?"
      ],
      "metadata": {
        "id": "Ci98rqh3pBFu"
      }
    },
    {
      "cell_type": "code",
      "execution_count": 32,
      "metadata": {
        "id": "x3v2rd2MnBNI",
        "colab": {
          "base_uri": "https://localhost:8080/",
          "height": 357
        },
        "outputId": "7efde31e-99e6-4f97-95dc-a4657d3ee7bb"
      },
      "outputs": [
        {
          "output_type": "stream",
          "name": "stderr",
          "text": [
            "/usr/local/lib/python3.7/dist-packages/seaborn/_decorators.py:43: FutureWarning: Pass the following variable as a keyword arg: x. From version 0.12, the only valid positional argument will be `data`, and passing other arguments without an explicit keyword will result in an error or misinterpretation.\n",
            "  FutureWarning\n"
          ]
        },
        {
          "output_type": "display_data",
          "data": {
            "text/plain": [
              "<Figure size 432x288 with 1 Axes>"
            ],
            "image/png": "[encoded data removed]"
          },
          "metadata": {}
        },
        {
          "output_type": "stream",
          "name": "stdout",
          "text": [
            "Total of response 2035\n"
          ]
        }
      ],
      "source": [
        "sns.set_theme(style=\"whitegrid\")\n",
        "sns.countplot(raw_df[\"NPS Label\"])\n",
        "\n",
        "plt.show()\n",
        "print(\"Total of response\", raw_df.shape[0])"
      ]
    },
    {
      "cell_type": "markdown",
      "source": [
        "~70% the response indicate they are promoters to the healthcare. We have ~18% the response saying they are Neutral Customer -> ~12% are Detractor.  \n"
      ],
      "metadata": {
        "id": "3r3h2CE9pM0B"
      }
    },
    {
      "cell_type": "markdown",
      "source": [
        "How many customer are extreme Detractor? (From the above analysis it's reasonable to assume that those who have score <= 4 are the extreme Detractor)"
      ],
      "metadata": {
        "id": "6eoHjQo3p-YV"
      }
    },
    {
      "cell_type": "code",
      "source": [
        "raw_df[raw_df[\"NPS\"] <= 4].shape[0] / raw_df.shape[0]"
      ],
      "metadata": {
        "colab": {
          "base_uri": "https://localhost:8080/"
        },
        "id": "G24UZKppqMEB",
        "outputId": "5bad6e2d-67af-4ece-8ce0-2349f7982fef"
      },
      "execution_count": 33,
      "outputs": [
        {
          "output_type": "execute_result",
          "data": {
            "text/plain": [
              "0.07665847665847667"
            ]
          },
          "metadata": {},
          "execution_count": 33
        }
      ]
    },
    {
      "cell_type": "markdown",
      "source": [
        "The result show that ~7.5% of customer can be deemed as \"extreme\" Detractor. 4.5% of customer will be deemed as \"light\" Detractor."
      ],
      "metadata": {
        "id": "tsxvnOZBqYDp"
      }
    },
    {
      "cell_type": "code",
      "execution_count": 34,
      "metadata": {
        "id": "mf3gRtuBnORy",
        "colab": {
          "base_uri": "https://localhost:8080/",
          "height": 248
        },
        "outputId": "bbb200f6-999a-4227-b736-b2f5a54ea591"
      },
      "outputs": [
        {
          "output_type": "display_data",
          "data": {
            "text/plain": [
              "<Figure size 432x288 with 1 Axes>"
            ],
            "image/png": "[encoded data removed]"
          },
          "metadata": {}
        }
      ],
      "source": [
        "plt.pie(raw_df[\"NPS Label\"].value_counts(), labels = raw_df[\"NPS Label\"].value_counts().index, autopct='%1.1f%%')\n",
        "plt.show()"
      ]
    },
    {
      "cell_type": "markdown",
      "metadata": {
        "id": "ainCRtDJtweH"
      },
      "source": [
        "Just as the previous analysis suggest, but more obvious through bar chart visualisation. Most of the response suggest they are promoter (>1400 response), while. Detractor are the least popular NPS response (<300 response)."
      ]
    },
    {
      "cell_type": "markdown",
      "source": [
        "- What is the most popular score for each label?"
      ],
      "metadata": {
        "id": "lwY4e8jJrTJc"
      }
    },
    {
      "cell_type": "code",
      "source": [
        "sns.histplot(data = raw_df, x = \"NPS\", hue = \"NPS Label\")\n",
        "plt.show()"
      ],
      "metadata": {
        "colab": {
          "base_uri": "https://localhost:8080/",
          "height": 285
        },
        "id": "VgrTFv4grYTX",
        "outputId": "698d1d20-c2c1-4bf7-aa3a-3b24405cb957"
      },
      "execution_count": 35,
      "outputs": [
        {
          "output_type": "display_data",
          "data": {
            "text/plain": [
              "<Figure size 432x288 with 1 Axes>"
            ],
            "image/png": "[encoded data removed]"
          },
          "metadata": {}
        }
      ]
    },
    {
      "cell_type": "markdown",
      "source": [
        "The most popular score is 10, least popular score is 1 (seems like 0 count). For neutral, the most popular socre is 8. For Detractor, the most popular score is 0, this trend and unpopular score 1 both seems to indicate the tendency to overexaggerate the good and bad experience from the customer. \n",
        "\n",
        "The one with perfect score seems to be pretty important to analyse and understand their experience. The one with \"zero\" score also seem to be very imporant to understand why they have such bad experience. Lastly, relative similar score but different in terms of NPS Label can be analysed and compared to see what it takes for the customer to move from one experience state to the other state"
      ],
      "metadata": {
        "id": "T4lcUaIyrytr"
      }
    },
    {
      "cell_type": "markdown",
      "metadata": {
        "id": "VVcTl4k1L-FY"
      },
      "source": [
        "## Category rating"
      ]
    },
    {
      "cell_type": "markdown",
      "metadata": {
        "id": "FiwUy93VLbiX"
      },
      "source": [
        "Next, we will analyse how customer rating for different service looks like?\n",
        "- The staff we met were friendly and the ambience and atmosphere was positive, fun, and engaging.\n",
        "- The curriculum, programs, and activities seem exciting and engaging for my child/children.\n",
        "- The Visit booking process was smooth and hassle free.\n",
        "- The environment and facilities were clean, safe, and beneficial for my child/children's development.\n",
        "- The information and experience provided by the Visit guide was helpful and enjoyable.\n",
        "- My questions were effectively answered by the Visit guide.\n",
        "- The meals to be provided looked nutritious, fresh, and healthy.\n",
        "- The price of Blue Mountain childcare matches my expectations."
      ]
    },
    {
      "cell_type": "code",
      "execution_count": 36,
      "metadata": {
        "id": "FUF9MY78MMjS"
      },
      "outputs": [],
      "source": [
        "category_list = ['Ambience And Atmosphere', 'Curriculum and Activities', 'Visit Booking Process', 'Environment And Facilities', 'Information and Experience', 'Questions','Nutritious Meals', 'Value For Money']"
      ]
    },
    {
      "cell_type": "code",
      "execution_count": 37,
      "metadata": {
        "id": "7xAwy59qM1f0",
        "colab": {
          "base_uri": "https://localhost:8080/",
          "height": 253
        },
        "outputId": "d81c198d-410f-4e8f-9df1-06c42b732219"
      },
      "outputs": [
        {
          "output_type": "execute_result",
          "data": {
            "text/plain": [
              "       Ambience And Atmosphere Curriculum and Activities  \\\n",
              "count                     1953                      1969   \n",
              "unique                       5                         5   \n",
              "top          5. Strongly Agree         5. Strongly Agree   \n",
              "freq                      1518                      1259   \n",
              "\n",
              "       Visit Booking Process Environment And Facilities  \\\n",
              "count                   1979                       1957   \n",
              "unique                     5                          5   \n",
              "top        5. Strongly Agree          5. Strongly Agree   \n",
              "freq                    1576                       1332   \n",
              "\n",
              "       Information and Experience          Questions   Nutritious Meals  \\\n",
              "count                        1972               1952               1958   \n",
              "unique                          5                  5                  5   \n",
              "top             5. Strongly Agree  5. Strongly Agree  5. Strongly Agree   \n",
              "freq                         1507               1557               1066   \n",
              "\n",
              "          Value For Money  \n",
              "count                1951  \n",
              "unique                  5  \n",
              "top     5. Strongly Agree  \n",
              "freq                  826  "
            ],
            "text/html": [
              "\n",
              "  <div id=\"df-3127187b-101e-4761-b5df-c9efbd96fc4e\">\n",
              "    <div class=\"colab-df-container\">\n",
              "      <div>\n",
              "<style scoped>\n",
              "    .dataframe tbody tr th:only-of-type {\n",
              "        vertical-align: middle;\n",
              "    }\n",
              "\n",
              "    .dataframe tbody tr th {\n",
              "        vertical-align: top;\n",
              "    }\n",
              "\n",
              "    .dataframe thead th {\n",
              "        text-align: right;\n",
              "    }\n",
              "</style>\n",
              "<table border=\"1\" class=\"dataframe\">\n",
              "  <thead>\n",
              "    <tr style=\"text-align: right;\">\n",
              "      <th></th>\n",
              "      <th>Ambience And Atmosphere</th>\n",
              "      <th>Curriculum and Activities</th>\n",
              "      <th>Visit Booking Process</th>\n",
              "      <th>Environment And Facilities</th>\n",
              "      <th>Information and Experience</th>\n",
              "      <th>Questions</th>\n",
              "      <th>Nutritious Meals</th>\n",
              "      <th>Value For Money</th>\n",
              "    </tr>\n",
              "  </thead>\n",
              "  <tbody>\n",
              "    <tr>\n",
              "      <th>count</th>\n",
              "      <td>1953</td>\n",
              "      <td>1969</td>\n",
              "      <td>1979</td>\n",
              "      <td>1957</td>\n",
              "      <td>1972</td>\n",
              "      <td>1952</td>\n",
              "      <td>1958</td>\n",
              "      <td>1951</td>\n",
              "    </tr>\n",
              "    <tr>\n",
              "      <th>unique</th>\n",
              "      <td>5</td>\n",
              "      <td>5</td>\n",
              "      <td>5</td>\n",
              "      <td>5</td>\n",
              "      <td>5</td>\n",
              "      <td>5</td>\n",
              "      <td>5</td>\n",
              "      <td>5</td>\n",
              "    </tr>\n",
              "    <tr>\n",
              "      <th>top</th>\n",
              "      <td>5. Strongly Agree</td>\n",
              "      <td>5. Strongly Agree</td>\n",
              "      <td>5. Strongly Agree</td>\n",
              "      <td>5. Strongly Agree</td>\n",
              "      <td>5. Strongly Agree</td>\n",
              "      <td>5. Strongly Agree</td>\n",
              "      <td>5. Strongly Agree</td>\n",
              "      <td>5. Strongly Agree</td>\n",
              "    </tr>\n",
              "    <tr>\n",
              "      <th>freq</th>\n",
              "      <td>1518</td>\n",
              "      <td>1259</td>\n",
              "      <td>1576</td>\n",
              "      <td>1332</td>\n",
              "      <td>1507</td>\n",
              "      <td>1557</td>\n",
              "      <td>1066</td>\n",
              "      <td>826</td>\n",
              "    </tr>\n",
              "  </tbody>\n",
              "</table>\n",
              "</div>\n",
              "      <button class=\"colab-df-convert\" onclick=\"convertToInteractive('df-3127187b-101e-4761-b5df-c9efbd96fc4e')\"\n",
              "              title=\"Convert this dataframe to an interactive table.\"\n",
              "              style=\"display:none;\">\n",
              "        \n",
              "  <svg xmlns=\"http://www.w3.org/2000/svg\" height=\"24px\"viewBox=\"0 0 24 24\"\n",
              "       width=\"24px\">\n",
              "    <path d=\"M0 0h24v24H0V0z\" fill=\"none\"/>\n",
              "    <path d=\"M18.56 5.44l.94 2.06.94-2.06 2.06-.94-2.06-.94-.94-2.06-.94 2.06-2.06.94zm-11 1L8.5 8.5l.94-2.06 2.06-.94-2.06-.94L8.5 2.5l-.94 2.06-2.06.94zm10 10l.94 2.06.94-2.06 2.06-.94-2.06-.94-.94-2.06-.94 2.06-2.06.94z\"/><path d=\"M17.41 7.96l-1.37-1.37c-.4-.4-.92-.59-1.43-.59-.52 0-1.04.2-1.43.59L10.3 9.45l-7.72 7.72c-.78.78-.78 2.05 0 2.83L4 21.41c.39.39.9.59 1.41.59.51 0 1.02-.2 1.41-.59l7.78-7.78 2.81-2.81c.8-.78.8-2.07 0-2.86zM5.41 20L4 18.59l7.72-7.72 1.47 1.35L5.41 20z\"/>\n",
              "  </svg>\n",
              "      </button>\n",
              "      \n",
              "  <style>\n",
              "    .colab-df-container {\n",
              "      display:flex;\n",
              "      flex-wrap:wrap;\n",
              "      gap: 12px;\n",
              "    }\n",
              "\n",
              "    .colab-df-convert {\n",
              "      background-color: #E8F0FE;\n",
              "      border: none;\n",
              "      border-radius: 50%;\n",
              "      cursor: pointer;\n",
              "      display: none;\n",
              "      fill: #1967D2;\n",
              "      height: 32px;\n",
              "      padding: 0 0 0 0;\n",
              "      width: 32px;\n",
              "    }\n",
              "\n",
              "    .colab-df-convert:hover {\n",
              "      background-color: #E2EBFA;\n",
              "      box-shadow: 0px 1px 2px rgba(60, 64, 67, 0.3), 0px 1px 3px 1px rgba(60, 64, 67, 0.15);\n",
              "      fill: #174EA6;\n",
              "    }\n",
              "\n",
              "    [theme=dark] .colab-df-convert {\n",
              "      background-color: #3B4455;\n",
              "      fill: #D2E3FC;\n",
              "    }\n",
              "\n",
              "    [theme=dark] .colab-df-convert:hover {\n",
              "      background-color: #434B5C;\n",
              "      box-shadow: 0px 1px 3px 1px rgba(0, 0, 0, 0.15);\n",
              "      filter: drop-shadow(0px 1px 2px rgba(0, 0, 0, 0.3));\n",
              "      fill: #FFFFFF;\n",
              "    }\n",
              "  </style>\n",
              "\n",
              "      <script>\n",
              "        const buttonEl =\n",
              "          document.querySelector('#df-3127187b-101e-4761-b5df-c9efbd96fc4e button.colab-df-convert');\n",
              "        buttonEl.style.display =\n",
              "          google.colab.kernel.accessAllowed ? 'block' : 'none';\n",
              "\n",
              "        async function convertToInteractive(key) {\n",
              "          const element = document.querySelector('#df-3127187b-101e-4761-b5df-c9efbd96fc4e');\n",
              "          const dataTable =\n",
              "            await google.colab.kernel.invokeFunction('convertToInteractive',\n",
              "                                                     [key], {});\n",
              "          if (!dataTable) return;\n",
              "\n",
              "          const docLinkHtml = 'Like what you see? Visit the ' +\n",
              "            '<a target=\"_blank\" href=https://colab.research.google.com/notebooks/data_table.ipynb>data table notebook</a>'\n",
              "            + ' to learn more about interactive tables.';\n",
              "          element.innerHTML = '';\n",
              "          dataTable['output_type'] = 'display_data';\n",
              "          await google.colab.output.renderOutput(dataTable, element);\n",
              "          const docLink = document.createElement('div');\n",
              "          docLink.innerHTML = docLinkHtml;\n",
              "          element.appendChild(docLink);\n",
              "        }\n",
              "      </script>\n",
              "    </div>\n",
              "  </div>\n",
              "  "
            ]
          },
          "metadata": {},
          "execution_count": 37
        }
      ],
      "source": [
        "raw_df[category_list].describe()"
      ]
    },
    {
      "cell_type": "markdown",
      "metadata": {
        "id": "UmHP_gJQNSz1"
      },
      "source": [
        "For all of the category, \"Question\", \"Information & Experience\", \"Ambience & Atmostphere\" and \"Visiting Booking Process\" seems to have the highest rating. Almost 3/4 responders gave highest rating (Strongly Agree) for these category.\n",
        "\n",
        "Value for Money, Nutritious Meal have lowest rating, which indicate meal and price didn't perfectly match customer expectation.\n",
        "\n",
        "Let's see the overall distribution for more informative insight."
      ]
    },
    {
      "cell_type": "markdown",
      "source": [
        "Each category has 5 types of response, from Strong Agree(5) to Strongly Disagree(1). Let's plot the distribution of the Rating for every category. We want to see if there's any category stood out as best/worst in customer mind"
      ],
      "metadata": {
        "id": "axkcggVOnxOy"
      }
    },
    {
      "cell_type": "code",
      "source": [
        "#Create new dataframe regarding distribution of answer from each category\n",
        "def create_rating_df(raw_df):\n",
        "  category_dict_list = []\n",
        "  for category in category_list:\n",
        "    category_dict = {}\n",
        "    category_dict[\"Category\"] = category\n",
        "    rating_dist = raw_df[category].value_counts()\n",
        "    for index, value in rating_dist.iteritems():\n",
        "      category_dict[index] = value\n",
        "    category_dict_list.append(category_dict)\n",
        "\n",
        "  category_dict_list\n",
        "  category_df = pd.DataFrame(category_dict_list)\n",
        "  return category_df"
      ],
      "metadata": {
        "id": "cx6QgrTpxJeb"
      },
      "execution_count": 38,
      "outputs": []
    },
    {
      "cell_type": "code",
      "source": [
        "#Plot stacked bar chart for each category to see response distribution\n",
        "def plot_rating_distribution(category_df):\n",
        "  ax = category_df.plot.bar(stacked = True, x = \"Category\", figsize = (10, 5))\n",
        "  ax.set_title('The Rating distribution per category', fontsize=20)\n",
        "  ax.set_xticklabels(['Ambience & Atmosph','Curriculumn','Visit Booking', \"Env & Faci\", \"Info & exp\", \"Question\", \"Meal\", \"Fee\"], rotation = 45)\n",
        "  plt.show()\n"
      ],
      "metadata": {
        "id": "RIoinwTpzuyz"
      },
      "execution_count": 39,
      "outputs": []
    },
    {
      "cell_type": "code",
      "source": [
        "category_df = create_rating_df(raw_df)\n",
        "plot_rating_distribution(category_df)"
      ],
      "metadata": {
        "colab": {
          "base_uri": "https://localhost:8080/",
          "height": 442
        },
        "id": "p8pCxYmxixvU",
        "outputId": "fc478ee6-d30d-45a8-bae9-093aa038e18a"
      },
      "execution_count": 40,
      "outputs": [
        {
          "output_type": "display_data",
          "data": {
            "text/plain": [
              "<Figure size 720x360 with 1 Axes>"
            ],
            "image/png": "[encoded data removed]"
          },
          "metadata": {}
        }
      ]
    },
    {
      "cell_type": "markdown",
      "source": [
        "The highest rating:\n",
        "1. Visit Booking Process \n",
        "2. Question\n",
        "3. Info & Exp\n",
        "4. Ambience & Atmosphere\n",
        "\n",
        "**Takeaway: Bluemountain nailed it when it comes to customer first impression. The experience that the childcare offer when parents come to visit (booking process, questions addressed by the staffs) the Childcare are mostly positive**"
      ],
      "metadata": {
        "id": "xThrhX7N2r5d"
      }
    },
    {
      "cell_type": "markdown",
      "source": [
        "The lowest rating:\n",
        "1. Fee\n",
        "2. Meal\n",
        "3. Environment & facilities\n",
        "4. Curriculum\n",
        "\n",
        "**Fee and meal show the lowest rating, especially when it comes to fee, about 70-75% of customer agree or strongly agree that the price of childcare service match their expectation.** This number is different when it comes to other category (88% agree or strongly agree when it comes to other category)\n",
        "\n",
        "Curriculumn and Environtment & Facilities are two category that saw a jump in the number of customer who agree instead of strongly agree. **It means that the quality of these category has somewhat matched customer expectation, but not exceed and excites them as much as other category. There's definitely room for improvement coming forward to the future.**"
      ],
      "metadata": {
        "id": "x55y3vr-5E3x"
      }
    },
    {
      "cell_type": "markdown",
      "source": [
        "Interesting trend:"
      ],
      "metadata": {
        "id": "6D76HO5o8T2j"
      }
    },
    {
      "cell_type": "code",
      "source": [
        "category_df[[\"Category\", \"3. Neither Agree nor Disagree\", \"2. Disagree\", \"1. Strongly Disagree\"]].plot.bar(stacked = True, x = \"Category\", color = [\"green\", \"brown\", \"blueviolet\"])\n",
        "plt.show()"
      ],
      "metadata": {
        "id": "-giukt948VNk",
        "colab": {
          "base_uri": "https://localhost:8080/",
          "height": 429
        },
        "outputId": "eec29517-9a02-411d-b837-d0a4fbd52510"
      },
      "execution_count": 41,
      "outputs": [
        {
          "output_type": "display_data",
          "data": {
            "text/plain": [
              "<Figure size 432x288 with 1 Axes>"
            ],
            "image/png": "[encoded data removed]"
          },
          "metadata": {}
        }
      ]
    },
    {
      "cell_type": "markdown",
      "source": [
        "The visual shows how many customer have neutral or negative experience with each of the category. In general, the higher the bar the more neutral & negative sentiment toward a particular category.\n",
        "\n"
      ],
      "metadata": {
        "id": "7Uq92g_J-sod"
      }
    },
    {
      "cell_type": "markdown",
      "source": [
        "*Visiting Experience*\n",
        "\n",
        "From what we we saw in the previous graphs, it's not surprise to see the three categories related to visiting experience have very low rate of negative and neutral responses"
      ],
      "metadata": {
        "id": "F9C31B-gS_Bq"
      }
    },
    {
      "cell_type": "markdown",
      "source": [
        "*Curriculumn and Activities vs Ambience and Atmostphere vs Environtment and Facilitites and Nutritious Meals*\n",
        "\n",
        "Those are the categories which also have relatively low rate of neutral + negative rating as well. Curriculumn and Activities have higher neutral response rate, but lower negative response, while Environment and Ambience and Atmostphere have lower neutral response rate, but more negative response rate. \n",
        "\n",
        "The second highest in terms of Neg + Neutral rating comes to Meal Nutrition. It comprise of large proportion of neutral rating and very small proportion of negative rating. Infact, it has the lowest number of negative rating. The quite similar trends goes to Curriculum & Activities Rating.\n",
        "\n",
        "Contrastly, for Ambience&Atmostphere and Environtment&Facilities, the number of of negative response are relatively more dominant than neutral response. It either the customer (parents/students) like it or don't like it. \n"
      ],
      "metadata": {
        "id": "D3WPoX-RS4gn"
      }
    },
    {
      "cell_type": "markdown",
      "metadata": {
        "id": "9vtNL-Z3TLh-"
      },
      "source": [
        "####We also have response that have some missing rating data (for some categories). Are they systemally missing or randomly. Let's see"
      ]
    },
    {
      "cell_type": "code",
      "execution_count": 42,
      "metadata": {
        "id": "7D5dYZ9CTXFv",
        "colab": {
          "base_uri": "https://localhost:8080/",
          "height": 490
        },
        "outputId": "06f52d6c-6480-444e-c03c-164cb007b9bf"
      },
      "outputs": [
        {
          "output_type": "stream",
          "name": "stdout",
          "text": [
            "(86, 24)\n"
          ]
        },
        {
          "output_type": "execute_result",
          "data": {
            "text/plain": [
              "     Area             City  NPS  NPS Label Ambience And Atmosphere  \\\n",
              "23     15          Corinda    8    Neutral                4. Agree   \n",
              "77     10           Nerang    8    Neutral                     NaN   \n",
              "140     2     Mount Evelyn    6  Detractor                     NaN   \n",
              "239     4  Sanctuary Point    9   Promoter                     NaN   \n",
              "260    23          Kyneton   10   Promoter                     NaN   \n",
              "\n",
              "    Curriculum and Activities Visit Booking Process  \\\n",
              "23                   4. Agree              4. Agree   \n",
              "77                        NaN                   NaN   \n",
              "140                       NaN                   NaN   \n",
              "239         5. Strongly Agree     5. Strongly Agree   \n",
              "260         5. Strongly Agree     5. Strongly Agree   \n",
              "\n",
              "    Environment And Facilities Information and Experience Questions  ...  \\\n",
              "23                    4. Agree                   4. Agree  4. Agree  ...   \n",
              "77                         NaN                        NaN       NaN  ...   \n",
              "140                        NaN                        NaN       NaN  ...   \n",
              "239                        NaN          5. Strongly Agree       NaN  ...   \n",
              "260          5. Strongly Agree          5. Strongly Agree       NaN  ...   \n",
              "\n",
              "    Survey Sent Date [GMT] Start Date  \\\n",
              "23              2022-05-18 2022-05-13   \n",
              "77              2022-05-13 2022-05-09   \n",
              "140             2022-05-04 2022-04-28   \n",
              "239             2022-04-22 2022-04-19   \n",
              "260             2022-04-22 2022-04-19   \n",
              "\n",
              "                               NPS Feedback Categories  \\\n",
              "23                      \"Campus Directors & Educators\"   \n",
              "77   \"App & Child Updates\",\"Communication\",\"Curricu...   \n",
              "140                            \"Curriculum & Programs\"   \n",
              "239  \"Campus Directors & Educators\",\"Environment & ...   \n",
              "260  \"Campus Directors & Educators\",\"Curriculum & P...   \n",
              "\n",
              "    Improvement Feedback Categories Response Month (YYYY-MM)  \\\n",
              "23                              NaN                  2022-05   \n",
              "77                              NaN                  2022-05   \n",
              "140                             NaN                  2022-05   \n",
              "239                             NaN                  2022-04   \n",
              "260                             NaN                  2022-04   \n",
              "\n",
              "    Response Year (YYYY) Response Quarter (YYYY-Q#) Workflow Status  \\\n",
              "23                  2022                    2022-Q2          Closed   \n",
              "77                  2022                    2022-Q2            None   \n",
              "140                 2022                    2022-Q2          Closed   \n",
              "239                 2022                    2022-Q2          Closed   \n",
              "260                 2022                    2022-Q2         Pending   \n",
              "\n",
              "         Last Modified Date  Division  \n",
              "23  2022-05-26 07:36:05.308     Green  \n",
              "77                      NaT      Blue  \n",
              "140 2022-05-09 11:47:49.664       Red  \n",
              "239 2022-04-26 12:52:38.746       Red  \n",
              "260 2022-04-22 20:48:14.540     Green  \n",
              "\n",
              "[5 rows x 24 columns]"
            ],
            "text/html": [
              "\n",
              "  <div id=\"df-8fbb3e8c-7131-4ca0-985e-ae55149a7f2b\">\n",
              "    <div class=\"colab-df-container\">\n",
              "      <div>\n",
              "<style scoped>\n",
              "    .dataframe tbody tr th:only-of-type {\n",
              "        vertical-align: middle;\n",
              "    }\n",
              "\n",
              "    .dataframe tbody tr th {\n",
              "        vertical-align: top;\n",
              "    }\n",
              "\n",
              "    .dataframe thead th {\n",
              "        text-align: right;\n",
              "    }\n",
              "</style>\n",
              "<table border=\"1\" class=\"dataframe\">\n",
              "  <thead>\n",
              "    <tr style=\"text-align: right;\">\n",
              "      <th></th>\n",
              "      <th>Area</th>\n",
              "      <th>City</th>\n",
              "      <th>NPS</th>\n",
              "      <th>NPS Label</th>\n",
              "      <th>Ambience And Atmosphere</th>\n",
              "      <th>Curriculum and Activities</th>\n",
              "      <th>Visit Booking Process</th>\n",
              "      <th>Environment And Facilities</th>\n",
              "      <th>Information and Experience</th>\n",
              "      <th>Questions</th>\n",
              "      <th>...</th>\n",
              "      <th>Survey Sent Date [GMT]</th>\n",
              "      <th>Start Date</th>\n",
              "      <th>NPS Feedback Categories</th>\n",
              "      <th>Improvement Feedback Categories</th>\n",
              "      <th>Response Month (YYYY-MM)</th>\n",
              "      <th>Response Year (YYYY)</th>\n",
              "      <th>Response Quarter (YYYY-Q#)</th>\n",
              "      <th>Workflow Status</th>\n",
              "      <th>Last Modified Date</th>\n",
              "      <th>Division</th>\n",
              "    </tr>\n",
              "  </thead>\n",
              "  <tbody>\n",
              "    <tr>\n",
              "      <th>23</th>\n",
              "      <td>15</td>\n",
              "      <td>Corinda</td>\n",
              "      <td>8</td>\n",
              "      <td>Neutral</td>\n",
              "      <td>4. Agree</td>\n",
              "      <td>4. Agree</td>\n",
              "      <td>4. Agree</td>\n",
              "      <td>4. Agree</td>\n",
              "      <td>4. Agree</td>\n",
              "      <td>4. Agree</td>\n",
              "      <td>...</td>\n",
              "      <td>2022-05-18</td>\n",
              "      <td>2022-05-13</td>\n",
              "      <td>\"Campus Directors &amp; Educators\"</td>\n",
              "      <td>NaN</td>\n",
              "      <td>2022-05</td>\n",
              "      <td>2022</td>\n",
              "      <td>2022-Q2</td>\n",
              "      <td>Closed</td>\n",
              "      <td>2022-05-26 07:36:05.308</td>\n",
              "      <td>Green</td>\n",
              "    </tr>\n",
              "    <tr>\n",
              "      <th>77</th>\n",
              "      <td>10</td>\n",
              "      <td>Nerang</td>\n",
              "      <td>8</td>\n",
              "      <td>Neutral</td>\n",
              "      <td>NaN</td>\n",
              "      <td>NaN</td>\n",
              "      <td>NaN</td>\n",
              "      <td>NaN</td>\n",
              "      <td>NaN</td>\n",
              "      <td>NaN</td>\n",
              "      <td>...</td>\n",
              "      <td>2022-05-13</td>\n",
              "      <td>2022-05-09</td>\n",
              "      <td>\"App &amp; Child Updates\",\"Communication\",\"Curricu...</td>\n",
              "      <td>NaN</td>\n",
              "      <td>2022-05</td>\n",
              "      <td>2022</td>\n",
              "      <td>2022-Q2</td>\n",
              "      <td>None</td>\n",
              "      <td>NaT</td>\n",
              "      <td>Blue</td>\n",
              "    </tr>\n",
              "    <tr>\n",
              "      <th>140</th>\n",
              "      <td>2</td>\n",
              "      <td>Mount Evelyn</td>\n",
              "      <td>6</td>\n",
              "      <td>Detractor</td>\n",
              "      <td>NaN</td>\n",
              "      <td>NaN</td>\n",
              "      <td>NaN</td>\n",
              "      <td>NaN</td>\n",
              "      <td>NaN</td>\n",
              "      <td>NaN</td>\n",
              "      <td>...</td>\n",
              "      <td>2022-05-04</td>\n",
              "      <td>2022-04-28</td>\n",
              "      <td>\"Curriculum &amp; Programs\"</td>\n",
              "      <td>NaN</td>\n",
              "      <td>2022-05</td>\n",
              "      <td>2022</td>\n",
              "      <td>2022-Q2</td>\n",
              "      <td>Closed</td>\n",
              "      <td>2022-05-09 11:47:49.664</td>\n",
              "      <td>Red</td>\n",
              "    </tr>\n",
              "    <tr>\n",
              "      <th>239</th>\n",
              "      <td>4</td>\n",
              "      <td>Sanctuary Point</td>\n",
              "      <td>9</td>\n",
              "      <td>Promoter</td>\n",
              "      <td>NaN</td>\n",
              "      <td>5. Strongly Agree</td>\n",
              "      <td>5. Strongly Agree</td>\n",
              "      <td>NaN</td>\n",
              "      <td>5. Strongly Agree</td>\n",
              "      <td>NaN</td>\n",
              "      <td>...</td>\n",
              "      <td>2022-04-22</td>\n",
              "      <td>2022-04-19</td>\n",
              "      <td>\"Campus Directors &amp; Educators\",\"Environment &amp; ...</td>\n",
              "      <td>NaN</td>\n",
              "      <td>2022-04</td>\n",
              "      <td>2022</td>\n",
              "      <td>2022-Q2</td>\n",
              "      <td>Closed</td>\n",
              "      <td>2022-04-26 12:52:38.746</td>\n",
              "      <td>Red</td>\n",
              "    </tr>\n",
              "    <tr>\n",
              "      <th>260</th>\n",
              "      <td>23</td>\n",
              "      <td>Kyneton</td>\n",
              "      <td>10</td>\n",
              "      <td>Promoter</td>\n",
              "      <td>NaN</td>\n",
              "      <td>5. Strongly Agree</td>\n",
              "      <td>5. Strongly Agree</td>\n",
              "      <td>5. Strongly Agree</td>\n",
              "      <td>5. Strongly Agree</td>\n",
              "      <td>NaN</td>\n",
              "      <td>...</td>\n",
              "      <td>2022-04-22</td>\n",
              "      <td>2022-04-19</td>\n",
              "      <td>\"Campus Directors &amp; Educators\",\"Curriculum &amp; P...</td>\n",
              "      <td>NaN</td>\n",
              "      <td>2022-04</td>\n",
              "      <td>2022</td>\n",
              "      <td>2022-Q2</td>\n",
              "      <td>Pending</td>\n",
              "      <td>2022-04-22 20:48:14.540</td>\n",
              "      <td>Green</td>\n",
              "    </tr>\n",
              "  </tbody>\n",
              "</table>\n",
              "<p>5 rows × 24 columns</p>\n",
              "</div>\n",
              "      <button class=\"colab-df-convert\" onclick=\"convertToInteractive('df-8fbb3e8c-7131-4ca0-985e-ae55149a7f2b')\"\n",
              "              title=\"Convert this dataframe to an interactive table.\"\n",
              "              style=\"display:none;\">\n",
              "        \n",
              "  <svg xmlns=\"http://www.w3.org/2000/svg\" height=\"24px\"viewBox=\"0 0 24 24\"\n",
              "       width=\"24px\">\n",
              "    <path d=\"M0 0h24v24H0V0z\" fill=\"none\"/>\n",
              "    <path d=\"M18.56 5.44l.94 2.06.94-2.06 2.06-.94-2.06-.94-.94-2.06-.94 2.06-2.06.94zm-11 1L8.5 8.5l.94-2.06 2.06-.94-2.06-.94L8.5 2.5l-.94 2.06-2.06.94zm10 10l.94 2.06.94-2.06 2.06-.94-2.06-.94-.94-2.06-.94 2.06-2.06.94z\"/><path d=\"M17.41 7.96l-1.37-1.37c-.4-.4-.92-.59-1.43-.59-.52 0-1.04.2-1.43.59L10.3 9.45l-7.72 7.72c-.78.78-.78 2.05 0 2.83L4 21.41c.39.39.9.59 1.41.59.51 0 1.02-.2 1.41-.59l7.78-7.78 2.81-2.81c.8-.78.8-2.07 0-2.86zM5.41 20L4 18.59l7.72-7.72 1.47 1.35L5.41 20z\"/>\n",
              "  </svg>\n",
              "      </button>\n",
              "      \n",
              "  <style>\n",
              "    .colab-df-container {\n",
              "      display:flex;\n",
              "      flex-wrap:wrap;\n",
              "      gap: 12px;\n",
              "    }\n",
              "\n",
              "    .colab-df-convert {\n",
              "      background-color: #E8F0FE;\n",
              "      border: none;\n",
              "      border-radius: 50%;\n",
              "      cursor: pointer;\n",
              "      display: none;\n",
              "      fill: #1967D2;\n",
              "      height: 32px;\n",
              "      padding: 0 0 0 0;\n",
              "      width: 32px;\n",
              "    }\n",
              "\n",
              "    .colab-df-convert:hover {\n",
              "      background-color: #E2EBFA;\n",
              "      box-shadow: 0px 1px 2px rgba(60, 64, 67, 0.3), 0px 1px 3px 1px rgba(60, 64, 67, 0.15);\n",
              "      fill: #174EA6;\n",
              "    }\n",
              "\n",
              "    [theme=dark] .colab-df-convert {\n",
              "      background-color: #3B4455;\n",
              "      fill: #D2E3FC;\n",
              "    }\n",
              "\n",
              "    [theme=dark] .colab-df-convert:hover {\n",
              "      background-color: #434B5C;\n",
              "      box-shadow: 0px 1px 3px 1px rgba(0, 0, 0, 0.15);\n",
              "      filter: drop-shadow(0px 1px 2px rgba(0, 0, 0, 0.3));\n",
              "      fill: #FFFFFF;\n",
              "    }\n",
              "  </style>\n",
              "\n",
              "      <script>\n",
              "        const buttonEl =\n",
              "          document.querySelector('#df-8fbb3e8c-7131-4ca0-985e-ae55149a7f2b button.colab-df-convert');\n",
              "        buttonEl.style.display =\n",
              "          google.colab.kernel.accessAllowed ? 'block' : 'none';\n",
              "\n",
              "        async function convertToInteractive(key) {\n",
              "          const element = document.querySelector('#df-8fbb3e8c-7131-4ca0-985e-ae55149a7f2b');\n",
              "          const dataTable =\n",
              "            await google.colab.kernel.invokeFunction('convertToInteractive',\n",
              "                                                     [key], {});\n",
              "          if (!dataTable) return;\n",
              "\n",
              "          const docLinkHtml = 'Like what you see? Visit the ' +\n",
              "            '<a target=\"_blank\" href=https://colab.research.google.com/notebooks/data_table.ipynb>data table notebook</a>'\n",
              "            + ' to learn more about interactive tables.';\n",
              "          element.innerHTML = '';\n",
              "          dataTable['output_type'] = 'display_data';\n",
              "          await google.colab.output.renderOutput(dataTable, element);\n",
              "          const docLink = document.createElement('div');\n",
              "          docLink.innerHTML = docLinkHtml;\n",
              "          element.appendChild(docLink);\n",
              "        }\n",
              "      </script>\n",
              "    </div>\n",
              "  </div>\n",
              "  "
            ]
          },
          "metadata": {},
          "execution_count": 42
        }
      ],
      "source": [
        "category_df = raw_df[category_list]\n",
        "missing_category_df = raw_df[category_df.notnull().all(axis=1) == False]\n",
        "print(missing_category_df.shape)\n",
        "missing_category_df.head()"
      ]
    },
    {
      "cell_type": "code",
      "source": [
        "raw_df.shape"
      ],
      "metadata": {
        "colab": {
          "base_uri": "https://localhost:8080/"
        },
        "id": "_URpVm7sVoVR",
        "outputId": "6a779331-68e3-4645-e5c6-6ba7862632b1"
      },
      "execution_count": 43,
      "outputs": [
        {
          "output_type": "execute_result",
          "data": {
            "text/plain": [
              "(2035, 24)"
            ]
          },
          "metadata": {},
          "execution_count": 43
        }
      ]
    },
    {
      "cell_type": "markdown",
      "metadata": {
        "id": "6KL-YGRUVsR5"
      },
      "source": [
        "In total, we have 86 missing data, about 4% of total number of response. The low number seems to indicate a quite random missing trend, however, it's still worthwhile to investigate on the matter whether it's systematically missing. If it's random, we can exclude them and still have a quite representative insight from the remaining response data.\n",
        "\n",
        "As there are many data dimension, we will focus on some important dimensions only (NPS, category rating)"
      ]
    },
    {
      "cell_type": "code",
      "execution_count": 44,
      "metadata": {
        "id": "OiMQrQqSV3dD",
        "colab": {
          "base_uri": "https://localhost:8080/"
        },
        "outputId": "0cbb615e-aefc-4c96-e880-6fb5ca09a8ed"
      },
      "outputs": [
        {
          "output_type": "execute_result",
          "data": {
            "text/plain": [
              "Promoter     0.604651\n",
              "Detractor    0.232558\n",
              "Neutral      0.162791\n",
              "Name: NPS Label, dtype: float64"
            ]
          },
          "metadata": {},
          "execution_count": 44
        }
      ],
      "source": [
        "#NPS Label distribution of missing data\n",
        "df = missing_category_df.copy()\n",
        "df[\"NPS Label\"].value_counts()/df[\"NPS Label\"].shape[0]"
      ]
    },
    {
      "cell_type": "code",
      "source": [
        "#NPS Label distribution of whole dataset\n",
        "raw_df[\"NPS Label\"].value_counts()/raw_df[\"NPS Label\"].shape[0]"
      ],
      "metadata": {
        "colab": {
          "base_uri": "https://localhost:8080/"
        },
        "id": "JDLQphBRXsuY",
        "outputId": "6f47ad35-e9a9-4811-946e-97b97ba11916"
      },
      "execution_count": 45,
      "outputs": [
        {
          "output_type": "execute_result",
          "data": {
            "text/plain": [
              "Promoter     0.709091\n",
              "Neutral      0.170516\n",
              "Detractor    0.120393\n",
              "Name: NPS Label, dtype: float64"
            ]
          },
          "metadata": {},
          "execution_count": 45
        }
      ]
    },
    {
      "cell_type": "markdown",
      "source": [
        "The total number of promter are 60%, detractor are 23%. This is quite staggering differences from the distribution of the whole data. My hypothesis is that bad experience had led to low responses/engagement. Let's see the distribution of the actual NPS score if it support my hypothesis: "
      ],
      "metadata": {
        "id": "QZ2--XCgXPLm"
      }
    },
    {
      "cell_type": "code",
      "source": [
        "sns.histplot(data = df, x = \"NPS\", hue = \"NPS\")\n",
        "plt.show()"
      ],
      "metadata": {
        "colab": {
          "base_uri": "https://localhost:8080/",
          "height": 285
        },
        "id": "XLsEg6mBY3gi",
        "outputId": "ed77ae18-6fba-4c0e-a98c-f58916c80a50"
      },
      "execution_count": 46,
      "outputs": [
        {
          "output_type": "display_data",
          "data": {
            "text/plain": [
              "<Figure size 432x288 with 1 Axes>"
            ],
            "image/png": "[encoded data removed]"
          },
          "metadata": {}
        }
      ]
    },
    {
      "cell_type": "code",
      "source": [
        "sns.histplot(data = raw_df, x = \"NPS\", hue = \"NPS\")\n",
        "plt.show()"
      ],
      "metadata": {
        "colab": {
          "base_uri": "https://localhost:8080/",
          "height": 285
        },
        "id": "e2pQSnngZb_Q",
        "outputId": "787bd6df-a0af-4f62-c01a-b72c330e670f"
      },
      "execution_count": 47,
      "outputs": [
        {
          "output_type": "display_data",
          "data": {
            "text/plain": [
              "<Figure size 432x288 with 1 Axes>"
            ],
            "image/png": "[encoded data removed]"
          },
          "metadata": {}
        }
      ]
    },
    {
      "cell_type": "markdown",
      "source": [
        "The distribution is quite identical, except that the proportion of customer giving rating (2-6) is higher than the whole dataset distribution"
      ],
      "metadata": {
        "id": "nnwEE--KZqgY"
      }
    },
    {
      "cell_type": "code",
      "source": [
        "print(\"Avg NPS for missing data:\", round(df[\"NPS\"].mean(), 2))\n",
        "print(\"Avg NPS for complete dataset:\", round(raw_df[\"NPS\"].mean(), 2))"
      ],
      "metadata": {
        "colab": {
          "base_uri": "https://localhost:8080/"
        },
        "id": "IRio8tdcCRmm",
        "outputId": "50583459-83ea-47b3-aaee-2da605cbbf14"
      },
      "execution_count": 48,
      "outputs": [
        {
          "output_type": "stream",
          "name": "stdout",
          "text": [
            "Avg NPS for missing data: 7.78\n",
            "Avg NPS for complete dataset: 8.62\n"
          ]
        }
      ]
    },
    {
      "cell_type": "markdown",
      "source": [
        "And this lead to a lower overall NPS score"
      ],
      "metadata": {
        "id": "V3eep27kZ-CK"
      }
    },
    {
      "cell_type": "markdown",
      "metadata": {
        "id": "ILrNLPXlWmIy"
      },
      "source": [
        "The proportion of Detractor is interestingly higher than usual.\n",
        "\n",
        "We also want to see how these customer fill out the category rating data. I've noticed there are rows with completely missing rating data while some rows have only few value missing. Let's see"
      ]
    },
    {
      "cell_type": "code",
      "execution_count": 49,
      "metadata": {
        "id": "CBayAseMccfm",
        "colab": {
          "base_uri": "https://localhost:8080/"
        },
        "outputId": "a107eaf5-774e-4686-fb26-b1249654d957"
      },
      "outputs": [
        {
          "output_type": "execute_result",
          "data": {
            "text/plain": [
              "(55, 24)"
            ]
          },
          "metadata": {},
          "execution_count": 49
        }
      ],
      "source": [
        "#Extract how many rows have completely missing category missing value\n",
        "raw_df[category_df.isnull().all(axis=1)].shape"
      ]
    },
    {
      "cell_type": "markdown",
      "source": [
        "55/84 rows have completely missing rating data. If my hypothesis is right, they have to be customer with extreme rating."
      ],
      "metadata": {
        "id": "XppeCPx-bZRa"
      }
    },
    {
      "cell_type": "code",
      "source": [
        "#save in a new df called missing_all_rating\n",
        "missing_all_rating = raw_df[category_df.isnull().all(axis=1)]\n",
        "missing_all_rating[\"NPS Label\"].value_counts()/missing_all_rating.shape[0]"
      ],
      "metadata": {
        "colab": {
          "base_uri": "https://localhost:8080/"
        },
        "id": "JnLvdOhmDqdh",
        "outputId": "efe2b8f7-025c-4fba-9fce-cd6329097520"
      },
      "execution_count": 50,
      "outputs": [
        {
          "output_type": "execute_result",
          "data": {
            "text/plain": [
              "Promoter     0.636364\n",
              "Detractor    0.236364\n",
              "Neutral      0.127273\n",
              "Name: NPS Label, dtype: float64"
            ]
          },
          "metadata": {},
          "execution_count": 50
        }
      ]
    },
    {
      "cell_type": "markdown",
      "source": [
        "It does show some trend, but the actual increasement came from number of Promoter."
      ],
      "metadata": {
        "id": "G1oUh7s-bvnv"
      }
    },
    {
      "cell_type": "code",
      "source": [
        "sns.countplot(missing_all_rating[\"NPS Label\"])\n",
        "plt.show()"
      ],
      "metadata": {
        "colab": {
          "base_uri": "https://localhost:8080/",
          "height": 340
        },
        "id": "N1O3a0-sD8mq",
        "outputId": "a0ae84b7-d6a1-4bfb-acb0-79d3593daed2"
      },
      "execution_count": 51,
      "outputs": [
        {
          "output_type": "stream",
          "name": "stderr",
          "text": [
            "/usr/local/lib/python3.7/dist-packages/seaborn/_decorators.py:43: FutureWarning: Pass the following variable as a keyword arg: x. From version 0.12, the only valid positional argument will be `data`, and passing other arguments without an explicit keyword will result in an error or misinterpretation.\n",
            "  FutureWarning\n"
          ]
        },
        {
          "output_type": "display_data",
          "data": {
            "text/plain": [
              "<Figure size 432x288 with 1 Axes>"
            ],
            "image/png": "[encoded data removed]"
          },
          "metadata": {}
        }
      ]
    },
    {
      "cell_type": "markdown",
      "metadata": {
        "id": "fuMT9qIUYVPW"
      },
      "source": [
        "Some category have more missing value than others:\n",
        "\n",
        "1.   Ambience And Atmosphere\n",
        "2.   Questions\n",
        "3.   Value For Money\n",
        "\n",
        "While some category have more available value than others:\n",
        "\n",
        "1.   Visit Booking Process\n",
        "2.   Information and Experience\n",
        "3.   Curriculum and Activities\n",
        "\n",
        "This might be of the fact that there's not enough information for them to give their rating by the time the survey was released yet.\n",
        "\n",
        "Anyway, we will leave this here for now and start doing other analysis"
      ]
    },
    {
      "cell_type": "markdown",
      "metadata": {
        "id": "Ese4zYQudidP"
      },
      "source": [
        "## Regression Analysis:\n",
        "\n",
        "Now, to see relationship between these rating to NPS score, let's create a correlation table and also regression analysis"
      ]
    },
    {
      "cell_type": "code",
      "execution_count": 52,
      "metadata": {
        "id": "KzqjjWqJeQBo",
        "colab": {
          "base_uri": "https://localhost:8080/",
          "height": 584
        },
        "outputId": "ae80cca7-69d8-4d9e-8e56-7197e42d2477"
      },
      "outputs": [
        {
          "output_type": "stream",
          "name": "stderr",
          "text": [
            "/usr/local/lib/python3.7/dist-packages/ipykernel_launcher.py:5: SettingWithCopyWarning: \n",
            "A value is trying to be set on a copy of a slice from a DataFrame.\n",
            "Try using .loc[row_indexer,col_indexer] = value instead\n",
            "\n",
            "See the caveats in the documentation: https://pandas.pydata.org/pandas-docs/stable/user_guide/indexing.html#returning-a-view-versus-a-copy\n",
            "  \"\"\"\n"
          ]
        },
        {
          "output_type": "execute_result",
          "data": {
            "text/plain": [
              "                            Ambience And Atmosphere  \\\n",
              "Ambience And Atmosphere                    1.000000   \n",
              "Curriculum and Activities                  0.716465   \n",
              "Visit Booking Process                      0.461045   \n",
              "Environment And Facilities                 0.723580   \n",
              "Information and Experience                 0.779540   \n",
              "Questions                                  0.742730   \n",
              "Nutritious Meals                           0.523739   \n",
              "Value For Money                            0.501275   \n",
              "NPS                                        0.741197   \n",
              "\n",
              "                            Curriculum and Activities  Visit Booking Process  \\\n",
              "Ambience And Atmosphere                      0.716465               0.461045   \n",
              "Curriculum and Activities                    1.000000               0.418700   \n",
              "Visit Booking Process                        0.418700               1.000000   \n",
              "Environment And Facilities                   0.739725               0.421323   \n",
              "Information and Experience                   0.690045               0.492315   \n",
              "Questions                                    0.643565               0.497236   \n",
              "Nutritious Meals                             0.620347               0.353208   \n",
              "Value For Money                              0.529060               0.335793   \n",
              "NPS                                          0.707536               0.348128   \n",
              "\n",
              "                            Environment And Facilities  \\\n",
              "Ambience And Atmosphere                       0.723580   \n",
              "Curriculum and Activities                     0.739725   \n",
              "Visit Booking Process                         0.421323   \n",
              "Environment And Facilities                    1.000000   \n",
              "Information and Experience                    0.644892   \n",
              "Questions                                     0.593993   \n",
              "Nutritious Meals                              0.545168   \n",
              "Value For Money                               0.526753   \n",
              "NPS                                           0.742591   \n",
              "\n",
              "                            Information and Experience  Questions  \\\n",
              "Ambience And Atmosphere                       0.779540   0.742730   \n",
              "Curriculum and Activities                     0.690045   0.643565   \n",
              "Visit Booking Process                         0.492315   0.497236   \n",
              "Environment And Facilities                    0.644892   0.593993   \n",
              "Information and Experience                    1.000000   0.809334   \n",
              "Questions                                     0.809334   1.000000   \n",
              "Nutritious Meals                              0.516270   0.492762   \n",
              "Value For Money                               0.487351   0.482006   \n",
              "NPS                                           0.675787   0.629045   \n",
              "\n",
              "                            Nutritious Meals  Value For Money       NPS  \n",
              "Ambience And Atmosphere             0.523739         0.501275  0.741197  \n",
              "Curriculum and Activities           0.620347         0.529060  0.707536  \n",
              "Visit Booking Process               0.353208         0.335793  0.348128  \n",
              "Environment And Facilities          0.545168         0.526753  0.742591  \n",
              "Information and Experience          0.516270         0.487351  0.675787  \n",
              "Questions                           0.492762         0.482006  0.629045  \n",
              "Nutritious Meals                    1.000000         0.447081  0.496750  \n",
              "Value For Money                     0.447081         1.000000  0.554838  \n",
              "NPS                                 0.496750         0.554838  1.000000  "
            ],
            "text/html": [
              "\n",
              "  <div id=\"df-eaf60476-057b-43a3-bdb9-d53558e94a52\">\n",
              "    <div class=\"colab-df-container\">\n",
              "      <div>\n",
              "<style scoped>\n",
              "    .dataframe tbody tr th:only-of-type {\n",
              "        vertical-align: middle;\n",
              "    }\n",
              "\n",
              "    .dataframe tbody tr th {\n",
              "        vertical-align: top;\n",
              "    }\n",
              "\n",
              "    .dataframe thead th {\n",
              "        text-align: right;\n",
              "    }\n",
              "</style>\n",
              "<table border=\"1\" class=\"dataframe\">\n",
              "  <thead>\n",
              "    <tr style=\"text-align: right;\">\n",
              "      <th></th>\n",
              "      <th>Ambience And Atmosphere</th>\n",
              "      <th>Curriculum and Activities</th>\n",
              "      <th>Visit Booking Process</th>\n",
              "      <th>Environment And Facilities</th>\n",
              "      <th>Information and Experience</th>\n",
              "      <th>Questions</th>\n",
              "      <th>Nutritious Meals</th>\n",
              "      <th>Value For Money</th>\n",
              "      <th>NPS</th>\n",
              "    </tr>\n",
              "  </thead>\n",
              "  <tbody>\n",
              "    <tr>\n",
              "      <th>Ambience And Atmosphere</th>\n",
              "      <td>1.000000</td>\n",
              "      <td>0.716465</td>\n",
              "      <td>0.461045</td>\n",
              "      <td>0.723580</td>\n",
              "      <td>0.779540</td>\n",
              "      <td>0.742730</td>\n",
              "      <td>0.523739</td>\n",
              "      <td>0.501275</td>\n",
              "      <td>0.741197</td>\n",
              "    </tr>\n",
              "    <tr>\n",
              "      <th>Curriculum and Activities</th>\n",
              "      <td>0.716465</td>\n",
              "      <td>1.000000</td>\n",
              "      <td>0.418700</td>\n",
              "      <td>0.739725</td>\n",
              "      <td>0.690045</td>\n",
              "      <td>0.643565</td>\n",
              "      <td>0.620347</td>\n",
              "      <td>0.529060</td>\n",
              "      <td>0.707536</td>\n",
              "    </tr>\n",
              "    <tr>\n",
              "      <th>Visit Booking Process</th>\n",
              "      <td>0.461045</td>\n",
              "      <td>0.418700</td>\n",
              "      <td>1.000000</td>\n",
              "      <td>0.421323</td>\n",
              "      <td>0.492315</td>\n",
              "      <td>0.497236</td>\n",
              "      <td>0.353208</td>\n",
              "      <td>0.335793</td>\n",
              "      <td>0.348128</td>\n",
              "    </tr>\n",
              "    <tr>\n",
              "      <th>Environment And Facilities</th>\n",
              "      <td>0.723580</td>\n",
              "      <td>0.739725</td>\n",
              "      <td>0.421323</td>\n",
              "      <td>1.000000</td>\n",
              "      <td>0.644892</td>\n",
              "      <td>0.593993</td>\n",
              "      <td>0.545168</td>\n",
              "      <td>0.526753</td>\n",
              "      <td>0.742591</td>\n",
              "    </tr>\n",
              "    <tr>\n",
              "      <th>Information and Experience</th>\n",
              "      <td>0.779540</td>\n",
              "      <td>0.690045</td>\n",
              "      <td>0.492315</td>\n",
              "      <td>0.644892</td>\n",
              "      <td>1.000000</td>\n",
              "      <td>0.809334</td>\n",
              "      <td>0.516270</td>\n",
              "      <td>0.487351</td>\n",
              "      <td>0.675787</td>\n",
              "    </tr>\n",
              "    <tr>\n",
              "      <th>Questions</th>\n",
              "      <td>0.742730</td>\n",
              "      <td>0.643565</td>\n",
              "      <td>0.497236</td>\n",
              "      <td>0.593993</td>\n",
              "      <td>0.809334</td>\n",
              "      <td>1.000000</td>\n",
              "      <td>0.492762</td>\n",
              "      <td>0.482006</td>\n",
              "      <td>0.629045</td>\n",
              "    </tr>\n",
              "    <tr>\n",
              "      <th>Nutritious Meals</th>\n",
              "      <td>0.523739</td>\n",
              "      <td>0.620347</td>\n",
              "      <td>0.353208</td>\n",
              "      <td>0.545168</td>\n",
              "      <td>0.516270</td>\n",
              "      <td>0.492762</td>\n",
              "      <td>1.000000</td>\n",
              "      <td>0.447081</td>\n",
              "      <td>0.496750</td>\n",
              "    </tr>\n",
              "    <tr>\n",
              "      <th>Value For Money</th>\n",
              "      <td>0.501275</td>\n",
              "      <td>0.529060</td>\n",
              "      <td>0.335793</td>\n",
              "      <td>0.526753</td>\n",
              "      <td>0.487351</td>\n",
              "      <td>0.482006</td>\n",
              "      <td>0.447081</td>\n",
              "      <td>1.000000</td>\n",
              "      <td>0.554838</td>\n",
              "    </tr>\n",
              "    <tr>\n",
              "      <th>NPS</th>\n",
              "      <td>0.741197</td>\n",
              "      <td>0.707536</td>\n",
              "      <td>0.348128</td>\n",
              "      <td>0.742591</td>\n",
              "      <td>0.675787</td>\n",
              "      <td>0.629045</td>\n",
              "      <td>0.496750</td>\n",
              "      <td>0.554838</td>\n",
              "      <td>1.000000</td>\n",
              "    </tr>\n",
              "  </tbody>\n",
              "</table>\n",
              "</div>\n",
              "      <button class=\"colab-df-convert\" onclick=\"convertToInteractive('df-eaf60476-057b-43a3-bdb9-d53558e94a52')\"\n",
              "              title=\"Convert this dataframe to an interactive table.\"\n",
              "              style=\"display:none;\">\n",
              "        \n",
              "  <svg xmlns=\"http://www.w3.org/2000/svg\" height=\"24px\"viewBox=\"0 0 24 24\"\n",
              "       width=\"24px\">\n",
              "    <path d=\"M0 0h24v24H0V0z\" fill=\"none\"/>\n",
              "    <path d=\"M18.56 5.44l.94 2.06.94-2.06 2.06-.94-2.06-.94-.94-2.06-.94 2.06-2.06.94zm-11 1L8.5 8.5l.94-2.06 2.06-.94-2.06-.94L8.5 2.5l-.94 2.06-2.06.94zm10 10l.94 2.06.94-2.06 2.06-.94-2.06-.94-.94-2.06-.94 2.06-2.06.94z\"/><path d=\"M17.41 7.96l-1.37-1.37c-.4-.4-.92-.59-1.43-.59-.52 0-1.04.2-1.43.59L10.3 9.45l-7.72 7.72c-.78.78-.78 2.05 0 2.83L4 21.41c.39.39.9.59 1.41.59.51 0 1.02-.2 1.41-.59l7.78-7.78 2.81-2.81c.8-.78.8-2.07 0-2.86zM5.41 20L4 18.59l7.72-7.72 1.47 1.35L5.41 20z\"/>\n",
              "  </svg>\n",
              "      </button>\n",
              "      \n",
              "  <style>\n",
              "    .colab-df-container {\n",
              "      display:flex;\n",
              "      flex-wrap:wrap;\n",
              "      gap: 12px;\n",
              "    }\n",
              "\n",
              "    .colab-df-convert {\n",
              "      background-color: #E8F0FE;\n",
              "      border: none;\n",
              "      border-radius: 50%;\n",
              "      cursor: pointer;\n",
              "      display: none;\n",
              "      fill: #1967D2;\n",
              "      height: 32px;\n",
              "      padding: 0 0 0 0;\n",
              "      width: 32px;\n",
              "    }\n",
              "\n",
              "    .colab-df-convert:hover {\n",
              "      background-color: #E2EBFA;\n",
              "      box-shadow: 0px 1px 2px rgba(60, 64, 67, 0.3), 0px 1px 3px 1px rgba(60, 64, 67, 0.15);\n",
              "      fill: #174EA6;\n",
              "    }\n",
              "\n",
              "    [theme=dark] .colab-df-convert {\n",
              "      background-color: #3B4455;\n",
              "      fill: #D2E3FC;\n",
              "    }\n",
              "\n",
              "    [theme=dark] .colab-df-convert:hover {\n",
              "      background-color: #434B5C;\n",
              "      box-shadow: 0px 1px 3px 1px rgba(0, 0, 0, 0.15);\n",
              "      filter: drop-shadow(0px 1px 2px rgba(0, 0, 0, 0.3));\n",
              "      fill: #FFFFFF;\n",
              "    }\n",
              "  </style>\n",
              "\n",
              "      <script>\n",
              "        const buttonEl =\n",
              "          document.querySelector('#df-eaf60476-057b-43a3-bdb9-d53558e94a52 button.colab-df-convert');\n",
              "        buttonEl.style.display =\n",
              "          google.colab.kernel.accessAllowed ? 'block' : 'none';\n",
              "\n",
              "        async function convertToInteractive(key) {\n",
              "          const element = document.querySelector('#df-eaf60476-057b-43a3-bdb9-d53558e94a52');\n",
              "          const dataTable =\n",
              "            await google.colab.kernel.invokeFunction('convertToInteractive',\n",
              "                                                     [key], {});\n",
              "          if (!dataTable) return;\n",
              "\n",
              "          const docLinkHtml = 'Like what you see? Visit the ' +\n",
              "            '<a target=\"_blank\" href=https://colab.research.google.com/notebooks/data_table.ipynb>data table notebook</a>'\n",
              "            + ' to learn more about interactive tables.';\n",
              "          element.innerHTML = '';\n",
              "          dataTable['output_type'] = 'display_data';\n",
              "          await google.colab.output.renderOutput(dataTable, element);\n",
              "          const docLink = document.createElement('div');\n",
              "          docLink.innerHTML = docLinkHtml;\n",
              "          element.appendChild(docLink);\n",
              "        }\n",
              "      </script>\n",
              "    </div>\n",
              "  </div>\n",
              "  "
            ]
          },
          "metadata": {},
          "execution_count": 52
        }
      ],
      "source": [
        "#Firstly, we need to transform data from text to numerical type\n",
        "df = raw_df.copy()\n",
        "non_missing_df = df[df[[\"NPS\"] + category_list].notnull().all(axis=1)]\n",
        "for category in category_list:\n",
        "  non_missing_df[category] = non_missing_df[category].apply(lambda x: int(x[0]))\n",
        "\n",
        "non_missing_df[category_list + [\"NPS\"]].corr()"
      ]
    },
    {
      "cell_type": "markdown",
      "metadata": {
        "id": "PCJaxWWZlKTD"
      },
      "source": [
        "Ambience & Atmostphere, Curriculum & Activities as well as Environment & Facilities are highly correlated with NPS score.\n",
        "\n",
        "Conversely, Nutrious Meals and Value for Money and especially Visit booking process are much less correlated with NPS score "
      ]
    },
    {
      "cell_type": "code",
      "execution_count": 53,
      "metadata": {
        "id": "3_xojCS2l9pW",
        "colab": {
          "base_uri": "https://localhost:8080/"
        },
        "outputId": "c2276763-a4ec-4a6a-925e-60e08deb6436"
      },
      "outputs": [
        {
          "output_type": "stream",
          "name": "stdout",
          "text": [
            "                            OLS Regression Results                            \n",
            "==============================================================================\n",
            "Dep. Variable:                    NPS   R-squared:                       0.678\n",
            "Model:                            OLS   Adj. R-squared:                  0.677\n",
            "Method:                 Least Squares   F-statistic:                     510.8\n",
            "Date:                Fri, 11 Nov 2022   Prob (F-statistic):               0.00\n",
            "Time:                        10:23:28   Log-Likelihood:                -3309.8\n",
            "No. Observations:                1949   AIC:                             6638.\n",
            "Df Residuals:                    1940   BIC:                             6688.\n",
            "Df Model:                           8                                         \n",
            "Covariance Type:            nonrobust                                         \n",
            "==============================================================================================\n",
            "                                 coef    std err          t      P>|t|      [0.025      0.975]\n",
            "----------------------------------------------------------------------------------------------\n",
            "const                         -2.0296      0.222     -9.140      0.000      -2.465      -1.594\n",
            "Ambience And Atmosphere        0.7233      0.066     10.967      0.000       0.594       0.853\n",
            "Curriculum and Activities      0.4216      0.060      7.050      0.000       0.304       0.539\n",
            "Visit Booking Process         -0.2657      0.047     -5.654      0.000      -0.358      -0.174\n",
            "Environment And Facilities     0.8120      0.056     14.457      0.000       0.702       0.922\n",
            "Information and Experience     0.3127      0.073      4.292      0.000       0.170       0.456\n",
            "Questions                      0.1266      0.073      1.744      0.081      -0.016       0.269\n",
            "Nutritious Meals              -0.0496      0.044     -1.136      0.256      -0.135       0.036\n",
            "Value For Money                0.3040      0.036      8.557      0.000       0.234       0.374\n",
            "==============================================================================\n",
            "Omnibus:                      393.788   Durbin-Watson:                   2.027\n",
            "Prob(Omnibus):                  0.000   Jarque-Bera (JB):            12389.175\n",
            "Skew:                          -0.043   Prob(JB):                         0.00\n",
            "Kurtosis:                      15.351   Cond. No.                         96.1\n",
            "==============================================================================\n",
            "\n",
            "Notes:\n",
            "[1] Standard Errors assume that the covariance matrix of the errors is correctly specified.\n"
          ]
        },
        {
          "output_type": "stream",
          "name": "stderr",
          "text": [
            "/usr/local/lib/python3.7/dist-packages/statsmodels/tsa/tsatools.py:142: FutureWarning: In a future version of pandas all arguments of concat except for the argument 'objs' will be keyword-only\n",
            "  x = pd.concat(x[::order], 1)\n"
          ]
        }
      ],
      "source": [
        "df = non_missing_df.copy()\n",
        "import statsmodels.api as sm\n",
        "\n",
        "y = df[\"NPS\"]\n",
        "X = df[category_list].astype(float)\n",
        "X=sm.add_constant(X)\n",
        "\n",
        "# Note the difference in argument order\n",
        "model = sm.OLS(y, X).fit()\n",
        "#predictions = model.predict(X) # make the predictions by the model\n",
        "print(model.summary())"
      ]
    },
    {
      "cell_type": "code",
      "execution_count": 54,
      "metadata": {
        "id": "uDM2uQk0sEzu"
      },
      "outputs": [],
      "source": [
        "from statsmodels.stats.outliers_influence import variance_inflation_factor\n",
        "vif = pd.DataFrame()\n",
        "vif[\"VIF Factor\"] = [variance_inflation_factor(X.values, i) for i in range(X.shape[1])]\n",
        "vif[\"features\"] = X.columns"
      ]
    },
    {
      "cell_type": "markdown",
      "metadata": {
        "id": "tI9ywT09sZSm"
      },
      "source": [
        "**Low VIF score for all IV indicates there's no evidence of multicolinearity issues**"
      ]
    },
    {
      "cell_type": "markdown",
      "metadata": {
        "id": "E4k8FU8WsqPC"
      },
      "source": [
        "Nutritious Meals are found have no linear relationship with NPS Score, which is suprising. I personally think that there should be relationship between this rating and NPS. So the next possible question is:\n",
        "Is there any non-linear relationship between Nutirous Meals rating and NPS Score?"
      ]
    },
    {
      "cell_type": "code",
      "source": [
        "sns.stripplot(y=\"NPS\", x=\"Nutritious Meals\", data = df, alpha = 0.05)"
      ],
      "metadata": {
        "colab": {
          "base_uri": "https://localhost:8080/",
          "height": 302
        },
        "id": "BQfv9EbiWJT6",
        "outputId": "ad10c76b-8585-4a47-97cd-ab900ae56ae1"
      },
      "execution_count": 55,
      "outputs": [
        {
          "output_type": "execute_result",
          "data": {
            "text/plain": [
              "<matplotlib.axes._subplots.AxesSubplot at 0x7ff69bbd6f50>"
            ]
          },
          "metadata": {},
          "execution_count": 55
        },
        {
          "output_type": "display_data",
          "data": {
            "text/plain": [
              "<Figure size 432x288 with 1 Axes>"
            ],
            "image/png": "[encoded data removed]"
          },
          "metadata": {}
        }
      ]
    },
    {
      "cell_type": "markdown",
      "source": [
        "Most of the customer who gave negative rating for Nutritious Meals are Detractors (0 - 4) are most frequent score: \n",
        "\n",
        "- Customer who neither disagree and agree are really varied in their NPS status. Most of them are Promoter but quite often they are Neutral or Detractor.\n",
        "- Customer who agree have pretty high rating end up being Promoter.\n",
        "\n",
        "Also, remember that Nutrious meals have the most customer giving Neutral Rating (> 400 responses), this can potentially cause noise and overshadow the significance level/impact that Nutrious meals rating having on NPS.\n",
        "\n",
        "**I argue that Nutrious meal while being viewed as one of the worst category, it does not have as strong impact on NPS  as other category.**\n"
      ],
      "metadata": {
        "id": "UTLNVmYoWv9r"
      }
    },
    {
      "cell_type": "markdown",
      "source": [
        "\n",
        "One other variable also receive \"not-so-good\" rating is \"Value for Money a.k.a Fee\". They have positive and statistically relationship with NPS. Let's plot them out to validate our understanding"
      ],
      "metadata": {
        "id": "Qu4Hxsdxay2u"
      }
    },
    {
      "cell_type": "code",
      "source": [
        "sns.stripplot(y=\"NPS\", x=\"Value For Money\", data = df, alpha = 0.05)"
      ],
      "metadata": {
        "colab": {
          "base_uri": "https://localhost:8080/",
          "height": 302
        },
        "id": "t9S1bGuYbEfQ",
        "outputId": "dc615e06-7965-48c8-e4f1-b1f49488e183"
      },
      "execution_count": 56,
      "outputs": [
        {
          "output_type": "execute_result",
          "data": {
            "text/plain": [
              "<matplotlib.axes._subplots.AxesSubplot at 0x7ff69b9ea1d0>"
            ]
          },
          "metadata": {},
          "execution_count": 56
        },
        {
          "output_type": "display_data",
          "data": {
            "text/plain": [
              "<Figure size 432x288 with 1 Axes>"
            ],
            "image/png": "[encoded data removed]"
          },
          "metadata": {}
        }
      ]
    },
    {
      "cell_type": "markdown",
      "source": [
        "The trend is both clearer and less clearer in someway, if compare with Nutritious Meal\n",
        "- Customer who have neutral and positive rating, usually end up being promoter (the trend is stronger than Nutritious in this sense)\n",
        "- However, customer who have negative rating (1, 2) can aslo end up being a promoter and neutral. \n",
        "\n",
        "**Price is important factor for customer NPS, but definitely not the single important single factor.**\n",
        "\n",
        "**Even if customer felt that the price is unreasonably high, there's chance that they are still satisfy with the childcare as long as other service are good/exceed their expectation**"
      ],
      "metadata": {
        "id": "uAfrn6vAbRv7"
      }
    },
    {
      "cell_type": "markdown",
      "source": [
        "Next, we want to see why Visit Booking Process rating actually have negative impact on NPS (Which literally mean the more customer satisfy with the VIsiting Booking Process, the less they satisfy with the whole healthcare service)"
      ],
      "metadata": {
        "id": "mgi2yLVddR3G"
      }
    },
    {
      "cell_type": "code",
      "execution_count": 57,
      "metadata": {
        "id": "ebq2KE9NwFei",
        "colab": {
          "base_uri": "https://localhost:8080/",
          "height": 285
        },
        "outputId": "eadb5874-a5ab-4787-b880-a660d75326b9"
      },
      "outputs": [
        {
          "output_type": "display_data",
          "data": {
            "text/plain": [
              "<Figure size 432x288 with 1 Axes>"
            ],
            "image/png": "[encoded data removed]"
          },
          "metadata": {}
        }
      ],
      "source": [
        "sns.stripplot(y=\"NPS\", x=\"Visit Booking Process\", data = df, alpha = 0.1)\n",
        "plt.show()"
      ]
    },
    {
      "cell_type": "markdown",
      "source": [
        "It's interesting, customer can still end up a detractor if they satisfy with Visitng Booking Process (VBP). Let's dig deeper a little more by selecting the one who satisfy with VBP but are Detractor"
      ],
      "metadata": {
        "id": "wfZskxL-d5SR"
      }
    },
    {
      "cell_type": "code",
      "source": [
        "categories= ['Ambience And Atmosphere', 'Curriculum and Activities', 'Environment And Facilities', 'Information and Experience', 'Questions','Nutritious Meals', 'Value For Money']"
      ],
      "metadata": {
        "id": "QTG7sDrGnULa"
      },
      "execution_count": 58,
      "outputs": []
    },
    {
      "cell_type": "code",
      "source": [
        "VBP_detractor = df[(df[\"Visit Booking Process\"] > 3) & (df[\"NPS\"] < 7)]\n",
        "VBP_detractor[[\"NPS\"] + categories].head()"
      ],
      "metadata": {
        "colab": {
          "base_uri": "https://localhost:8080/",
          "height": 250
        },
        "id": "Ll-39h7KefnR",
        "outputId": "d71223ae-8634-4059-8228-6deebfb6da0e"
      },
      "execution_count": 59,
      "outputs": [
        {
          "output_type": "execute_result",
          "data": {
            "text/plain": [
              "    NPS  Ambience And Atmosphere  Curriculum and Activities  \\\n",
              "6     4                        5                          5   \n",
              "29    0                        5                          5   \n",
              "39    5                        4                          4   \n",
              "50    4                        2                          3   \n",
              "60    3                        4                          2   \n",
              "\n",
              "    Environment And Facilities  Information and Experience  Questions  \\\n",
              "6                            5                           5          5   \n",
              "29                           4                           5          5   \n",
              "39                           4                           3          3   \n",
              "50                           4                           4          4   \n",
              "60                           4                           4          5   \n",
              "\n",
              "    Nutritious Meals  Value For Money  \n",
              "6                  5                1  \n",
              "29                 4                4  \n",
              "39                 4                3  \n",
              "50                 3                4  \n",
              "60                 4                4  "
            ],
            "text/html": [
              "\n",
              "  <div id=\"df-f1347531-ffa2-40a6-b5f8-2333bb1b7bc8\">\n",
              "    <div class=\"colab-df-container\">\n",
              "      <div>\n",
              "<style scoped>\n",
              "    .dataframe tbody tr th:only-of-type {\n",
              "        vertical-align: middle;\n",
              "    }\n",
              "\n",
              "    .dataframe tbody tr th {\n",
              "        vertical-align: top;\n",
              "    }\n",
              "\n",
              "    .dataframe thead th {\n",
              "        text-align: right;\n",
              "    }\n",
              "</style>\n",
              "<table border=\"1\" class=\"dataframe\">\n",
              "  <thead>\n",
              "    <tr style=\"text-align: right;\">\n",
              "      <th></th>\n",
              "      <th>NPS</th>\n",
              "      <th>Ambience And Atmosphere</th>\n",
              "      <th>Curriculum and Activities</th>\n",
              "      <th>Environment And Facilities</th>\n",
              "      <th>Information and Experience</th>\n",
              "      <th>Questions</th>\n",
              "      <th>Nutritious Meals</th>\n",
              "      <th>Value For Money</th>\n",
              "    </tr>\n",
              "  </thead>\n",
              "  <tbody>\n",
              "    <tr>\n",
              "      <th>6</th>\n",
              "      <td>4</td>\n",
              "      <td>5</td>\n",
              "      <td>5</td>\n",
              "      <td>5</td>\n",
              "      <td>5</td>\n",
              "      <td>5</td>\n",
              "      <td>5</td>\n",
              "      <td>1</td>\n",
              "    </tr>\n",
              "    <tr>\n",
              "      <th>29</th>\n",
              "      <td>0</td>\n",
              "      <td>5</td>\n",
              "      <td>5</td>\n",
              "      <td>4</td>\n",
              "      <td>5</td>\n",
              "      <td>5</td>\n",
              "      <td>4</td>\n",
              "      <td>4</td>\n",
              "    </tr>\n",
              "    <tr>\n",
              "      <th>39</th>\n",
              "      <td>5</td>\n",
              "      <td>4</td>\n",
              "      <td>4</td>\n",
              "      <td>4</td>\n",
              "      <td>3</td>\n",
              "      <td>3</td>\n",
              "      <td>4</td>\n",
              "      <td>3</td>\n",
              "    </tr>\n",
              "    <tr>\n",
              "      <th>50</th>\n",
              "      <td>4</td>\n",
              "      <td>2</td>\n",
              "      <td>3</td>\n",
              "      <td>4</td>\n",
              "      <td>4</td>\n",
              "      <td>4</td>\n",
              "      <td>3</td>\n",
              "      <td>4</td>\n",
              "    </tr>\n",
              "    <tr>\n",
              "      <th>60</th>\n",
              "      <td>3</td>\n",
              "      <td>4</td>\n",
              "      <td>2</td>\n",
              "      <td>4</td>\n",
              "      <td>4</td>\n",
              "      <td>5</td>\n",
              "      <td>4</td>\n",
              "      <td>4</td>\n",
              "    </tr>\n",
              "  </tbody>\n",
              "</table>\n",
              "</div>\n",
              "      <button class=\"colab-df-convert\" onclick=\"convertToInteractive('df-f1347531-ffa2-40a6-b5f8-2333bb1b7bc8')\"\n",
              "              title=\"Convert this dataframe to an interactive table.\"\n",
              "              style=\"display:none;\">\n",
              "        \n",
              "  <svg xmlns=\"http://www.w3.org/2000/svg\" height=\"24px\"viewBox=\"0 0 24 24\"\n",
              "       width=\"24px\">\n",
              "    <path d=\"M0 0h24v24H0V0z\" fill=\"none\"/>\n",
              "    <path d=\"M18.56 5.44l.94 2.06.94-2.06 2.06-.94-2.06-.94-.94-2.06-.94 2.06-2.06.94zm-11 1L8.5 8.5l.94-2.06 2.06-.94-2.06-.94L8.5 2.5l-.94 2.06-2.06.94zm10 10l.94 2.06.94-2.06 2.06-.94-2.06-.94-.94-2.06-.94 2.06-2.06.94z\"/><path d=\"M17.41 7.96l-1.37-1.37c-.4-.4-.92-.59-1.43-.59-.52 0-1.04.2-1.43.59L10.3 9.45l-7.72 7.72c-.78.78-.78 2.05 0 2.83L4 21.41c.39.39.9.59 1.41.59.51 0 1.02-.2 1.41-.59l7.78-7.78 2.81-2.81c.8-.78.8-2.07 0-2.86zM5.41 20L4 18.59l7.72-7.72 1.47 1.35L5.41 20z\"/>\n",
              "  </svg>\n",
              "      </button>\n",
              "      \n",
              "  <style>\n",
              "    .colab-df-container {\n",
              "      display:flex;\n",
              "      flex-wrap:wrap;\n",
              "      gap: 12px;\n",
              "    }\n",
              "\n",
              "    .colab-df-convert {\n",
              "      background-color: #E8F0FE;\n",
              "      border: none;\n",
              "      border-radius: 50%;\n",
              "      cursor: pointer;\n",
              "      display: none;\n",
              "      fill: #1967D2;\n",
              "      height: 32px;\n",
              "      padding: 0 0 0 0;\n",
              "      width: 32px;\n",
              "    }\n",
              "\n",
              "    .colab-df-convert:hover {\n",
              "      background-color: #E2EBFA;\n",
              "      box-shadow: 0px 1px 2px rgba(60, 64, 67, 0.3), 0px 1px 3px 1px rgba(60, 64, 67, 0.15);\n",
              "      fill: #174EA6;\n",
              "    }\n",
              "\n",
              "    [theme=dark] .colab-df-convert {\n",
              "      background-color: #3B4455;\n",
              "      fill: #D2E3FC;\n",
              "    }\n",
              "\n",
              "    [theme=dark] .colab-df-convert:hover {\n",
              "      background-color: #434B5C;\n",
              "      box-shadow: 0px 1px 3px 1px rgba(0, 0, 0, 0.15);\n",
              "      filter: drop-shadow(0px 1px 2px rgba(0, 0, 0, 0.3));\n",
              "      fill: #FFFFFF;\n",
              "    }\n",
              "  </style>\n",
              "\n",
              "      <script>\n",
              "        const buttonEl =\n",
              "          document.querySelector('#df-f1347531-ffa2-40a6-b5f8-2333bb1b7bc8 button.colab-df-convert');\n",
              "        buttonEl.style.display =\n",
              "          google.colab.kernel.accessAllowed ? 'block' : 'none';\n",
              "\n",
              "        async function convertToInteractive(key) {\n",
              "          const element = document.querySelector('#df-f1347531-ffa2-40a6-b5f8-2333bb1b7bc8');\n",
              "          const dataTable =\n",
              "            await google.colab.kernel.invokeFunction('convertToInteractive',\n",
              "                                                     [key], {});\n",
              "          if (!dataTable) return;\n",
              "\n",
              "          const docLinkHtml = 'Like what you see? Visit the ' +\n",
              "            '<a target=\"_blank\" href=https://colab.research.google.com/notebooks/data_table.ipynb>data table notebook</a>'\n",
              "            + ' to learn more about interactive tables.';\n",
              "          element.innerHTML = '';\n",
              "          dataTable['output_type'] = 'display_data';\n",
              "          await google.colab.output.renderOutput(dataTable, element);\n",
              "          const docLink = document.createElement('div');\n",
              "          docLink.innerHTML = docLinkHtml;\n",
              "          element.appendChild(docLink);\n",
              "        }\n",
              "      </script>\n",
              "    </div>\n",
              "  </div>\n",
              "  "
            ]
          },
          "metadata": {},
          "execution_count": 59
        }
      ]
    },
    {
      "cell_type": "markdown",
      "source": [
        "There seems to be a trend that customer give positive rating for VPB but give negative rating for at least one of those in other category. TO validate this, we answer a question:\n",
        "\n",
        "- for each customer, whether there's any category that have negative rating?\n",
        "- Which one? and How many?"
      ],
      "metadata": {
        "id": "McJ1BpXAhxe5"
      }
    },
    {
      "cell_type": "code",
      "source": [
        "VBP_detractor.loc[:, \"lowest_rating\"] = VBP_detractor[categories].min(axis = 1)\n",
        "VBP_detractor[\"lowest_rating\"].hist()\n",
        "plt.show()"
      ],
      "metadata": {
        "colab": {
          "base_uri": "https://localhost:8080/",
          "height": 372
        },
        "id": "Zo1jpz6FpG6T",
        "outputId": "08433ce2-24bb-4665-8d90-17287d13a953"
      },
      "execution_count": 60,
      "outputs": [
        {
          "output_type": "stream",
          "name": "stderr",
          "text": [
            "/usr/local/lib/python3.7/dist-packages/pandas/core/indexing.py:1667: SettingWithCopyWarning: \n",
            "A value is trying to be set on a copy of a slice from a DataFrame.\n",
            "Try using .loc[row_indexer,col_indexer] = value instead\n",
            "\n",
            "See the caveats in the documentation: https://pandas.pydata.org/pandas-docs/stable/user_guide/indexing.html#returning-a-view-versus-a-copy\n",
            "  self.obj[key] = value\n"
          ]
        },
        {
          "output_type": "display_data",
          "data": {
            "text/plain": [
              "<Figure size 432x288 with 1 Axes>"
            ],
            "image/png": "[encoded data removed]"
          },
          "metadata": {}
        }
      ]
    },
    {
      "cell_type": "markdown",
      "source": [
        "About 5 customer are Detractor eventhough they satisfy with all categories.\n",
        "The rest have at least one category that they at most have neutral rating.\n",
        "\n",
        "This imply a potential issue here:\n",
        "1. *Visit Booking Process is one of the first interaction with customer -> It's neccessary to give them a smooth and good impression*\n",
        "2. *However, this won't guarantee customer satisfaction, but a good impression would rather set a high bar for subsequent interaction/services provided by the childcare.*\n",
        "3. *It's important to maintain a high level of satisfaction of other service in order to ensure customer high NPS and satisfaction.*\n",
        "4. *Managing customer expectation so that information that they receive from the Visit Booking Process is accurate to what they actually see/experience in the real Visit.*"
      ],
      "metadata": {
        "id": "HPBj_UGIqoae"
      }
    },
    {
      "cell_type": "markdown",
      "source": [
        "Lastly, let's check the look of top 3 important feature\n",
        "1. Ambience And Atmosphere       \n",
        "2. Curriculum and Activities   \n",
        "3. Environment And Facilities "
      ],
      "metadata": {
        "id": "GfBWVNASyE6w"
      }
    },
    {
      "cell_type": "code",
      "source": [
        "fig, (ax1, ax2, ax3) = plt.subplots(1, 3)\n",
        "fig.set_figwidth(15)\n",
        "sns.stripplot(y=\"NPS\", x=\"Ambience And Atmosphere\", data = df, alpha = 0.05, ax = ax1)\n",
        "sns.stripplot(y=\"NPS\", x=\"Environment And Facilities\", data = df, alpha = 0.05, ax = ax2)\n",
        "sns.stripplot(y=\"NPS\", x=\"Curriculum and Activities\", data = df, alpha = 0.05, ax = ax3)"
      ],
      "metadata": {
        "colab": {
          "base_uri": "https://localhost:8080/",
          "height": 302
        },
        "id": "st6nv9mmyuCt",
        "outputId": "8550f2e4-8f09-4919-a5a3-75c0a1b5cd67"
      },
      "execution_count": 61,
      "outputs": [
        {
          "output_type": "execute_result",
          "data": {
            "text/plain": [
              "<matplotlib.axes._subplots.AxesSubplot at 0x7ff69ba31b50>"
            ]
          },
          "metadata": {},
          "execution_count": 61
        },
        {
          "output_type": "display_data",
          "data": {
            "text/plain": [
              "<Figure size 1080x288 with 3 Axes>"
            ],
            "image/png": "[encoded data removed]"
          },
          "metadata": {}
        }
      ]
    },
    {
      "cell_type": "markdown",
      "source": [
        "THe trend and positive relationship of these three category rating are the most evidence: linear and uptrend. We can see that customer have bad rating for each of these, almost always end up giving a low NPS, and customer have good rating for each of these, almost always end up givng a high NPS. Except for curriculum and activities, if customer don't give a high rating for these category (either bad or neutral), it's almost impossible to see them end up being a Promoter.\n",
        "\n",
        "This is a strong evidence showing us how important these category of experience are to shape customer overall experience to the childcare. "
      ],
      "metadata": {
        "id": "3Q4xaPAHgg0l"
      }
    },
    {
      "cell_type": "markdown",
      "metadata": {
        "id": "K3pDh376vY4w"
      },
      "source": [
        "# NPS Answer Category vs Improvement Category"
      ]
    },
    {
      "cell_type": "markdown",
      "source": [
        "Now, let's move on to one of the most interesting data items that I've noticed first time engage with the dataset. A qualitative data items which shows why customers gave such NPS score to the survey (either good or bad) in written format. I assume that due to the nature of survey (quite time-consuming), the answer provided by customers will be very directly and mention only the most important aspects. "
      ],
      "metadata": {
        "id": "zwH2TM2hh-h2"
      }
    },
    {
      "cell_type": "markdown",
      "source": [
        "We have two different columns regarding these information. \n",
        "NPS Feedback Categories and Improvement Feedback Categories"
      ],
      "metadata": {
        "id": "XqWHMwHkkEkZ"
      }
    },
    {
      "cell_type": "code",
      "execution_count": 63,
      "metadata": {
        "id": "69MzgnwC1xV0"
      },
      "outputs": [],
      "source": [
        "focus_columns = ['NPS Feedback Categories', 'Improvement Feedback Categories']"
      ]
    },
    {
      "cell_type": "code",
      "execution_count": 64,
      "metadata": {
        "id": "0XZPvp4H14n3"
      },
      "outputs": [],
      "source": [
        "df = raw_df.copy()"
      ]
    },
    {
      "cell_type": "code",
      "execution_count": 65,
      "metadata": {
        "colab": {
          "base_uri": "https://localhost:8080/",
          "height": 206
        },
        "id": "HZL6fCT420hf",
        "outputId": "beacceed-3aa2-412a-86af-9330255fabb0"
      },
      "outputs": [
        {
          "output_type": "execute_result",
          "data": {
            "text/plain": [
              "                             NPS Feedback Categories  \\\n",
              "0  \"Campus Directors & Educators\",\"Curriculum & P...   \n",
              "1                                    \"Communication\"   \n",
              "2  \"Campus Directors & Educators\",\"Cleanliness & ...   \n",
              "3  \"App & Child Updates\",\"Campus Directors & Educ...   \n",
              "4     \"Campus Directors & Educators\",\"Communication\"   \n",
              "\n",
              "  Improvement Feedback Categories  \n",
              "0                             NaN  \n",
              "1                             NaN  \n",
              "2                             NaN  \n",
              "3                             NaN  \n",
              "4                             NaN  "
            ],
            "text/html": [
              "\n",
              "  <div id=\"df-4a9e2f9c-5d38-4188-acf2-31ab2e838792\">\n",
              "    <div class=\"colab-df-container\">\n",
              "      <div>\n",
              "<style scoped>\n",
              "    .dataframe tbody tr th:only-of-type {\n",
              "        vertical-align: middle;\n",
              "    }\n",
              "\n",
              "    .dataframe tbody tr th {\n",
              "        vertical-align: top;\n",
              "    }\n",
              "\n",
              "    .dataframe thead th {\n",
              "        text-align: right;\n",
              "    }\n",
              "</style>\n",
              "<table border=\"1\" class=\"dataframe\">\n",
              "  <thead>\n",
              "    <tr style=\"text-align: right;\">\n",
              "      <th></th>\n",
              "      <th>NPS Feedback Categories</th>\n",
              "      <th>Improvement Feedback Categories</th>\n",
              "    </tr>\n",
              "  </thead>\n",
              "  <tbody>\n",
              "    <tr>\n",
              "      <th>0</th>\n",
              "      <td>\"Campus Directors &amp; Educators\",\"Curriculum &amp; P...</td>\n",
              "      <td>NaN</td>\n",
              "    </tr>\n",
              "    <tr>\n",
              "      <th>1</th>\n",
              "      <td>\"Communication\"</td>\n",
              "      <td>NaN</td>\n",
              "    </tr>\n",
              "    <tr>\n",
              "      <th>2</th>\n",
              "      <td>\"Campus Directors &amp; Educators\",\"Cleanliness &amp; ...</td>\n",
              "      <td>NaN</td>\n",
              "    </tr>\n",
              "    <tr>\n",
              "      <th>3</th>\n",
              "      <td>\"App &amp; Child Updates\",\"Campus Directors &amp; Educ...</td>\n",
              "      <td>NaN</td>\n",
              "    </tr>\n",
              "    <tr>\n",
              "      <th>4</th>\n",
              "      <td>\"Campus Directors &amp; Educators\",\"Communication\"</td>\n",
              "      <td>NaN</td>\n",
              "    </tr>\n",
              "  </tbody>\n",
              "</table>\n",
              "</div>\n",
              "      <button class=\"colab-df-convert\" onclick=\"convertToInteractive('df-4a9e2f9c-5d38-4188-acf2-31ab2e838792')\"\n",
              "              title=\"Convert this dataframe to an interactive table.\"\n",
              "              style=\"display:none;\">\n",
              "        \n",
              "  <svg xmlns=\"http://www.w3.org/2000/svg\" height=\"24px\"viewBox=\"0 0 24 24\"\n",
              "       width=\"24px\">\n",
              "    <path d=\"M0 0h24v24H0V0z\" fill=\"none\"/>\n",
              "    <path d=\"M18.56 5.44l.94 2.06.94-2.06 2.06-.94-2.06-.94-.94-2.06-.94 2.06-2.06.94zm-11 1L8.5 8.5l.94-2.06 2.06-.94-2.06-.94L8.5 2.5l-.94 2.06-2.06.94zm10 10l.94 2.06.94-2.06 2.06-.94-2.06-.94-.94-2.06-.94 2.06-2.06.94z\"/><path d=\"M17.41 7.96l-1.37-1.37c-.4-.4-.92-.59-1.43-.59-.52 0-1.04.2-1.43.59L10.3 9.45l-7.72 7.72c-.78.78-.78 2.05 0 2.83L4 21.41c.39.39.9.59 1.41.59.51 0 1.02-.2 1.41-.59l7.78-7.78 2.81-2.81c.8-.78.8-2.07 0-2.86zM5.41 20L4 18.59l7.72-7.72 1.47 1.35L5.41 20z\"/>\n",
              "  </svg>\n",
              "      </button>\n",
              "      \n",
              "  <style>\n",
              "    .colab-df-container {\n",
              "      display:flex;\n",
              "      flex-wrap:wrap;\n",
              "      gap: 12px;\n",
              "    }\n",
              "\n",
              "    .colab-df-convert {\n",
              "      background-color: #E8F0FE;\n",
              "      border: none;\n",
              "      border-radius: 50%;\n",
              "      cursor: pointer;\n",
              "      display: none;\n",
              "      fill: #1967D2;\n",
              "      height: 32px;\n",
              "      padding: 0 0 0 0;\n",
              "      width: 32px;\n",
              "    }\n",
              "\n",
              "    .colab-df-convert:hover {\n",
              "      background-color: #E2EBFA;\n",
              "      box-shadow: 0px 1px 2px rgba(60, 64, 67, 0.3), 0px 1px 3px 1px rgba(60, 64, 67, 0.15);\n",
              "      fill: #174EA6;\n",
              "    }\n",
              "\n",
              "    [theme=dark] .colab-df-convert {\n",
              "      background-color: #3B4455;\n",
              "      fill: #D2E3FC;\n",
              "    }\n",
              "\n",
              "    [theme=dark] .colab-df-convert:hover {\n",
              "      background-color: #434B5C;\n",
              "      box-shadow: 0px 1px 3px 1px rgba(0, 0, 0, 0.15);\n",
              "      filter: drop-shadow(0px 1px 2px rgba(0, 0, 0, 0.3));\n",
              "      fill: #FFFFFF;\n",
              "    }\n",
              "  </style>\n",
              "\n",
              "      <script>\n",
              "        const buttonEl =\n",
              "          document.querySelector('#df-4a9e2f9c-5d38-4188-acf2-31ab2e838792 button.colab-df-convert');\n",
              "        buttonEl.style.display =\n",
              "          google.colab.kernel.accessAllowed ? 'block' : 'none';\n",
              "\n",
              "        async function convertToInteractive(key) {\n",
              "          const element = document.querySelector('#df-4a9e2f9c-5d38-4188-acf2-31ab2e838792');\n",
              "          const dataTable =\n",
              "            await google.colab.kernel.invokeFunction('convertToInteractive',\n",
              "                                                     [key], {});\n",
              "          if (!dataTable) return;\n",
              "\n",
              "          const docLinkHtml = 'Like what you see? Visit the ' +\n",
              "            '<a target=\"_blank\" href=https://colab.research.google.com/notebooks/data_table.ipynb>data table notebook</a>'\n",
              "            + ' to learn more about interactive tables.';\n",
              "          element.innerHTML = '';\n",
              "          dataTable['output_type'] = 'display_data';\n",
              "          await google.colab.output.renderOutput(dataTable, element);\n",
              "          const docLink = document.createElement('div');\n",
              "          docLink.innerHTML = docLinkHtml;\n",
              "          element.appendChild(docLink);\n",
              "        }\n",
              "      </script>\n",
              "    </div>\n",
              "  </div>\n",
              "  "
            ]
          },
          "metadata": {},
          "execution_count": 65
        }
      ],
      "source": [
        "df[focus_columns].head()"
      ]
    },
    {
      "cell_type": "markdown",
      "source": [
        "The data, I believe, has been cleaned and pre-processed so that the actual responses now turned into a list of different topics/categories (As we can see above). Also Improvement Feedback Categories columns seems to have quite many missing data. This seems natural because of the type of information and also because both columns have certain degree of similarities. If a customer are happy customer, they probably don't have anything to complain/want to improve. However, if customer are neutral/detractor, they can mention through the Improvement feedback question, but they can also mention it in NPS Feedback Categories, both good things and bad things. \n",
        "\n",
        "Alright, without further discussion, let's see the data!!"
      ],
      "metadata": {
        "id": "YKr1h4xpkk67"
      }
    },
    {
      "cell_type": "code",
      "execution_count": 66,
      "metadata": {
        "id": "aXx_iCjI2H1d"
      },
      "outputs": [],
      "source": [
        "#Create a function which help me to process the text data, seperate the categories and count how many time each categories were mention. \n",
        "#Then we can see a clear picture of what are some most common categories/topics mentioned\n",
        "def transform_feedback_data(data, column = \"NPS Feedback Categories\"):\n",
        "  category_dict = {}\n",
        "  for index, row in data.iterrows():\n",
        "    if pd.isnull(row[column]): \n",
        "      continue\n",
        "    categories = row[column].replace('\"','').split(',')\n",
        "    for category in categories:\n",
        "      if category in category_dict:\n",
        "        category_dict[category] += 1\n",
        "      else:\n",
        "        category_dict[category] = 1\n",
        "  return category_dict"
      ]
    },
    {
      "cell_type": "code",
      "execution_count": 83,
      "metadata": {
        "colab": {
          "base_uri": "https://localhost:8080/",
          "height": 303
        },
        "id": "X_bPWaMf3ovu",
        "outputId": "1774f2c0-0c24-426c-c37b-7477d102fbcf"
      },
      "outputs": [
        {
          "output_type": "stream",
          "name": "stdout",
          "text": [
            "Total of Feedback: 2035\n"
          ]
        },
        {
          "output_type": "execute_result",
          "data": {
            "text/plain": [
              "<matplotlib.axes._subplots.AxesSubplot at 0x7ff68e278a10>"
            ]
          },
          "metadata": {},
          "execution_count": 83
        },
        {
          "output_type": "display_data",
          "data": {
            "text/plain": [
              "<Figure size 432x288 with 1 Axes>"
            ],
            "image/png": "[encoded data removed]"
          },
          "metadata": {}
        }
      ],
      "source": [
        "print(\"Total of Feedback:\", df[\"NPS Feedback Categories\"].notnull().sum())\n",
        "pd.Series(transform_feedback_data(df)).sort_values(ascending=False).plot.barh(color = [\"yellow\",\"yellow\", \"yellow\", \"red\", \"red\", \"red\", \"red\", \"red\", \"red\", \"red\", \"red\", \"red\", \"red\", \"red\" ] )"
      ]
    },
    {
      "cell_type": "markdown",
      "source": [
        "The responses have been normalised into 14 topics (as see from above). There are topics which was mentioned more often than other, in fact, quite significant. We can clearly see the top 3 and top 6 from the visualisation."
      ],
      "metadata": {
        "id": "oml9FLjknOtm"
      }
    },
    {
      "cell_type": "markdown",
      "metadata": {
        "id": "IeqjaWvM82pP"
      },
      "source": [
        "The top 3 are:\n",
        "1. Campus Directors & Educators\n",
        "2. Environment & Facilities\n",
        "3. Curriculumn & Program\n",
        "\n",
        "This insight is very consistent with our finding from regression analysis\n",
        "\n",
        "Campus Directors and Educators are actually very similar to Ambience and Atmosphere. To clarify, for that category, the survey actually ask rating whether: \n",
        "*   *The staff we met were friendly and the ambience and atmosphere was positive, fun, and engaging.*"
      ]
    },
    {
      "cell_type": "markdown",
      "source": [
        "We can now have a pretty strong evidence that these are three most important factors that determine a chilcare customer satisfaction level."
      ],
      "metadata": {
        "id": "BT7eA-RipBJM"
      }
    },
    {
      "cell_type": "code",
      "source": [
        "pd.Series(transform_feedback_data(df)).sort_values(ascending=False).plot.barh(color = [\"yellow\",\"yellow\", \"yellow\", \"orange\", \"orange\", \"orange\", \"red\", \"red\", \"red\", \"red\", \"red\", \"red\",  \"red\",  \"red\"] )"
      ],
      "metadata": {
        "colab": {
          "base_uri": "https://localhost:8080/",
          "height": 285
        },
        "id": "Z0J3q7nvQwta",
        "outputId": "d26c8e51-ed09-4fba-8251-06860ac575d7"
      },
      "execution_count": 85,
      "outputs": [
        {
          "output_type": "execute_result",
          "data": {
            "text/plain": [
              "<matplotlib.axes._subplots.AxesSubplot at 0x7ff68e0c6750>"
            ]
          },
          "metadata": {},
          "execution_count": 85
        },
        {
          "output_type": "display_data",
          "data": {
            "text/plain": [
              "<Figure size 432x288 with 1 Axes>"
            ],
            "image/png": "[encoded data removed]"
          },
          "metadata": {}
        }
      ]
    },
    {
      "cell_type": "markdown",
      "source": [
        "The top 6 (3 more categories besides the top 3) are:\n",
        "4. Communication\n",
        "5. Cleaniness & Hygiene\n",
        "6. Head Office Interactions\n",
        "\n",
        "These are topics which aren't mentioned in the rating categories, but as my understanding, it does cross at certain regards:\n",
        "- Communication and Head Office Interactions can definitely related to the Information and Experience category.\n",
        "- While Cleanliness & Hygiene is a frequent topic brought up more often due to Covid, but it nevertheless one aspect of Environment & Facilities.   "
      ],
      "metadata": {
        "id": "J4PuyR1dpQKv"
      }
    },
    {
      "cell_type": "markdown",
      "source": [
        "Less frequent mentioned topics:\n",
        "- App & Childs Update (sounds like an aspect of Communication & Head Office interactions in some regards)\n",
        "- Fees (Value For Money)\n",
        "- Food & Nutrition\n",
        "- Threat of leaving (Probably a mistypo: living - leaving)\n",
        "- Enrolment Process (Admin work)\n",
        "- Staff Retention & Turnover\n",
        "- Accounts and Billing Interactions\n",
        "- Room Transitions\n",
        "\n",
        "These are much less brought up topics, meaning they play much less important role to define the customer satisfaction. Perhaps the most unexpected results that surfaced here is that Fees and Food aspects, some takeaway from this:\n",
        "- Customers did not prioritize Value for Money when it comes to childcare service\n",
        "- Food and Nutrition is not so much important to define customer satisfaction.\n",
        "\n",
        "I still hold quite strong belief that these two are the baseline for customer satisfaction (especially Food and Nutrition), and as long as the quality of the Food and Nutrion meet customer expectation, it will be good enough (we do have a quite strong evidence base on the scatterplot discuss above in the previous category rating section) \n",
        "\n"
      ],
      "metadata": {
        "id": "AOYgwig4PXMB"
      }
    },
    {
      "cell_type": "markdown",
      "source": [
        "We actually can do a lot of analysis with the Feedback categories if combining with other dimensions (NPS/Area/City), but let's skip it as off now and move to another qualitative dimension, **improvement feedback category**"
      ],
      "metadata": {
        "id": "z4Ve4E64XSNa"
      }
    },
    {
      "cell_type": "markdown",
      "source": [
        "This data dimension can potentially show us what's the most important aspects that Blue Moutain should focus on to further improve customer satisfaction."
      ],
      "metadata": {
        "id": "yNdD45aZYPLd"
      }
    },
    {
      "cell_type": "code",
      "execution_count": 86,
      "metadata": {
        "colab": {
          "base_uri": "https://localhost:8080/",
          "height": 303
        },
        "id": "wKEJ8Kxt6-1h",
        "outputId": "6b82f40c-f08a-4167-9fe4-74d5e4793ae0"
      },
      "outputs": [
        {
          "output_type": "stream",
          "name": "stdout",
          "text": [
            "Total of Feedback: 385\n"
          ]
        },
        {
          "output_type": "execute_result",
          "data": {
            "text/plain": [
              "<matplotlib.axes._subplots.AxesSubplot at 0x7ff68e3b9a50>"
            ]
          },
          "metadata": {},
          "execution_count": 86
        },
        {
          "output_type": "display_data",
          "data": {
            "text/plain": [
              "<Figure size 432x288 with 1 Axes>"
            ],
            "image/png": "[encoded data removed]"
          },
          "metadata": {}
        }
      ],
      "source": [
        "#Using the transform_feedback_data function again to breakdown improvement feedback categories data and plot them using barplot horizontal.\n",
        "print(\"Total of Feedback:\", df[\"Improvement Feedback Categories\"].notnull().sum())\n",
        "pd.Series(transform_feedback_data(df, column = 'Improvement Feedback Categories')).sort_values(ascending=False).plot.barh(color = [\"yellow\",\"yellow\", \"yellow\", \"orange\", \"orange\", \"orange\", \"red\", \"red\", \"red\", \"red\", \"red\", \"red\",  \"red\",  \"red\"])"
      ]
    },
    {
      "cell_type": "markdown",
      "source": [
        "WE can see that the pattern is not as clear as the previous analysis.\n",
        "We have a quite stand-out top 3 (but not as significant as the previous data):\n",
        "- *Curriculum & Programs*\n",
        "- *Environment & Facilities*\n",
        "- *Communication*\n",
        "\n",
        "and the top 6 (not as strong as the previous charts):\n",
        "- *Head Office Interactions*\n",
        "- *Campus Directors & Educators*\n",
        "- *App & Child Updates*\n",
        "\n",
        "Each of them account for about 35-40% of the total non-missing response.\n",
        "\n",
        "They are also the aspects in top 6 of most important childcare features to determine customer satisfaction and NPS. However, Campus Directors & Educators drop out of top 3, while Communication join from top 4 to top 3.\n",
        "\n",
        "There are definitely room for grow for these top 3 aspects. **Communication saw the most increase in terms of mentioned volumes. This's potentially the most urgent aspect to improve, following by Curriculumn and Environment Aspect**.\n",
        "\n",
        "**The only one aspect drop out of the top 6 is Cleaniness and Hygiene. The drop of mentioned volumn of Campus Directors and Educators also means they're less urgent**, although they're still very important. The human team of Blue Mountain's showing strong evidence of doing a good job. My recommendation is to management is to try our best to keep these people, because they're vital to the success/satisfaction of our students/parents."
      ],
      "metadata": {
        "id": "-Zzvyw7eYjow"
      }
    },
    {
      "cell_type": "markdown",
      "source": [
        "# Exploratory Data Analysis ends here!!\n",
        "\n",
        "The next part is dedicated for further indept analysis, and still on-going project. Please skip if you're not interested in :)"
      ],
      "metadata": {
        "id": "dMlxhQOMbaMm"
      }
    },
    {
      "cell_type": "markdown",
      "source": [
        "# Additional Analysis"
      ],
      "metadata": {
        "id": "LqfZUYNsbU6d"
      }
    },
    {
      "cell_type": "code",
      "execution_count": 69,
      "metadata": {
        "colab": {
          "base_uri": "https://localhost:8080/",
          "height": 303
        },
        "id": "tqmFRuiD_628",
        "outputId": "090dfbf0-bed2-4d26-8240-dfc951403650"
      },
      "outputs": [
        {
          "output_type": "stream",
          "name": "stdout",
          "text": [
            "Total of Feedback: 1443\n"
          ]
        },
        {
          "output_type": "execute_result",
          "data": {
            "text/plain": [
              "<matplotlib.axes._subplots.AxesSubplot at 0x7ff69bae65d0>"
            ]
          },
          "metadata": {},
          "execution_count": 69
        },
        {
          "output_type": "display_data",
          "data": {
            "text/plain": [
              "<Figure size 432x288 with 1 Axes>"
            ],
            "image/png": "[encoded data removed]"
          },
          "metadata": {}
        }
      ],
      "source": [
        "#Feedback analysis of active promoter\n",
        "print(\"Total of Feedback:\", df[df['NPS Label'] == 'Promoter'].shape[0])\n",
        "pd.Series(transform_feedback_data(df[df['NPS Label'] == \"Promoter\"], column = 'NPS Feedback Categories')).sort_values(ascending=True).plot.barh()"
      ]
    },
    {
      "cell_type": "markdown",
      "metadata": {
        "id": "seYHl7hWA-PB"
      },
      "source": [
        "Feedback analysis result on customers who are reported to be promoter remained consistent with the overall finding. ~70% customer praise the quality of \"Campus Directors & Educators\". \"Environment\" and \"Curriculumn\" comes 2nd and 3rd, indicate such strong quality on these matters. "
      ]
    },
    {
      "cell_type": "markdown",
      "metadata": {
        "id": "FGC7LJw4DQSs"
      },
      "source": [
        "Looking at Passiver can partially help us to understand what we to improve to make Passiver become Promoter"
      ]
    },
    {
      "cell_type": "code",
      "execution_count": 70,
      "metadata": {
        "colab": {
          "base_uri": "https://localhost:8080/",
          "height": 303
        },
        "id": "TO_wJTkUDdd-",
        "outputId": "b87592c8-1ece-4d34-9996-97e7f0b82cfc"
      },
      "outputs": [
        {
          "output_type": "stream",
          "name": "stdout",
          "text": [
            "Total of Feedback: 347\n"
          ]
        },
        {
          "output_type": "execute_result",
          "data": {
            "text/plain": [
              "<matplotlib.axes._subplots.AxesSubplot at 0x7ff68e744a50>"
            ]
          },
          "metadata": {},
          "execution_count": 70
        },
        {
          "output_type": "display_data",
          "data": {
            "text/plain": [
              "<Figure size 432x288 with 1 Axes>"
            ],
            "image/png": "[encoded data removed]"
          },
          "metadata": {}
        }
      ],
      "source": [
        "#Feedback analysis of active promoter\n",
        "print(\"Total of Feedback:\", df[df['NPS Label'] == 'Neutral'].shape[0])\n",
        "pd.Series(transform_feedback_data(df[df['NPS Label'] == \"Neutral\"], column = 'NPS Feedback Categories')).sort_values(ascending=True).plot.barh()"
      ]
    },
    {
      "cell_type": "code",
      "execution_count": 71,
      "metadata": {
        "colab": {
          "base_uri": "https://localhost:8080/",
          "height": 303
        },
        "id": "gaPzgG_fDslu",
        "outputId": "0e111c58-69ae-444f-c207-416eb3ba4298"
      },
      "outputs": [
        {
          "output_type": "stream",
          "name": "stdout",
          "text": [
            "Total of Feedback: 347\n"
          ]
        },
        {
          "output_type": "execute_result",
          "data": {
            "text/plain": [
              "<matplotlib.axes._subplots.AxesSubplot at 0x7ff69bccc350>"
            ]
          },
          "metadata": {},
          "execution_count": 71
        },
        {
          "output_type": "display_data",
          "data": {
            "text/plain": [
              "<Figure size 432x288 with 1 Axes>"
            ],
            "image/png": "[encoded data removed]"
          },
          "metadata": {}
        }
      ],
      "source": [
        "#Feedback analysis of active promoter\n",
        "print(\"Total of Feedback:\", df[df['NPS Label'] == 'Neutral'].shape[0])\n",
        "pd.Series(transform_feedback_data(df[df['NPS Label'] == \"Neutral\"], column = 'Improvement Feedback Categories')).sort_values(ascending=True).plot.barh()"
      ]
    },
    {
      "cell_type": "code",
      "execution_count": 72,
      "metadata": {
        "id": "4scZfsIBGMSj"
      },
      "outputs": [],
      "source": [
        "def handle_rating(rating):\n",
        "  if pd.isnull(rating):\n",
        "    return None\n",
        "  number_rating = int(rating.split(\".\")[0])\n",
        "  return number_rating"
      ]
    },
    {
      "cell_type": "code",
      "execution_count": 73,
      "metadata": {
        "colab": {
          "base_uri": "https://localhost:8080/"
        },
        "id": "laOV_oeAE8DA",
        "outputId": "9ddc4663-07e3-4eea-feb4-0b500cd008cf"
      },
      "outputs": [
        {
          "output_type": "stream",
          "name": "stdout",
          "text": [
            "Rating for Ambience And Atmosphere\n",
            "4.508982035928144\n",
            "Rating for Curriculum and Activities\n",
            "4.205970149253731\n",
            "Rating for Visit Booking Process\n",
            "4.591176470588235\n",
            "Rating for Environment And Facilities\n",
            "4.253731343283582\n",
            "Rating for Information and Experience\n",
            "4.520833333333333\n",
            "Rating for Questions\n",
            "4.577844311377246\n",
            "Rating for Nutritious Meals\n",
            "3.976119402985075\n",
            "Rating for Value For Money\n",
            "3.6786786786786787\n"
          ]
        },
        {
          "output_type": "stream",
          "name": "stderr",
          "text": [
            "/usr/local/lib/python3.7/dist-packages/ipykernel_launcher.py:6: SettingWithCopyWarning: \n",
            "A value is trying to be set on a copy of a slice from a DataFrame.\n",
            "Try using .loc[row_indexer,col_indexer] = value instead\n",
            "\n",
            "See the caveats in the documentation: https://pandas.pydata.org/pandas-docs/stable/user_guide/indexing.html#returning-a-view-versus-a-copy\n",
            "  \n"
          ]
        }
      ],
      "source": [
        "category_list = ['Ambience And Atmosphere', 'Curriculum and Activities', 'Visit Booking Process', 'Environment And Facilities', 'Information and Experience', 'Questions','Nutritious Meals', 'Value For Money']\n",
        "\n",
        "neutral_df = df[df['NPS Label'] == \"Neutral\"]\n",
        "\n",
        "for category in category_list:\n",
        "  neutral_df[category] = neutral_df[category].apply(lambda x:handle_rating(x))\n",
        "\n",
        "for category in category_list:\n",
        "  print(\"Rating for\",category)\n",
        "  print(neutral_df[category].mean())"
      ]
    },
    {
      "cell_type": "markdown",
      "metadata": {
        "id": "0uFummKKGxh1"
      },
      "source": [
        "Nutritious Meals: 2nd Lowest\n",
        "\n",
        "Value For Money: Lowest\n",
        "\n",
        "Curriculum and Activities: 4.2\n",
        "\n",
        "Environment And Facilities: 4.25\n",
        "\n",
        "\n"
      ]
    },
    {
      "cell_type": "code",
      "execution_count": 74,
      "metadata": {
        "colab": {
          "base_uri": "https://localhost:8080/"
        },
        "id": "ZZENAoKcHF_3",
        "outputId": "6209807f-9753-461e-99f6-2136249858a0"
      },
      "outputs": [
        {
          "output_type": "stream",
          "name": "stdout",
          "text": [
            "Rating for Ambience And Atmosphere\n",
            "4.907460545193687\n",
            "Rating for Curriculum and Activities\n",
            "4.754448398576512\n",
            "Rating for Visit Booking Process\n",
            "4.803127221037669\n",
            "Rating for Environment And Facilities\n",
            "4.832498210450966\n",
            "Rating for Information and Experience\n",
            "4.8775800711743775\n",
            "Rating for Questions\n",
            "4.900215362526921\n",
            "Rating for Nutritious Meals\n",
            "4.51432664756447\n",
            "Rating for Value For Money\n",
            "4.342426417803302\n"
          ]
        },
        {
          "output_type": "stream",
          "name": "stderr",
          "text": [
            "/usr/local/lib/python3.7/dist-packages/ipykernel_launcher.py:6: SettingWithCopyWarning: \n",
            "A value is trying to be set on a copy of a slice from a DataFrame.\n",
            "Try using .loc[row_indexer,col_indexer] = value instead\n",
            "\n",
            "See the caveats in the documentation: https://pandas.pydata.org/pandas-docs/stable/user_guide/indexing.html#returning-a-view-versus-a-copy\n",
            "  \n"
          ]
        }
      ],
      "source": [
        "category_list = ['Ambience And Atmosphere', 'Curriculum and Activities', 'Visit Booking Process', 'Environment And Facilities', 'Information and Experience', 'Questions','Nutritious Meals', 'Value For Money']\n",
        "\n",
        "promoter_df = df[df['NPS Label'] == \"Promoter\"]\n",
        "\n",
        "for category in category_list:\n",
        "  promoter_df[category] = promoter_df[category].apply(lambda x:handle_rating(x))\n",
        "\n",
        "for category in category_list:\n",
        "  print(\"Rating for\",category)\n",
        "  print(promoter_df[category].mean())"
      ]
    },
    {
      "cell_type": "markdown",
      "metadata": {
        "id": "jXz11fdsHTEJ"
      },
      "source": [
        "Rating for Curriculum and Activities: 4.75\n",
        "Rating for Environment And Facilities: 4.83"
      ]
    },
    {
      "cell_type": "code",
      "execution_count": 75,
      "metadata": {
        "colab": {
          "base_uri": "https://localhost:8080/",
          "height": 303
        },
        "id": "i-Pn6xd1HjnD",
        "outputId": "2be04eb8-a816-477a-b964-03eb70e81830"
      },
      "outputs": [
        {
          "output_type": "stream",
          "name": "stdout",
          "text": [
            "Total of Feedback: 245\n"
          ]
        },
        {
          "output_type": "execute_result",
          "data": {
            "text/plain": [
              "<matplotlib.axes._subplots.AxesSubplot at 0x7ff68e5e36d0>"
            ]
          },
          "metadata": {},
          "execution_count": 75
        },
        {
          "output_type": "display_data",
          "data": {
            "text/plain": [
              "<Figure size 432x288 with 1 Axes>"
            ],
            "image/png": "[encoded data removed]"
          },
          "metadata": {}
        }
      ],
      "source": [
        "#Feedback analysis of active promoter\n",
        "print(\"Total of Feedback:\", df[df['NPS Label'] == 'Detractor'].shape[0])\n",
        "pd.Series(transform_feedback_data(df[df['NPS Label'] == \"Detractor\"], column = 'NPS Feedback Categories')).sort_values(ascending=True).plot.barh()"
      ]
    },
    {
      "cell_type": "code",
      "execution_count": 76,
      "metadata": {
        "colab": {
          "base_uri": "https://localhost:8080/",
          "height": 303
        },
        "id": "Qy8u0roJIKQZ",
        "outputId": "01235575-3d80-47a5-f586-96e40405f0b9"
      },
      "outputs": [
        {
          "output_type": "stream",
          "name": "stdout",
          "text": [
            "Total of Feedback: 245\n"
          ]
        },
        {
          "output_type": "execute_result",
          "data": {
            "text/plain": [
              "<matplotlib.axes._subplots.AxesSubplot at 0x7ff68e52e110>"
            ]
          },
          "metadata": {},
          "execution_count": 76
        },
        {
          "output_type": "display_data",
          "data": {
            "text/plain": [
              "<Figure size 432x288 with 1 Axes>"
            ],
            "image/png": "[encoded data removed]"
          },
          "metadata": {}
        }
      ],
      "source": [
        "#Feedback analysis of active promoter\n",
        "print(\"Total of Feedback:\", df[df['NPS Label'] == 'Detractor'].shape[0])\n",
        "pd.Series(transform_feedback_data(df[df['NPS Label'] == \"Detractor\"], column = 'Improvement Feedback Categories')).sort_values(ascending=True).plot.barh()"
      ]
    },
    {
      "cell_type": "code",
      "execution_count": 77,
      "metadata": {
        "colab": {
          "base_uri": "https://localhost:8080/"
        },
        "id": "a9X8G3G4Hw39",
        "outputId": "ceb764fd-0aaa-4287-9710-c507450fda7c"
      },
      "outputs": [
        {
          "output_type": "stream",
          "name": "stdout",
          "text": [
            "Rating for Ambience And Atmosphere\n",
            "3.017777777777778\n",
            "Rating for Curriculum and Activities\n",
            "2.88646288209607\n",
            "Rating for Visit Booking Process\n",
            "4.047413793103448\n",
            "Rating for Environment And Facilities\n",
            "2.848888888888889\n",
            "Rating for Information and Experience\n",
            "3.242424242424242\n",
            "Rating for Questions\n",
            "3.528888888888889\n",
            "Rating for Nutritious Meals\n",
            "3.2202643171806167\n",
            "Rating for Value For Money\n",
            "2.6577777777777776\n"
          ]
        },
        {
          "output_type": "stream",
          "name": "stderr",
          "text": [
            "/usr/local/lib/python3.7/dist-packages/ipykernel_launcher.py:6: SettingWithCopyWarning: \n",
            "A value is trying to be set on a copy of a slice from a DataFrame.\n",
            "Try using .loc[row_indexer,col_indexer] = value instead\n",
            "\n",
            "See the caveats in the documentation: https://pandas.pydata.org/pandas-docs/stable/user_guide/indexing.html#returning-a-view-versus-a-copy\n",
            "  \n"
          ]
        }
      ],
      "source": [
        "category_list = ['Ambience And Atmosphere', 'Curriculum and Activities', 'Visit Booking Process', 'Environment And Facilities', 'Information and Experience', 'Questions','Nutritious Meals', 'Value For Money']\n",
        "\n",
        "detractor_df = df[df['NPS Label'] == \"Detractor\"]\n",
        "\n",
        "for category in category_list:\n",
        "  detractor_df[category] = detractor_df[category].apply(lambda x:handle_rating(x))\n",
        "\n",
        "for category in category_list:\n",
        "  print(\"Rating for\",category)\n",
        "  print(detractor_df[category].mean())"
      ]
    },
    {
      "cell_type": "markdown",
      "metadata": {
        "id": "VIrP2YsUKI9x"
      },
      "source": [
        "# Time Series Analysis"
      ]
    },
    {
      "cell_type": "code",
      "execution_count": null,
      "metadata": {
        "id": "EAC4mPmzy-VT"
      },
      "outputs": [],
      "source": [
        "#df = raw_df.copy().set_index('Survey Response Date [GMT]')\n",
        "df = raw_df.copy()"
      ]
    },
    {
      "cell_type": "code",
      "execution_count": null,
      "metadata": {
        "colab": {
          "base_uri": "https://localhost:8080/"
        },
        "id": "tTkZDvDNzF8U",
        "outputId": "236e16e5-690d-4e60-c564-b86ee69fcbfc"
      },
      "outputs": [
        {
          "data": {
            "text/plain": [
              "Index(['Area', 'City', 'NPS', 'NPS Label', 'Ambience And Atmosphere',\n",
              "       'Curriculum and Activities', 'Visit Booking Process',\n",
              "       'Environment And Facilities', 'Information and Experience', 'Questions',\n",
              "       'Nutritious Meals', 'Value For Money', 'Survey Response Date [GMT]',\n",
              "       'Responded Week Starting on [GMT]', 'Survey Sent Date [GMT]',\n",
              "       'Start Date', 'NPS Feedback Categories',\n",
              "       'Improvement Feedback Categories', 'Response Month (YYYY-MM)',\n",
              "       'Response Year (YYYY)', 'Response Quarter (YYYY-Q#)', 'Workflow Status',\n",
              "       'Last Modified Date', 'Division'],\n",
              "      dtype='object')"
            ]
          },
          "execution_count": 57,
          "metadata": {},
          "output_type": "execute_result"
        }
      ],
      "source": [
        "df.columns"
      ]
    },
    {
      "cell_type": "code",
      "execution_count": null,
      "metadata": {
        "id": "IEKqK1Ri07rD"
      },
      "outputs": [],
      "source": [
        "sns.lineplot(data=df, x='month', y='NPS')\n",
        "plt.show()"
      ]
    },
    {
      "cell_type": "code",
      "execution_count": null,
      "metadata": {
        "id": "Yaai0-iK0_vx"
      },
      "outputs": [],
      "source": []
    },
    {
      "cell_type": "markdown",
      "metadata": {
        "id": "Jc40vHI71QoV"
      },
      "source": []
    },
    {
      "cell_type": "code",
      "execution_count": null,
      "metadata": {
        "id": "waG6o_Fy1PDY"
      },
      "outputs": [],
      "source": [
        "df = raw_df.copy()\n",
        "NPS_labels = [\"Promoter\", \"Detractor\", \"Neutral\"]\n",
        "period_list = [\"2021-Q4\",\"2022-Q1\",\"2022-Q2\"]\n",
        "for category in category_list:\n",
        "  df[category] = df[category].apply(lambda x:handle_rating(x))\n",
        "  \n",
        "for period in period_list:\n",
        "  print(period, \":\",round(df_period[\"NPS\"].mean(),2))\n",
        "  df_period = df[df['Response Quarter (YYYY-Q#)'] == period]\n",
        "  print(df_period.shape[0])\n",
        "  for category in category_list:\n",
        "    print(\"Rating for\",category,\"in period\", period, \":\", round(df_period[category].mean(),2))\n"
      ]
    },
    {
      "cell_type": "markdown",
      "metadata": {
        "id": "QNiMqMJT_ecb"
      },
      "source": [
        "pd.Series(transform_feedback_data(df[df['Response Quarter (YYYY-Q#)'] == \"2021-Q4\"], column ='Improvement Feedback Categories')).sort_values(ascending=True).plot.barh()"
      ]
    },
    {
      "cell_type": "code",
      "execution_count": null,
      "metadata": {
        "id": "8sd92KvfAjOx"
      },
      "outputs": [],
      "source": [
        "print(df[(df['Response Quarter (YYYY-Q#)'] == \"2021-Q4\") & (df[\"NPS Label\"] == \"Detractor\")].shape[0])\n",
        "pd.Series(transform_feedback_data(df[(df['Response Quarter (YYYY-Q#)'] == \"2021-Q4\") & (df[\"NPS Label\"] == \"Detractor\")], column = 'NPS Feedback Categories')).sort_values(ascending=True).plot.barh()"
      ]
    },
    {
      "cell_type": "code",
      "execution_count": null,
      "metadata": {
        "id": "S9rV-Zbr_2Oi"
      },
      "outputs": [],
      "source": [
        "print(df[(df['Response Quarter (YYYY-Q#)'] == \"2022-Q1\") & (df[\"NPS Label\"] == \"Detractor\")].shape[0])\n",
        "pd.Series(transform_feedback_data(df[(df['Response Quarter (YYYY-Q#)'] == \"2022-Q1\") & (df[\"NPS Label\"] == \"Detractor\")], column = 'NPS Feedback Categories')).sort_values(ascending=True).plot.barh()"
      ]
    },
    {
      "cell_type": "code",
      "execution_count": null,
      "metadata": {
        "id": "0HaooaE8_4nC"
      },
      "outputs": [],
      "source": [
        "print(df[(df['Response Quarter (YYYY-Q#)'] == \"2022-Q2\") & (df[\"NPS Label\"] == \"Detractor\")].shape[0])\n",
        "pd.Series(transform_feedback_data(df[(df['Response Quarter (YYYY-Q#)'] == \"2022-Q2\") & (df[\"NPS Label\"] == \"Detractor\")], column = 'NPS Feedback Categories')).sort_values(ascending=True).plot.barh()"
      ]
    },
    {
      "cell_type": "markdown",
      "metadata": {
        "id": "YngRvOJVOX8E"
      },
      "source": [
        "# Division Analysis"
      ]
    },
    {
      "cell_type": "code",
      "execution_count": null,
      "metadata": {
        "colab": {
          "base_uri": "https://localhost:8080/"
        },
        "id": "4I6pPdqGOgwu",
        "outputId": "b478acbf-2b73-4d86-9fce-827921116fc4"
      },
      "outputs": [
        {
          "data": {
            "text/plain": [
              "Green     665\n",
              "Blue      576\n",
              "Red       354\n",
              "Purple    237\n",
              "Orange     86\n",
              "Yellow     68\n",
              "Grey       48\n",
              "Name: Division, dtype: int64"
            ]
          },
          "execution_count": 59,
          "metadata": {},
          "output_type": "execute_result"
        }
      ],
      "source": [
        "raw_df[\"Division\"].value_counts()"
      ]
    },
    {
      "cell_type": "code",
      "execution_count": null,
      "metadata": {
        "colab": {
          "base_uri": "https://localhost:8080/",
          "height": 300
        },
        "id": "rgdKkN-qOsP5",
        "outputId": "eec7af13-560e-45ec-c88c-3627e99e7ca8"
      },
      "outputs": [
        {
          "data": {
            "text/html": [
              "\n",
              "  <div id=\"df-72c22aa0-f6d5-4ed7-a29f-413e9865f79e\">\n",
              "    <div class=\"colab-df-container\">\n",
              "      <div>\n",
              "<style scoped>\n",
              "    .dataframe tbody tr th:only-of-type {\n",
              "        vertical-align: middle;\n",
              "    }\n",
              "\n",
              "    .dataframe tbody tr th {\n",
              "        vertical-align: top;\n",
              "    }\n",
              "\n",
              "    .dataframe thead th {\n",
              "        text-align: right;\n",
              "    }\n",
              "</style>\n",
              "<table border=\"1\" class=\"dataframe\">\n",
              "  <thead>\n",
              "    <tr style=\"text-align: right;\">\n",
              "      <th></th>\n",
              "      <th>nps_mean</th>\n",
              "    </tr>\n",
              "    <tr>\n",
              "      <th>Division</th>\n",
              "      <th></th>\n",
              "    </tr>\n",
              "  </thead>\n",
              "  <tbody>\n",
              "    <tr>\n",
              "      <th>Blue</th>\n",
              "      <td>8.644097</td>\n",
              "    </tr>\n",
              "    <tr>\n",
              "      <th>Green</th>\n",
              "      <td>8.527820</td>\n",
              "    </tr>\n",
              "    <tr>\n",
              "      <th>Grey</th>\n",
              "      <td>8.145833</td>\n",
              "    </tr>\n",
              "    <tr>\n",
              "      <th>Orange</th>\n",
              "      <td>8.058140</td>\n",
              "    </tr>\n",
              "    <tr>\n",
              "      <th>Purple</th>\n",
              "      <td>8.476793</td>\n",
              "    </tr>\n",
              "    <tr>\n",
              "      <th>Red</th>\n",
              "      <td>8.966102</td>\n",
              "    </tr>\n",
              "    <tr>\n",
              "      <th>Yellow</th>\n",
              "      <td>9.132353</td>\n",
              "    </tr>\n",
              "  </tbody>\n",
              "</table>\n",
              "</div>\n",
              "      <button class=\"colab-df-convert\" onclick=\"convertToInteractive('df-72c22aa0-f6d5-4ed7-a29f-413e9865f79e')\"\n",
              "              title=\"Convert this dataframe to an interactive table.\"\n",
              "              style=\"display:none;\">\n",
              "        \n",
              "  <svg xmlns=\"http://www.w3.org/2000/svg\" height=\"24px\"viewBox=\"0 0 24 24\"\n",
              "       width=\"24px\">\n",
              "    <path d=\"M0 0h24v24H0V0z\" fill=\"none\"/>\n",
              "    <path d=\"M18.56 5.44l.94 2.06.94-2.06 2.06-.94-2.06-.94-.94-2.06-.94 2.06-2.06.94zm-11 1L8.5 8.5l.94-2.06 2.06-.94-2.06-.94L8.5 2.5l-.94 2.06-2.06.94zm10 10l.94 2.06.94-2.06 2.06-.94-2.06-.94-.94-2.06-.94 2.06-2.06.94z\"/><path d=\"M17.41 7.96l-1.37-1.37c-.4-.4-.92-.59-1.43-.59-.52 0-1.04.2-1.43.59L10.3 9.45l-7.72 7.72c-.78.78-.78 2.05 0 2.83L4 21.41c.39.39.9.59 1.41.59.51 0 1.02-.2 1.41-.59l7.78-7.78 2.81-2.81c.8-.78.8-2.07 0-2.86zM5.41 20L4 18.59l7.72-7.72 1.47 1.35L5.41 20z\"/>\n",
              "  </svg>\n",
              "      </button>\n",
              "      \n",
              "  <style>\n",
              "    .colab-df-container {\n",
              "      display:flex;\n",
              "      flex-wrap:wrap;\n",
              "      gap: 12px;\n",
              "    }\n",
              "\n",
              "    .colab-df-convert {\n",
              "      background-color: #E8F0FE;\n",
              "      border: none;\n",
              "      border-radius: 50%;\n",
              "      cursor: pointer;\n",
              "      display: none;\n",
              "      fill: #1967D2;\n",
              "      height: 32px;\n",
              "      padding: 0 0 0 0;\n",
              "      width: 32px;\n",
              "    }\n",
              "\n",
              "    .colab-df-convert:hover {\n",
              "      background-color: #E2EBFA;\n",
              "      box-shadow: 0px 1px 2px rgba(60, 64, 67, 0.3), 0px 1px 3px 1px rgba(60, 64, 67, 0.15);\n",
              "      fill: #174EA6;\n",
              "    }\n",
              "\n",
              "    [theme=dark] .colab-df-convert {\n",
              "      background-color: #3B4455;\n",
              "      fill: #D2E3FC;\n",
              "    }\n",
              "\n",
              "    [theme=dark] .colab-df-convert:hover {\n",
              "      background-color: #434B5C;\n",
              "      box-shadow: 0px 1px 3px 1px rgba(0, 0, 0, 0.15);\n",
              "      filter: drop-shadow(0px 1px 2px rgba(0, 0, 0, 0.3));\n",
              "      fill: #FFFFFF;\n",
              "    }\n",
              "  </style>\n",
              "\n",
              "      <script>\n",
              "        const buttonEl =\n",
              "          document.querySelector('#df-72c22aa0-f6d5-4ed7-a29f-413e9865f79e button.colab-df-convert');\n",
              "        buttonEl.style.display =\n",
              "          google.colab.kernel.accessAllowed ? 'block' : 'none';\n",
              "\n",
              "        async function convertToInteractive(key) {\n",
              "          const element = document.querySelector('#df-72c22aa0-f6d5-4ed7-a29f-413e9865f79e');\n",
              "          const dataTable =\n",
              "            await google.colab.kernel.invokeFunction('convertToInteractive',\n",
              "                                                     [key], {});\n",
              "          if (!dataTable) return;\n",
              "\n",
              "          const docLinkHtml = 'Like what you see? Visit the ' +\n",
              "            '<a target=\"_blank\" href=https://colab.research.google.com/notebooks/data_table.ipynb>data table notebook</a>'\n",
              "            + ' to learn more about interactive tables.';\n",
              "          element.innerHTML = '';\n",
              "          dataTable['output_type'] = 'display_data';\n",
              "          await google.colab.output.renderOutput(dataTable, element);\n",
              "          const docLink = document.createElement('div');\n",
              "          docLink.innerHTML = docLinkHtml;\n",
              "          element.appendChild(docLink);\n",
              "        }\n",
              "      </script>\n",
              "    </div>\n",
              "  </div>\n",
              "  "
            ],
            "text/plain": [
              "          nps_mean\n",
              "Division          \n",
              "Blue      8.644097\n",
              "Green     8.527820\n",
              "Grey      8.145833\n",
              "Orange    8.058140\n",
              "Purple    8.476793\n",
              "Red       8.966102\n",
              "Yellow    9.132353"
            ]
          },
          "execution_count": 60,
          "metadata": {},
          "output_type": "execute_result"
        }
      ],
      "source": [
        "raw_df.groupby(\"Division\")[\"NPS\"].agg(nps_mean = (\"mean\"))"
      ]
    },
    {
      "cell_type": "code",
      "execution_count": null,
      "metadata": {
        "id": "GFilVXmp0HVh"
      },
      "outputs": [],
      "source": []
    },
    {
      "cell_type": "markdown",
      "metadata": {
        "id": "FEDd1UDt0J7Y"
      },
      "source": [
        "# Transform the Data for Tableau Viz"
      ]
    },
    {
      "cell_type": "code",
      "execution_count": null,
      "metadata": {
        "id": "-hNqby5u0OGq"
      },
      "outputs": [],
      "source": [
        "#copy into a new data\n",
        "df = raw_df.copy()"
      ]
    },
    {
      "cell_type": "code",
      "execution_count": null,
      "metadata": {
        "colab": {
          "base_uri": "https://localhost:8080/",
          "height": 525
        },
        "id": "drpx7lBi0QhU",
        "outputId": "df7b6129-bc8e-488b-92d0-7390495270b8"
      },
      "outputs": [
        {
          "output_type": "execute_result",
          "data": {
            "text/plain": [
              "   Area       City  NPS NPS Label Ambience And Atmosphere  \\\n",
              "0     7     Sydney   10  Promoter       5. Strongly Agree   \n",
              "1     4  Melbourne   10  Promoter       5. Strongly Agree   \n",
              "2    13   Brisbane   10  Promoter       5. Strongly Agree   \n",
              "3    16      Perth    9  Promoter       5. Strongly Agree   \n",
              "4    20   Adelaide   10  Promoter       5. Strongly Agree   \n",
              "\n",
              "  Curriculum and Activities Visit Booking Process Environment And Facilities  \\\n",
              "0         5. Strongly Agree     5. Strongly Agree          5. Strongly Agree   \n",
              "1         5. Strongly Agree     5. Strongly Agree          5. Strongly Agree   \n",
              "2         5. Strongly Agree     5. Strongly Agree          5. Strongly Agree   \n",
              "3         5. Strongly Agree     5. Strongly Agree          5. Strongly Agree   \n",
              "4         5. Strongly Agree     5. Strongly Agree          5. Strongly Agree   \n",
              "\n",
              "  Information and Experience          Questions  ... Survey Sent Date [GMT]  \\\n",
              "0          5. Strongly Agree  5. Strongly Agree  ...             2022-05-13   \n",
              "1          5. Strongly Agree  5. Strongly Agree  ...             2022-05-11   \n",
              "2          5. Strongly Agree  5. Strongly Agree  ...             2022-04-29   \n",
              "3          5. Strongly Agree  5. Strongly Agree  ...             2022-05-13   \n",
              "4          5. Strongly Agree  5. Strongly Agree  ...             2022-05-13   \n",
              "\n",
              "  Start Date                            NPS Feedback Categories  \\\n",
              "0 2022-05-11  \"Campus Directors & Educators\",\"Curriculum & P...   \n",
              "1 2022-05-06                                    \"Communication\"   \n",
              "2 2022-04-27  \"Campus Directors & Educators\",\"Cleanliness & ...   \n",
              "3 2022-05-10  \"App & Child Updates\",\"Campus Directors & Educ...   \n",
              "4 2022-05-11     \"Campus Directors & Educators\",\"Communication\"   \n",
              "\n",
              "  Improvement Feedback Categories Response Month (YYYY-MM)  \\\n",
              "0                             NaN                  2022-05   \n",
              "1                             NaN                  2022-05   \n",
              "2                             NaN                  2022-05   \n",
              "3                             NaN                  2022-05   \n",
              "4                             NaN                  2022-05   \n",
              "\n",
              "  Response Year (YYYY) Response Quarter (YYYY-Q#) Workflow Status  \\\n",
              "0                 2022                    2022-Q2          Closed   \n",
              "1                 2022                    2022-Q2          Closed   \n",
              "2                 2022                    2022-Q2          Closed   \n",
              "3                 2022                    2022-Q2     In Progress   \n",
              "4                 2022                    2022-Q2         Pending   \n",
              "\n",
              "       Last Modified Date  Division  \n",
              "0 2022-05-25 16:47:45.627      Blue  \n",
              "1 2022-05-25 17:41:09.508       Red  \n",
              "2 2022-05-24 10:40:36.112     Green  \n",
              "3 2022-05-24 13:04:49.949      Blue  \n",
              "4 2022-05-23 20:48:56.323    Purple  \n",
              "\n",
              "[5 rows x 24 columns]"
            ],
            "text/html": [
              "\n",
              "  <div id=\"df-02902fba-3206-4b08-a6d3-f54191c77fbe\">\n",
              "    <div class=\"colab-df-container\">\n",
              "      <div>\n",
              "<style scoped>\n",
              "    .dataframe tbody tr th:only-of-type {\n",
              "        vertical-align: middle;\n",
              "    }\n",
              "\n",
              "    .dataframe tbody tr th {\n",
              "        vertical-align: top;\n",
              "    }\n",
              "\n",
              "    .dataframe thead th {\n",
              "        text-align: right;\n",
              "    }\n",
              "</style>\n",
              "<table border=\"1\" class=\"dataframe\">\n",
              "  <thead>\n",
              "    <tr style=\"text-align: right;\">\n",
              "      <th></th>\n",
              "      <th>Area</th>\n",
              "      <th>City</th>\n",
              "      <th>NPS</th>\n",
              "      <th>NPS Label</th>\n",
              "      <th>Ambience And Atmosphere</th>\n",
              "      <th>Curriculum and Activities</th>\n",
              "      <th>Visit Booking Process</th>\n",
              "      <th>Environment And Facilities</th>\n",
              "      <th>Information and Experience</th>\n",
              "      <th>Questions</th>\n",
              "      <th>...</th>\n",
              "      <th>Survey Sent Date [GMT]</th>\n",
              "      <th>Start Date</th>\n",
              "      <th>NPS Feedback Categories</th>\n",
              "      <th>Improvement Feedback Categories</th>\n",
              "      <th>Response Month (YYYY-MM)</th>\n",
              "      <th>Response Year (YYYY)</th>\n",
              "      <th>Response Quarter (YYYY-Q#)</th>\n",
              "      <th>Workflow Status</th>\n",
              "      <th>Last Modified Date</th>\n",
              "      <th>Division</th>\n",
              "    </tr>\n",
              "  </thead>\n",
              "  <tbody>\n",
              "    <tr>\n",
              "      <th>0</th>\n",
              "      <td>7</td>\n",
              "      <td>Sydney</td>\n",
              "      <td>10</td>\n",
              "      <td>Promoter</td>\n",
              "      <td>5. Strongly Agree</td>\n",
              "      <td>5. Strongly Agree</td>\n",
              "      <td>5. Strongly Agree</td>\n",
              "      <td>5. Strongly Agree</td>\n",
              "      <td>5. Strongly Agree</td>\n",
              "      <td>5. Strongly Agree</td>\n",
              "      <td>...</td>\n",
              "      <td>2022-05-13</td>\n",
              "      <td>2022-05-11</td>\n",
              "      <td>\"Campus Directors &amp; Educators\",\"Curriculum &amp; P...</td>\n",
              "      <td>NaN</td>\n",
              "      <td>2022-05</td>\n",
              "      <td>2022</td>\n",
              "      <td>2022-Q2</td>\n",
              "      <td>Closed</td>\n",
              "      <td>2022-05-25 16:47:45.627</td>\n",
              "      <td>Blue</td>\n",
              "    </tr>\n",
              "    <tr>\n",
              "      <th>1</th>\n",
              "      <td>4</td>\n",
              "      <td>Melbourne</td>\n",
              "      <td>10</td>\n",
              "      <td>Promoter</td>\n",
              "      <td>5. Strongly Agree</td>\n",
              "      <td>5. Strongly Agree</td>\n",
              "      <td>5. Strongly Agree</td>\n",
              "      <td>5. Strongly Agree</td>\n",
              "      <td>5. Strongly Agree</td>\n",
              "      <td>5. Strongly Agree</td>\n",
              "      <td>...</td>\n",
              "      <td>2022-05-11</td>\n",
              "      <td>2022-05-06</td>\n",
              "      <td>\"Communication\"</td>\n",
              "      <td>NaN</td>\n",
              "      <td>2022-05</td>\n",
              "      <td>2022</td>\n",
              "      <td>2022-Q2</td>\n",
              "      <td>Closed</td>\n",
              "      <td>2022-05-25 17:41:09.508</td>\n",
              "      <td>Red</td>\n",
              "    </tr>\n",
              "    <tr>\n",
              "      <th>2</th>\n",
              "      <td>13</td>\n",
              "      <td>Brisbane</td>\n",
              "      <td>10</td>\n",
              "      <td>Promoter</td>\n",
              "      <td>5. Strongly Agree</td>\n",
              "      <td>5. Strongly Agree</td>\n",
              "      <td>5. Strongly Agree</td>\n",
              "      <td>5. Strongly Agree</td>\n",
              "      <td>5. Strongly Agree</td>\n",
              "      <td>5. Strongly Agree</td>\n",
              "      <td>...</td>\n",
              "      <td>2022-04-29</td>\n",
              "      <td>2022-04-27</td>\n",
              "      <td>\"Campus Directors &amp; Educators\",\"Cleanliness &amp; ...</td>\n",
              "      <td>NaN</td>\n",
              "      <td>2022-05</td>\n",
              "      <td>2022</td>\n",
              "      <td>2022-Q2</td>\n",
              "      <td>Closed</td>\n",
              "      <td>2022-05-24 10:40:36.112</td>\n",
              "      <td>Green</td>\n",
              "    </tr>\n",
              "    <tr>\n",
              "      <th>3</th>\n",
              "      <td>16</td>\n",
              "      <td>Perth</td>\n",
              "      <td>9</td>\n",
              "      <td>Promoter</td>\n",
              "      <td>5. Strongly Agree</td>\n",
              "      <td>5. Strongly Agree</td>\n",
              "      <td>5. Strongly Agree</td>\n",
              "      <td>5. Strongly Agree</td>\n",
              "      <td>5. Strongly Agree</td>\n",
              "      <td>5. Strongly Agree</td>\n",
              "      <td>...</td>\n",
              "      <td>2022-05-13</td>\n",
              "      <td>2022-05-10</td>\n",
              "      <td>\"App &amp; Child Updates\",\"Campus Directors &amp; Educ...</td>\n",
              "      <td>NaN</td>\n",
              "      <td>2022-05</td>\n",
              "      <td>2022</td>\n",
              "      <td>2022-Q2</td>\n",
              "      <td>In Progress</td>\n",
              "      <td>2022-05-24 13:04:49.949</td>\n",
              "      <td>Blue</td>\n",
              "    </tr>\n",
              "    <tr>\n",
              "      <th>4</th>\n",
              "      <td>20</td>\n",
              "      <td>Adelaide</td>\n",
              "      <td>10</td>\n",
              "      <td>Promoter</td>\n",
              "      <td>5. Strongly Agree</td>\n",
              "      <td>5. Strongly Agree</td>\n",
              "      <td>5. Strongly Agree</td>\n",
              "      <td>5. Strongly Agree</td>\n",
              "      <td>5. Strongly Agree</td>\n",
              "      <td>5. Strongly Agree</td>\n",
              "      <td>...</td>\n",
              "      <td>2022-05-13</td>\n",
              "      <td>2022-05-11</td>\n",
              "      <td>\"Campus Directors &amp; Educators\",\"Communication\"</td>\n",
              "      <td>NaN</td>\n",
              "      <td>2022-05</td>\n",
              "      <td>2022</td>\n",
              "      <td>2022-Q2</td>\n",
              "      <td>Pending</td>\n",
              "      <td>2022-05-23 20:48:56.323</td>\n",
              "      <td>Purple</td>\n",
              "    </tr>\n",
              "  </tbody>\n",
              "</table>\n",
              "<p>5 rows × 24 columns</p>\n",
              "</div>\n",
              "      <button class=\"colab-df-convert\" onclick=\"convertToInteractive('df-02902fba-3206-4b08-a6d3-f54191c77fbe')\"\n",
              "              title=\"Convert this dataframe to an interactive table.\"\n",
              "              style=\"display:none;\">\n",
              "        \n",
              "  <svg xmlns=\"http://www.w3.org/2000/svg\" height=\"24px\"viewBox=\"0 0 24 24\"\n",
              "       width=\"24px\">\n",
              "    <path d=\"M0 0h24v24H0V0z\" fill=\"none\"/>\n",
              "    <path d=\"M18.56 5.44l.94 2.06.94-2.06 2.06-.94-2.06-.94-.94-2.06-.94 2.06-2.06.94zm-11 1L8.5 8.5l.94-2.06 2.06-.94-2.06-.94L8.5 2.5l-.94 2.06-2.06.94zm10 10l.94 2.06.94-2.06 2.06-.94-2.06-.94-.94-2.06-.94 2.06-2.06.94z\"/><path d=\"M17.41 7.96l-1.37-1.37c-.4-.4-.92-.59-1.43-.59-.52 0-1.04.2-1.43.59L10.3 9.45l-7.72 7.72c-.78.78-.78 2.05 0 2.83L4 21.41c.39.39.9.59 1.41.59.51 0 1.02-.2 1.41-.59l7.78-7.78 2.81-2.81c.8-.78.8-2.07 0-2.86zM5.41 20L4 18.59l7.72-7.72 1.47 1.35L5.41 20z\"/>\n",
              "  </svg>\n",
              "      </button>\n",
              "      \n",
              "  <style>\n",
              "    .colab-df-container {\n",
              "      display:flex;\n",
              "      flex-wrap:wrap;\n",
              "      gap: 12px;\n",
              "    }\n",
              "\n",
              "    .colab-df-convert {\n",
              "      background-color: #E8F0FE;\n",
              "      border: none;\n",
              "      border-radius: 50%;\n",
              "      cursor: pointer;\n",
              "      display: none;\n",
              "      fill: #1967D2;\n",
              "      height: 32px;\n",
              "      padding: 0 0 0 0;\n",
              "      width: 32px;\n",
              "    }\n",
              "\n",
              "    .colab-df-convert:hover {\n",
              "      background-color: #E2EBFA;\n",
              "      box-shadow: 0px 1px 2px rgba(60, 64, 67, 0.3), 0px 1px 3px 1px rgba(60, 64, 67, 0.15);\n",
              "      fill: #174EA6;\n",
              "    }\n",
              "\n",
              "    [theme=dark] .colab-df-convert {\n",
              "      background-color: #3B4455;\n",
              "      fill: #D2E3FC;\n",
              "    }\n",
              "\n",
              "    [theme=dark] .colab-df-convert:hover {\n",
              "      background-color: #434B5C;\n",
              "      box-shadow: 0px 1px 3px 1px rgba(0, 0, 0, 0.15);\n",
              "      filter: drop-shadow(0px 1px 2px rgba(0, 0, 0, 0.3));\n",
              "      fill: #FFFFFF;\n",
              "    }\n",
              "  </style>\n",
              "\n",
              "      <script>\n",
              "        const buttonEl =\n",
              "          document.querySelector('#df-02902fba-3206-4b08-a6d3-f54191c77fbe button.colab-df-convert');\n",
              "        buttonEl.style.display =\n",
              "          google.colab.kernel.accessAllowed ? 'block' : 'none';\n",
              "\n",
              "        async function convertToInteractive(key) {\n",
              "          const element = document.querySelector('#df-02902fba-3206-4b08-a6d3-f54191c77fbe');\n",
              "          const dataTable =\n",
              "            await google.colab.kernel.invokeFunction('convertToInteractive',\n",
              "                                                     [key], {});\n",
              "          if (!dataTable) return;\n",
              "\n",
              "          const docLinkHtml = 'Like what you see? Visit the ' +\n",
              "            '<a target=\"_blank\" href=https://colab.research.google.com/notebooks/data_table.ipynb>data table notebook</a>'\n",
              "            + ' to learn more about interactive tables.';\n",
              "          element.innerHTML = '';\n",
              "          dataTable['output_type'] = 'display_data';\n",
              "          await google.colab.output.renderOutput(dataTable, element);\n",
              "          const docLink = document.createElement('div');\n",
              "          docLink.innerHTML = docLinkHtml;\n",
              "          element.appendChild(docLink);\n",
              "        }\n",
              "      </script>\n",
              "    </div>\n",
              "  </div>\n",
              "  "
            ]
          },
          "metadata": {},
          "execution_count": 15
        }
      ],
      "source": [
        "df.head()"
      ]
    },
    {
      "cell_type": "code",
      "execution_count": null,
      "metadata": {
        "id": "D5sV_Dyv0WWy"
      },
      "outputs": [],
      "source": [
        "#transform rating data\n",
        "def transform_rating_data(rating_text):\n",
        "  if pd.isnull(rating_text):\n",
        "    return None\n",
        "  rating_num = int(rating_text.replace('\"',\"\").split(\".\")[0])\n",
        "  return rating_num\n",
        "\n",
        "rating_columns = [\"Ambience And Atmosphere\",\t\"Curriculum and Activities\",\t\"Visit Booking Process\",\t\"Environment And Facilities\",\t\"Information and Experience\",\t\"Questions\",'Nutritious Meals', 'Value For Money']\n",
        "rating_columns_num = []\n",
        "for col in rating_columns:\n",
        "  new_col = col + \"_numerical\"\n",
        "  df[new_col] = df[col].apply(lambda x:transform_rating_data(x))\n",
        "  rating_columns_num.append(new_col)"
      ]
    },
    {
      "cell_type": "code",
      "execution_count": null,
      "metadata": {
        "colab": {
          "base_uri": "https://localhost:8080/"
        },
        "id": "3dVAu6-g2DI0",
        "outputId": "d659f0a2-fea7-4a67-d073-252d6b69dc17"
      },
      "outputs": [
        {
          "output_type": "execute_result",
          "data": {
            "text/plain": [
              "Index(['Area', 'City', 'NPS', 'NPS Label', 'Ambience And Atmosphere',\n",
              "       'Curriculum and Activities', 'Visit Booking Process',\n",
              "       'Environment And Facilities', 'Information and Experience', 'Questions',\n",
              "       'Nutritious Meals', 'Value For Money', 'Survey Response Date [GMT]',\n",
              "       'Responded Week Starting on [GMT]', 'Survey Sent Date [GMT]',\n",
              "       'Start Date', 'NPS Feedback Categories',\n",
              "       'Improvement Feedback Categories', 'Response Month (YYYY-MM)',\n",
              "       'Response Year (YYYY)', 'Response Quarter (YYYY-Q#)', 'Workflow Status',\n",
              "       'Last Modified Date', 'Division', 'Ambience And Atmosphere_numerical',\n",
              "       'Curriculum and Activities_numerical',\n",
              "       'Visit Booking Process_numerical',\n",
              "       'Environment And Facilities_numerical',\n",
              "       'Information and Experience_numerical', 'Questions_numerical',\n",
              "       'Nutritious Meals_numerical', 'Value For Money_numerical'],\n",
              "      dtype='object')"
            ]
          },
          "metadata": {},
          "execution_count": 17
        }
      ],
      "source": [
        "df.columns"
      ]
    },
    {
      "cell_type": "code",
      "execution_count": null,
      "metadata": {
        "id": "chAoD9GE3Msc"
      },
      "outputs": [],
      "source": [
        "#NPS feedback data transformation\n",
        "\n",
        "def get_feedback_categories(feedback):\n",
        "  if pd.isnull(feedback):\n",
        "    return None\n",
        "  return feedback.replace('\"',\"\").split(\",\")\n"
      ]
    },
    {
      "cell_type": "code",
      "execution_count": null,
      "metadata": {
        "id": "up1UoOJvB1Ih"
      },
      "outputs": [],
      "source": [
        "#Create dummies variables for \n",
        "def get_feedback_categories_list(col):\n",
        "  category_list = []\n",
        "  for index, row in df.iterrows():\n",
        "    if pd.isnull(row[col]):\n",
        "      continue\n",
        "    row_categories = get_feedback_categories(row[col])\n",
        "    for categories in row_categories:\n",
        "      if categories in category_list: continue\n",
        "      category_list.append(categories)   \n",
        "\n",
        "  return category_list\n",
        "\n",
        "def add_prefix(list_, prefix):\n",
        "  return [prefix + element for element in list_]\n",
        "\n",
        "def get_dummies(list_, col, prefix):\n",
        "  df[list_] = 0\n",
        "  for index, row in df.iterrows():\n",
        "    if pd.notnull(row[col]):\n",
        "      categories_list = get_feedback_categories(row[col])\n",
        "      df.at[index, add_prefix(categories_list, prefix)] = 1\n",
        "\n",
        "def process_categories_data(col, prefix):\n",
        "  list_ = get_feedback_categories_list(col)\n",
        "  list_ = add_prefix(list_, prefix)\n",
        "  get_dummies(list_, col, prefix)\n",
        "\n",
        "process_categories_data('NPS Feedback Categories', \"NPS_\")\n",
        "process_categories_data('Improvement Feedback Categories', \"Improve_\")"
      ]
    },
    {
      "cell_type": "code",
      "execution_count": null,
      "metadata": {
        "id": "YoCG67yr3QB6"
      },
      "outputs": [],
      "source": [
        "NPS_columns = ['NPS_Campus Directors & Educators', 'NPS_Curriculum & Programs',\n",
        "       'NPS_Environment & Facilities', 'NPS_Communication',\n",
        "       'NPS_Cleanliness & Hygiene', 'NPS_App & Child Updates',\n",
        "       'NPS_Staff Retention & Turnover', 'NPS_Threat of Leaving', 'NPS_Fees',\n",
        "       'NPS_Head Office Interactions', 'NPS_Food & Nutrition',\n",
        "       'NPS_Enrolment Process', 'NPS_Room Transitions',\n",
        "       'NPS_Accounts & Billing Interactions']"
      ]
    },
    {
      "cell_type": "code",
      "execution_count": null,
      "metadata": {
        "colab": {
          "base_uri": "https://localhost:8080/",
          "height": 540
        },
        "id": "WPWwc4Jv1XeO",
        "outputId": "a9dd72f0-4e4c-4fdd-e741-388abbc6c62d"
      },
      "outputs": [
        {
          "output_type": "execute_result",
          "data": {
            "text/plain": [
              "      NPS_Campus Directors & Educators  NPS_Curriculum & Programs  \\\n",
              "0                                    1                          1   \n",
              "1                                    0                          0   \n",
              "2                                    1                          1   \n",
              "3                                    1                          0   \n",
              "4                                    1                          0   \n",
              "...                                ...                        ...   \n",
              "2030                                 1                          1   \n",
              "2031                                 0                          0   \n",
              "2032                                 1                          0   \n",
              "2033                                 1                          0   \n",
              "2034                                 1                          0   \n",
              "\n",
              "      NPS_Environment & Facilities  NPS_Communication  \\\n",
              "0                                1                  0   \n",
              "1                                0                  1   \n",
              "2                                0                  0   \n",
              "3                                0                  1   \n",
              "4                                0                  1   \n",
              "...                            ...                ...   \n",
              "2030                             1                  1   \n",
              "2031                             1                  0   \n",
              "2032                             1                  0   \n",
              "2033                             1                  0   \n",
              "2034                             0                  0   \n",
              "\n",
              "      NPS_Cleanliness & Hygiene  NPS_App & Child Updates  \\\n",
              "0                             0                        0   \n",
              "1                             0                        0   \n",
              "2                             1                        0   \n",
              "3                             0                        1   \n",
              "4                             0                        0   \n",
              "...                         ...                      ...   \n",
              "2030                          0                        1   \n",
              "2031                          1                        0   \n",
              "2032                          0                        0   \n",
              "2033                          0                        0   \n",
              "2034                          0                        0   \n",
              "\n",
              "      NPS_Staff Retention & Turnover  NPS_Threat of Leaving  NPS_Fees  \\\n",
              "0                                  0                      0         0   \n",
              "1                                  0                      0         0   \n",
              "2                                  0                      0         0   \n",
              "3                                  1                      1         0   \n",
              "4                                  0                      0         0   \n",
              "...                              ...                    ...       ...   \n",
              "2030                               0                      0         0   \n",
              "2031                               0                      0         0   \n",
              "2032                               0                      0         0   \n",
              "2033                               0                      0         0   \n",
              "2034                               0                      0         0   \n",
              "\n",
              "      NPS_Head Office Interactions  NPS_Food & Nutrition  \\\n",
              "0                                0                     0   \n",
              "1                                0                     0   \n",
              "2                                0                     0   \n",
              "3                                0                     0   \n",
              "4                                0                     0   \n",
              "...                            ...                   ...   \n",
              "2030                             0                     0   \n",
              "2031                             1                     0   \n",
              "2032                             0                     0   \n",
              "2033                             1                     0   \n",
              "2034                             0                     0   \n",
              "\n",
              "      NPS_Enrolment Process  NPS_Room Transitions  \\\n",
              "0                         0                     0   \n",
              "1                         0                     0   \n",
              "2                         0                     0   \n",
              "3                         0                     0   \n",
              "4                         0                     0   \n",
              "...                     ...                   ...   \n",
              "2030                      0                     0   \n",
              "2031                      0                     0   \n",
              "2032                      0                     0   \n",
              "2033                      0                     0   \n",
              "2034                      0                     0   \n",
              "\n",
              "      NPS_Accounts & Billing Interactions  \n",
              "0                                       0  \n",
              "1                                       0  \n",
              "2                                       0  \n",
              "3                                       0  \n",
              "4                                       0  \n",
              "...                                   ...  \n",
              "2030                                    0  \n",
              "2031                                    0  \n",
              "2032                                    0  \n",
              "2033                                    0  \n",
              "2034                                    0  \n",
              "\n",
              "[2035 rows x 14 columns]"
            ],
            "text/html": [
              "\n",
              "  <div id=\"df-fef1ae60-eaa5-406a-85db-cb098cc0f9d9\">\n",
              "    <div class=\"colab-df-container\">\n",
              "      <div>\n",
              "<style scoped>\n",
              "    .dataframe tbody tr th:only-of-type {\n",
              "        vertical-align: middle;\n",
              "    }\n",
              "\n",
              "    .dataframe tbody tr th {\n",
              "        vertical-align: top;\n",
              "    }\n",
              "\n",
              "    .dataframe thead th {\n",
              "        text-align: right;\n",
              "    }\n",
              "</style>\n",
              "<table border=\"1\" class=\"dataframe\">\n",
              "  <thead>\n",
              "    <tr style=\"text-align: right;\">\n",
              "      <th></th>\n",
              "      <th>NPS_Campus Directors &amp; Educators</th>\n",
              "      <th>NPS_Curriculum &amp; Programs</th>\n",
              "      <th>NPS_Environment &amp; Facilities</th>\n",
              "      <th>NPS_Communication</th>\n",
              "      <th>NPS_Cleanliness &amp; Hygiene</th>\n",
              "      <th>NPS_App &amp; Child Updates</th>\n",
              "      <th>NPS_Staff Retention &amp; Turnover</th>\n",
              "      <th>NPS_Threat of Leaving</th>\n",
              "      <th>NPS_Fees</th>\n",
              "      <th>NPS_Head Office Interactions</th>\n",
              "      <th>NPS_Food &amp; Nutrition</th>\n",
              "      <th>NPS_Enrolment Process</th>\n",
              "      <th>NPS_Room Transitions</th>\n",
              "      <th>NPS_Accounts &amp; Billing Interactions</th>\n",
              "    </tr>\n",
              "  </thead>\n",
              "  <tbody>\n",
              "    <tr>\n",
              "      <th>0</th>\n",
              "      <td>1</td>\n",
              "      <td>1</td>\n",
              "      <td>1</td>\n",
              "      <td>0</td>\n",
              "      <td>0</td>\n",
              "      <td>0</td>\n",
              "      <td>0</td>\n",
              "      <td>0</td>\n",
              "      <td>0</td>\n",
              "      <td>0</td>\n",
              "      <td>0</td>\n",
              "      <td>0</td>\n",
              "      <td>0</td>\n",
              "      <td>0</td>\n",
              "    </tr>\n",
              "    <tr>\n",
              "      <th>1</th>\n",
              "      <td>0</td>\n",
              "      <td>0</td>\n",
              "      <td>0</td>\n",
              "      <td>1</td>\n",
              "      <td>0</td>\n",
              "      <td>0</td>\n",
              "      <td>0</td>\n",
              "      <td>0</td>\n",
              "      <td>0</td>\n",
              "      <td>0</td>\n",
              "      <td>0</td>\n",
              "      <td>0</td>\n",
              "      <td>0</td>\n",
              "      <td>0</td>\n",
              "    </tr>\n",
              "    <tr>\n",
              "      <th>2</th>\n",
              "      <td>1</td>\n",
              "      <td>1</td>\n",
              "      <td>0</td>\n",
              "      <td>0</td>\n",
              "      <td>1</td>\n",
              "      <td>0</td>\n",
              "      <td>0</td>\n",
              "      <td>0</td>\n",
              "      <td>0</td>\n",
              "      <td>0</td>\n",
              "      <td>0</td>\n",
              "      <td>0</td>\n",
              "      <td>0</td>\n",
              "      <td>0</td>\n",
              "    </tr>\n",
              "    <tr>\n",
              "      <th>3</th>\n",
              "      <td>1</td>\n",
              "      <td>0</td>\n",
              "      <td>0</td>\n",
              "      <td>1</td>\n",
              "      <td>0</td>\n",
              "      <td>1</td>\n",
              "      <td>1</td>\n",
              "      <td>1</td>\n",
              "      <td>0</td>\n",
              "      <td>0</td>\n",
              "      <td>0</td>\n",
              "      <td>0</td>\n",
              "      <td>0</td>\n",
              "      <td>0</td>\n",
              "    </tr>\n",
              "    <tr>\n",
              "      <th>4</th>\n",
              "      <td>1</td>\n",
              "      <td>0</td>\n",
              "      <td>0</td>\n",
              "      <td>1</td>\n",
              "      <td>0</td>\n",
              "      <td>0</td>\n",
              "      <td>0</td>\n",
              "      <td>0</td>\n",
              "      <td>0</td>\n",
              "      <td>0</td>\n",
              "      <td>0</td>\n",
              "      <td>0</td>\n",
              "      <td>0</td>\n",
              "      <td>0</td>\n",
              "    </tr>\n",
              "    <tr>\n",
              "      <th>...</th>\n",
              "      <td>...</td>\n",
              "      <td>...</td>\n",
              "      <td>...</td>\n",
              "      <td>...</td>\n",
              "      <td>...</td>\n",
              "      <td>...</td>\n",
              "      <td>...</td>\n",
              "      <td>...</td>\n",
              "      <td>...</td>\n",
              "      <td>...</td>\n",
              "      <td>...</td>\n",
              "      <td>...</td>\n",
              "      <td>...</td>\n",
              "      <td>...</td>\n",
              "    </tr>\n",
              "    <tr>\n",
              "      <th>2030</th>\n",
              "      <td>1</td>\n",
              "      <td>1</td>\n",
              "      <td>1</td>\n",
              "      <td>1</td>\n",
              "      <td>0</td>\n",
              "      <td>1</td>\n",
              "      <td>0</td>\n",
              "      <td>0</td>\n",
              "      <td>0</td>\n",
              "      <td>0</td>\n",
              "      <td>0</td>\n",
              "      <td>0</td>\n",
              "      <td>0</td>\n",
              "      <td>0</td>\n",
              "    </tr>\n",
              "    <tr>\n",
              "      <th>2031</th>\n",
              "      <td>0</td>\n",
              "      <td>0</td>\n",
              "      <td>1</td>\n",
              "      <td>0</td>\n",
              "      <td>1</td>\n",
              "      <td>0</td>\n",
              "      <td>0</td>\n",
              "      <td>0</td>\n",
              "      <td>0</td>\n",
              "      <td>1</td>\n",
              "      <td>0</td>\n",
              "      <td>0</td>\n",
              "      <td>0</td>\n",
              "      <td>0</td>\n",
              "    </tr>\n",
              "    <tr>\n",
              "      <th>2032</th>\n",
              "      <td>1</td>\n",
              "      <td>0</td>\n",
              "      <td>1</td>\n",
              "      <td>0</td>\n",
              "      <td>0</td>\n",
              "      <td>0</td>\n",
              "      <td>0</td>\n",
              "      <td>0</td>\n",
              "      <td>0</td>\n",
              "      <td>0</td>\n",
              "      <td>0</td>\n",
              "      <td>0</td>\n",
              "      <td>0</td>\n",
              "      <td>0</td>\n",
              "    </tr>\n",
              "    <tr>\n",
              "      <th>2033</th>\n",
              "      <td>1</td>\n",
              "      <td>0</td>\n",
              "      <td>1</td>\n",
              "      <td>0</td>\n",
              "      <td>0</td>\n",
              "      <td>0</td>\n",
              "      <td>0</td>\n",
              "      <td>0</td>\n",
              "      <td>0</td>\n",
              "      <td>1</td>\n",
              "      <td>0</td>\n",
              "      <td>0</td>\n",
              "      <td>0</td>\n",
              "      <td>0</td>\n",
              "    </tr>\n",
              "    <tr>\n",
              "      <th>2034</th>\n",
              "      <td>1</td>\n",
              "      <td>0</td>\n",
              "      <td>0</td>\n",
              "      <td>0</td>\n",
              "      <td>0</td>\n",
              "      <td>0</td>\n",
              "      <td>0</td>\n",
              "      <td>0</td>\n",
              "      <td>0</td>\n",
              "      <td>0</td>\n",
              "      <td>0</td>\n",
              "      <td>0</td>\n",
              "      <td>0</td>\n",
              "      <td>0</td>\n",
              "    </tr>\n",
              "  </tbody>\n",
              "</table>\n",
              "<p>2035 rows × 14 columns</p>\n",
              "</div>\n",
              "      <button class=\"colab-df-convert\" onclick=\"convertToInteractive('df-fef1ae60-eaa5-406a-85db-cb098cc0f9d9')\"\n",
              "              title=\"Convert this dataframe to an interactive table.\"\n",
              "              style=\"display:none;\">\n",
              "        \n",
              "  <svg xmlns=\"http://www.w3.org/2000/svg\" height=\"24px\"viewBox=\"0 0 24 24\"\n",
              "       width=\"24px\">\n",
              "    <path d=\"M0 0h24v24H0V0z\" fill=\"none\"/>\n",
              "    <path d=\"M18.56 5.44l.94 2.06.94-2.06 2.06-.94-2.06-.94-.94-2.06-.94 2.06-2.06.94zm-11 1L8.5 8.5l.94-2.06 2.06-.94-2.06-.94L8.5 2.5l-.94 2.06-2.06.94zm10 10l.94 2.06.94-2.06 2.06-.94-2.06-.94-.94-2.06-.94 2.06-2.06.94z\"/><path d=\"M17.41 7.96l-1.37-1.37c-.4-.4-.92-.59-1.43-.59-.52 0-1.04.2-1.43.59L10.3 9.45l-7.72 7.72c-.78.78-.78 2.05 0 2.83L4 21.41c.39.39.9.59 1.41.59.51 0 1.02-.2 1.41-.59l7.78-7.78 2.81-2.81c.8-.78.8-2.07 0-2.86zM5.41 20L4 18.59l7.72-7.72 1.47 1.35L5.41 20z\"/>\n",
              "  </svg>\n",
              "      </button>\n",
              "      \n",
              "  <style>\n",
              "    .colab-df-container {\n",
              "      display:flex;\n",
              "      flex-wrap:wrap;\n",
              "      gap: 12px;\n",
              "    }\n",
              "\n",
              "    .colab-df-convert {\n",
              "      background-color: #E8F0FE;\n",
              "      border: none;\n",
              "      border-radius: 50%;\n",
              "      cursor: pointer;\n",
              "      display: none;\n",
              "      fill: #1967D2;\n",
              "      height: 32px;\n",
              "      padding: 0 0 0 0;\n",
              "      width: 32px;\n",
              "    }\n",
              "\n",
              "    .colab-df-convert:hover {\n",
              "      background-color: #E2EBFA;\n",
              "      box-shadow: 0px 1px 2px rgba(60, 64, 67, 0.3), 0px 1px 3px 1px rgba(60, 64, 67, 0.15);\n",
              "      fill: #174EA6;\n",
              "    }\n",
              "\n",
              "    [theme=dark] .colab-df-convert {\n",
              "      background-color: #3B4455;\n",
              "      fill: #D2E3FC;\n",
              "    }\n",
              "\n",
              "    [theme=dark] .colab-df-convert:hover {\n",
              "      background-color: #434B5C;\n",
              "      box-shadow: 0px 1px 3px 1px rgba(0, 0, 0, 0.15);\n",
              "      filter: drop-shadow(0px 1px 2px rgba(0, 0, 0, 0.3));\n",
              "      fill: #FFFFFF;\n",
              "    }\n",
              "  </style>\n",
              "\n",
              "      <script>\n",
              "        const buttonEl =\n",
              "          document.querySelector('#df-fef1ae60-eaa5-406a-85db-cb098cc0f9d9 button.colab-df-convert');\n",
              "        buttonEl.style.display =\n",
              "          google.colab.kernel.accessAllowed ? 'block' : 'none';\n",
              "\n",
              "        async function convertToInteractive(key) {\n",
              "          const element = document.querySelector('#df-fef1ae60-eaa5-406a-85db-cb098cc0f9d9');\n",
              "          const dataTable =\n",
              "            await google.colab.kernel.invokeFunction('convertToInteractive',\n",
              "                                                     [key], {});\n",
              "          if (!dataTable) return;\n",
              "\n",
              "          const docLinkHtml = 'Like what you see? Visit the ' +\n",
              "            '<a target=\"_blank\" href=https://colab.research.google.com/notebooks/data_table.ipynb>data table notebook</a>'\n",
              "            + ' to learn more about interactive tables.';\n",
              "          element.innerHTML = '';\n",
              "          dataTable['output_type'] = 'display_data';\n",
              "          await google.colab.output.renderOutput(dataTable, element);\n",
              "          const docLink = document.createElement('div');\n",
              "          docLink.innerHTML = docLinkHtml;\n",
              "          element.appendChild(docLink);\n",
              "        }\n",
              "      </script>\n",
              "    </div>\n",
              "  </div>\n",
              "  "
            ]
          },
          "metadata": {},
          "execution_count": 21
        }
      ],
      "source": [
        "df[NPS_columns]"
      ]
    },
    {
      "cell_type": "code",
      "source": [
        "df.to_csv(\"blue_mountain.csv\")"
      ],
      "metadata": {
        "id": "Na7vpoFPpFmE"
      },
      "execution_count": null,
      "outputs": []
    }
  ],
  "metadata": {
    "colab": {
      "provenance": [],
      "collapsed_sections": [
        "YFXWT13q4Zr3",
        "Sli0ZmaeeiML",
        "qAFFxbTnkpR_",
        "LqfZUYNsbU6d",
        "VIrP2YsUKI9x",
        "YngRvOJVOX8E",
        "FEDd1UDt0J7Y"
      ],
      "authorship_tag": "ABX9TyPTmVQWgO/+RAdHEQsemVNj",
      "include_colab_link": true
    },
    "kernelspec": {
      "display_name": "Python 3",
      "name": "python3"
    },
    "language_info": {
      "name": "python"
    }
  },
  "nbformat": 4,
  "nbformat_minor": 0
}